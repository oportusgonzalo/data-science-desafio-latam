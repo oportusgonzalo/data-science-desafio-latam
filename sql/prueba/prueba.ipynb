{
 "cells": [
  {
   "cell_type": "markdown",
   "metadata": {},
   "source": [
    "# 1. Importando librerías"
   ]
  },
  {
   "cell_type": "code",
   "execution_count": 1,
   "metadata": {},
   "outputs": [],
   "source": [
    "%matplotlib inline\n",
    "import pandas as pd\n",
    "import numpy as np\n",
    "import psycopg2 as pg2\n",
    "import csv\n",
    "\n",
    "from sklearn.linear_model import LogisticRegression\n",
    "from sklearn.svm import SVC\n",
    "from sklearn.naive_bayes import BernoulliNB\n",
    "from sklearn.tree import DecisionTreeClassifier\n",
    "from sklearn.ensemble import RandomForestClassifier, GradientBoostingClassifier, AdaBoostClassifier\n",
    "from sklearn.model_selection import train_test_split\n",
    "from sklearn.preprocessing import StandardScaler\n",
    "from sklearn.metrics import classification_report, accuracy_score, roc_curve, roc_auc_score, confusion_matrix\n",
    "\n",
    "import warnings\n",
    "warnings.filterwarnings('ignore')"
   ]
  },
  {
   "cell_type": "markdown",
   "metadata": {},
   "source": [
    "# 2. Leyendo archivos"
   ]
  },
  {
   "cell_type": "code",
   "execution_count": 20,
   "metadata": {},
   "outputs": [],
   "source": [
    "# datos de entrenamiento\n",
    "df_train = pd.read_csv('train_cupid.csv')\n",
    "\n",
    "for col in df_train.columns:\n",
    "    df_train[col] = df_train[col].astype(int)"
   ]
  },
  {
   "cell_type": "code",
   "execution_count": 21,
   "metadata": {},
   "outputs": [],
   "source": [
    "# guardamos columnas\n",
    "columns_all = df_train.columns"
   ]
  },
  {
   "cell_type": "code",
   "execution_count": 3,
   "metadata": {},
   "outputs": [],
   "source": [
    "# datos de validacion\n",
    "df_test = pd.read_csv('test_cupid.csv')\n",
    "\n",
    "for col in df_train.columns:\n",
    "    df_test[col] = df_test[col].astype(int)"
   ]
  },
  {
   "cell_type": "code",
   "execution_count": 4,
   "metadata": {},
   "outputs": [],
   "source": [
    "# saving sets\n",
    "df_train.to_csv('train_cupid.csv', index=False)\n",
    "df_test.to_csv('test_cupid.csv', index=False)"
   ]
  },
  {
   "cell_type": "code",
   "execution_count": 5,
   "metadata": {},
   "outputs": [],
   "source": [
    "#print(pd.io.sql.get_schema(df_train.reset_index(), 'train_data'))"
   ]
  },
  {
   "cell_type": "markdown",
   "metadata": {},
   "source": [
    "# 3. Creando base de datos e importando tablas"
   ]
  },
  {
   "cell_type": "code",
   "execution_count": 6,
   "metadata": {},
   "outputs": [],
   "source": [
    "# conectando\n",
    "user = 'postgres'\n",
    "password = 'moeg231@'\n",
    "conn_db = pg2.connect(f\"user={user} password={password}\")"
   ]
  },
  {
   "cell_type": "code",
   "execution_count": 9,
   "metadata": {},
   "outputs": [],
   "source": [
    "# creando BD\n",
    "conn_db.autocommit = True\n",
    "cursor = conn_db.cursor()\n",
    "cursor.execute('CREATE DATABASE apellido_nombre')"
   ]
  },
  {
   "cell_type": "code",
   "execution_count": 26,
   "metadata": {},
   "outputs": [],
   "source": [
    "# creando tablas\n",
    "for table_ in ['train_data', 'test_data']:\n",
    "    cursor.execute(f'create table {table_} (\\\n",
    "            \"age\" INTEGER,\\\n",
    "            \"height\" INTEGER,\\\n",
    "            \"virgo\" INTEGER,\\\n",
    "            \"taurus\" INTEGER,\\\n",
    "            \"scorpio\" INTEGER,\\\n",
    "            \"pisces\" INTEGER,\\\n",
    "            \"libra\" INTEGER,\\\n",
    "            \"leo\" INTEGER,\\\n",
    "            \"gemini\" INTEGER,\\\n",
    "            \"aries\" INTEGER,\\\n",
    "            \"aquarius\" INTEGER,\\\n",
    "            \"cancer\" INTEGER,\\\n",
    "            \"sagittarius\" INTEGER,\\\n",
    "            \"asian\" INTEGER,\\\n",
    "            \"hispanic_latin\" INTEGER,\\\n",
    "            \"black\" INTEGER,\\\n",
    "            \"indian\" INTEGER,\\\n",
    "            \"pacific_islander\" INTEGER,\\\n",
    "            \"native_american\" INTEGER,\\\n",
    "            \"middle_eastern\" INTEGER,\\\n",
    "            \"colorado\" INTEGER,\\\n",
    "            \"new_york\" INTEGER,\\\n",
    "            \"oregon\" INTEGER,\\\n",
    "            \"arizona\" INTEGER,\\\n",
    "            \"hawaii\" INTEGER,\\\n",
    "            \"montana\" INTEGER,\\\n",
    "            \"wisconsin\" INTEGER,\\\n",
    "            \"virginia\" INTEGER,\\\n",
    "            \"spain\" INTEGER,\\\n",
    "            \"nevada\" INTEGER,\\\n",
    "            \"illinois\" INTEGER,\\\n",
    "            \"vietnam\" INTEGER,\\\n",
    "            \"ireland\" INTEGER,\\\n",
    "            \"louisiana\" INTEGER,\\\n",
    "            \"michigan\" INTEGER,\\\n",
    "            \"texas\" INTEGER,\\\n",
    "            \"united_kingdom\" INTEGER,\\\n",
    "            \"massachusetts\" INTEGER,\\\n",
    "            \"north_carolina\" INTEGER,\\\n",
    "            \"idaho\" INTEGER,\\\n",
    "            \"mississippi\" INTEGER,\\\n",
    "            \"new_jersey\" INTEGER,\\\n",
    "            \"florida\" INTEGER,\\\n",
    "            \"minnesota\" INTEGER,\\\n",
    "            \"georgia\" INTEGER,\\\n",
    "            \"utah\" INTEGER,\\\n",
    "            \"washington\" INTEGER,\\\n",
    "            \"west_virginia\" INTEGER,\\\n",
    "            \"connecticut\" INTEGER,\\\n",
    "            \"tennessee\" INTEGER,\\\n",
    "            \"rhode_island\" INTEGER,\\\n",
    "            \"district_of_columbia\" INTEGER,\\\n",
    "            \"canada\" INTEGER,\\\n",
    "            \"missouri\" INTEGER,\\\n",
    "            \"germany\" INTEGER,\\\n",
    "            \"pennsylvania\" INTEGER,\\\n",
    "            \"netherlands\" INTEGER,\\\n",
    "            \"switzerland\" INTEGER,\\\n",
    "            \"mexico\" INTEGER,\\\n",
    "            \"ohio\" INTEGER,\\\n",
    "            \"agnosticism\" INTEGER,\\\n",
    "            \"atheism\" INTEGER,\\\n",
    "            \"catholicism\" INTEGER,\\\n",
    "            \"buddhism\" INTEGER,\\\n",
    "            \"judaism\" INTEGER,\\\n",
    "            \"hinduism\" INTEGER,\\\n",
    "            \"islam\" INTEGER,\\\n",
    "            \"pro_dogs\" INTEGER,\\\n",
    "            \"pro_cats\" INTEGER,\\\n",
    "            \"spanish\" INTEGER,\\\n",
    "            \"chinese\" INTEGER,\\\n",
    "            \"french\" INTEGER,\\\n",
    "            \"german\" INTEGER,\\\n",
    "            \"single\" INTEGER,\\\n",
    "            \"seeing_someone\" INTEGER,\\\n",
    "            \"available\" INTEGER,\\\n",
    "            \"employed\" INTEGER,\\\n",
    "            \"income_between_25_50\" INTEGER,\\\n",
    "            \"income_between_50_75\" INTEGER,\\\n",
    "            \"income_over_75\" INTEGER,\\\n",
    "            \"drugs_often\" INTEGER,\\\n",
    "            \"drugs_sometimes\" INTEGER,\\\n",
    "            \"drinks_not_at_all\" INTEGER,\\\n",
    "            \"drinks_often\" INTEGER,\\\n",
    "            \"drinks_rarely\" INTEGER,\\\n",
    "            \"drinks_socially\" INTEGER,\\\n",
    "            \"drinks_very_often\" INTEGER,\\\n",
    "            \"orientation_gay\" INTEGER,\\\n",
    "            \"orientation_straight\" INTEGER,\\\n",
    "            \"sex_m\" INTEGER,\\\n",
    "            \"smokes_sometimes\" INTEGER,\\\n",
    "            \"smokes_trying_to_quit\" INTEGER,\\\n",
    "            \"smokes_when_drinking\" INTEGER,\\\n",
    "            \"smokes_yes\" INTEGER,\\\n",
    "            \"body_type_overweight\" INTEGER,\\\n",
    "            \"body_type_regular\" INTEGER,\\\n",
    "            \"education_high_school\" INTEGER,\\\n",
    "            \"education_undergrad_university\" INTEGER);')"
   ]
  },
  {
   "cell_type": "code",
   "execution_count": 27,
   "metadata": {},
   "outputs": [],
   "source": [
    "# set de columnas\n",
    "train_set = 'train_data values ('\n",
    "test_set = 'test_data values ('\n",
    "\n",
    "for col in df_train.columns[df_train.columns != 'index']:\n",
    "    if col != 'education_undergrad_university':\n",
    "        train_set += '%s' + ', '\n",
    "        test_set += '%s' + ', '\n",
    "    else:\n",
    "        train_set += '%s'\n",
    "        test_set += '%s'\n",
    "\n",
    "train_set += ')'\n",
    "test_set += ')'"
   ]
  },
  {
   "cell_type": "code",
   "execution_count": 28,
   "metadata": {},
   "outputs": [],
   "source": [
    "# ingestamos datos de entrenamiento y validacion a las tablas respectivas en nuestra base de datos\n",
    "for set_ in ['train_cupid', 'test_cupid']:\n",
    "    with open(f'./{set_}.csv', 'r') as file:\n",
    "        reader = csv.reader(file)\n",
    "        next(reader)\n",
    "        \n",
    "        if set_ == 'train_cupid':\n",
    "            insert_string = train_set\n",
    "        else:\n",
    "            insert_string = test_set\n",
    "\n",
    "        for row in reader:\n",
    "            cursor.execute(f\"INSERT INTO {insert_string}\", row)"
   ]
  },
  {
   "cell_type": "code",
   "execution_count": 29,
   "metadata": {},
   "outputs": [],
   "source": [
    "conn_db.commit()"
   ]
  },
  {
   "cell_type": "markdown",
   "metadata": {},
   "source": [
    "# 4. Entrenamiento de los modelos"
   ]
  },
  {
   "cell_type": "code",
   "execution_count": 45,
   "metadata": {},
   "outputs": [],
   "source": [
    "# conjunto de entrenamiento\n",
    "cursor.execute(\"SELECT * FROM train_data;\")\n",
    "columnas_train = cursor.fetchall()\n",
    "X_train = pd.DataFrame(list(columnas_train))\n",
    "X_train.columns = columns_all"
   ]
  },
  {
   "cell_type": "code",
   "execution_count": 46,
   "metadata": {},
   "outputs": [],
   "source": [
    "# separando variables objetivo\n",
    "y_single_train = X_train['single']\n",
    "y_seeing_train = X_train['seeing_someone']\n",
    "y_aval_train = X_train['available']"
   ]
  },
  {
   "cell_type": "code",
   "execution_count": 47,
   "metadata": {},
   "outputs": [],
   "source": [
    "# eliminando variables objetivo de la matriz de atributos\n",
    "X_train = X_train.drop(['single', 'seeing_someone', 'available'], axis=1)"
   ]
  },
  {
   "cell_type": "code",
   "execution_count": 48,
   "metadata": {},
   "outputs": [],
   "source": [
    "# definicion de modelos a implementar\n",
    "model_dict = {\n",
    "    'logistic': LogisticRegression(), \n",
    "    'dec_tree': DecisionTreeClassifier(max_depth=5), \n",
    "    'rdm_forest': RandomForestClassifier(max_depth=5),\n",
    "    'grad_boost': GradientBoostingClassifier(),  \n",
    "    'ada_boost': AdaBoostClassifier(base_estimator=DecisionTreeClassifier(max_depth=5)),\n",
    "    'bernoulli': BernoulliNB(), \n",
    "    'svc': SVC(kernel='rbf')\n",
    "    }"
   ]
  },
  {
   "cell_type": "code",
   "execution_count": null,
   "metadata": {},
   "outputs": [],
   "source": [
    "for name_, model_ in model_dict.items():\n",
    "    for var_ in [y_single_train, y_seeing_train, y_aval_train]:\n",
    "        \n",
    "        'model_{}_{}'.format( name_, var_) = model_.fit(X_train, var_)"
   ]
  }
 ],
 "metadata": {
  "kernelspec": {
   "display_name": "Python 3.9.13 ('venv-ml')",
   "language": "python",
   "name": "python3"
  },
  "language_info": {
   "codemirror_mode": {
    "name": "ipython",
    "version": 3
   },
   "file_extension": ".py",
   "mimetype": "text/x-python",
   "name": "python",
   "nbconvert_exporter": "python",
   "pygments_lexer": "ipython3",
   "version": "3.9.13"
  },
  "orig_nbformat": 4,
  "vscode": {
   "interpreter": {
    "hash": "b1b303acd0c11ca3b4a72b7c4bcfa9e6d93c50d16ae889b8d4c17cd8b47c442f"
   }
  }
 },
 "nbformat": 4,
 "nbformat_minor": 2
}
