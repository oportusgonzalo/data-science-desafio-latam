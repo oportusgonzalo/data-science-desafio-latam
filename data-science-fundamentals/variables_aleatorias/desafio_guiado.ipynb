{
 "cells": [
  {
   "cell_type": "code",
   "execution_count": 1,
   "id": "06d67fd2",
   "metadata": {},
   "outputs": [],
   "source": [
    "%matplotlib inline\n",
    "\n",
    "import matplotlib.pyplot as plt\n",
    "plt.style.use('seaborn-whitegrid')\n",
    "plt.rcParams[\"figure.figsize\"] = (10, 6)"
   ]
  },
  {
   "cell_type": "code",
   "execution_count": 2,
   "id": "08899a80",
   "metadata": {},
   "outputs": [],
   "source": [
    "import pandas as pd"
   ]
  },
  {
   "cell_type": "code",
   "execution_count": 3,
   "id": "6ed7504b",
   "metadata": {},
   "outputs": [],
   "source": [
    "df = pd.read_csv('data_apoyo/qog_std_cs_jan18.csv')"
   ]
  },
  {
   "cell_type": "code",
   "execution_count": 4,
   "id": "b00f1356",
   "metadata": {},
   "outputs": [],
   "source": [
    "# seleccion 50% de los casos\n",
    "# random_state=1234 semilla aleatoria (ultimos digitos rut, supuesto)\n",
    "df_frac = df.sample(frac=.5, random_state=1234)"
   ]
  },
  {
   "cell_type": "code",
   "execution_count": 5,
   "id": "2cc438be",
   "metadata": {},
   "outputs": [],
   "source": [
    "cods = [1,2,3,4,5,6,7,8,9,10]\n",
    "nombres = ['EastEurope', 'LatAm', 'NorthAfrica','SubSaharian', 'WesternDem',\n",
    "            'EastAsia','SouthEastAsia','SouthAsia', 'Pacific', 'Caribbean' ]\n",
    "\n",
    "# apellido terrazas\n",
    "columnas_nz = ['cname', 'ccodealp','ht_region', 'gle_cgdpc', 'undp_hdi','imf_pop',\n",
    "               'wef_imort', 'who_alc2000', 'who_tobt','wdi_exph']\n"
   ]
  },
  {
   "cell_type": "code",
   "execution_count": 6,
   "id": "19c0eefb",
   "metadata": {},
   "outputs": [],
   "source": [
    "# ocupamos columnas nz por apellido del profe terrazas\n",
    "df_frac = df_frac.loc[:, columnas_nz]"
   ]
  },
  {
   "cell_type": "code",
   "execution_count": 7,
   "id": "c83fd455",
   "metadata": {},
   "outputs": [],
   "source": [
    "# renombres regiones\n",
    "df_frac['ht_region'] = df_frac['ht_region'].replace(cods, nombres)"
   ]
  },
  {
   "cell_type": "markdown",
   "id": "1b3868e6",
   "metadata": {},
   "source": [
    "## 2\n",
    "\n",
    "Reportar estadisticas para: gle_cgdpc, undp_hdi, imf_pop"
   ]
  },
  {
   "cell_type": "code",
   "execution_count": 8,
   "id": "68848d17",
   "metadata": {},
   "outputs": [],
   "source": [
    "# python por defecto con el describe() devuelve medidas descriptivas para variables continuas\n",
    "# y frecuencia para variables discretas\n",
    "\n",
    "def get_descriptive(df, columnas):\n",
    "    for k, v in df.iteritems():\n",
    "        if k in columnas:\n",
    "            print(f'{k}:')\n",
    "            print(v.describe())\n",
    "            print('-'*90)"
   ]
  },
  {
   "cell_type": "code",
   "execution_count": 9,
   "id": "16d5a23f",
   "metadata": {},
   "outputs": [
    {
     "name": "stdout",
     "output_type": "stream",
     "text": [
      "gle_cgdpc:\n",
      "count        96.000000\n",
      "mean      15676.866471\n",
      "std       21061.300373\n",
      "min         488.269990\n",
      "25%        2850.155000\n",
      "50%        9337.989750\n",
      "75%       18093.010250\n",
      "max      108481.130000\n",
      "Name: gle_cgdpc, dtype: float64\n",
      "------------------------------------------------------------------------------------------\n",
      "undp_hdi:\n",
      "count    94.000000\n",
      "mean      0.700628\n",
      "std       0.156066\n",
      "min       0.347000\n",
      "25%       0.567500\n",
      "50%       0.734500\n",
      "75%       0.818250\n",
      "max       0.938000\n",
      "Name: undp_hdi, dtype: float64\n",
      "------------------------------------------------------------------------------------------\n",
      "imf_pop:\n",
      "count     73.000000\n",
      "mean      26.257151\n",
      "std       46.742281\n",
      "min        0.012000\n",
      "25%        2.045000\n",
      "50%        8.544000\n",
      "75%       30.709000\n",
      "max      252.164993\n",
      "Name: imf_pop, dtype: float64\n",
      "------------------------------------------------------------------------------------------\n"
     ]
    }
   ],
   "source": [
    "columnas = ['gle_cgdpc', 'undp_hdi', 'imf_pop']\n",
    "get_descriptive(df_frac, columnas)"
   ]
  },
  {
   "cell_type": "markdown",
   "id": "e1808433",
   "metadata": {},
   "source": [
    "## 3"
   ]
  },
  {
   "cell_type": "code",
   "execution_count": 10,
   "id": "00fd4b66",
   "metadata": {},
   "outputs": [],
   "source": [
    "def missing_cases(df, var, print_list=False):\n",
    "    tmp = df.copy()\n",
    "    tmp['flagnull'] = tmp[var].isnull()\n",
    "    count_na = 0\n",
    "    for i, r in tmp.iterrows():\n",
    "        if r['flagnull'] is True:\n",
    "            count_na += 1\n",
    "            if print_list == True:\n",
    "                print(r['cname'])\n",
    "    \n",
    "    print('Casos nulos para {}: {}'.format(var, count_na))\n",
    "    print('Porcentaje nulos para {}: {}'.format(var, count_na/df.shape[0]))"
   ]
  },
  {
   "cell_type": "code",
   "execution_count": 11,
   "id": "d408308e",
   "metadata": {},
   "outputs": [
    {
     "name": "stdout",
     "output_type": "stream",
     "text": [
      "Casos nulos para cname: 0\n",
      "Porcentaje nulos para cname: 0.0\n",
      "----------------------------------------------------------------------------------------------------\n",
      "Casos nulos para ccodealp: 0\n",
      "Porcentaje nulos para ccodealp: 0.0\n",
      "----------------------------------------------------------------------------------------------------\n",
      "Casos nulos para ht_region: 0\n",
      "Porcentaje nulos para ht_region: 0.0\n",
      "----------------------------------------------------------------------------------------------------\n",
      "Casos nulos para gle_cgdpc: 2\n",
      "Porcentaje nulos para gle_cgdpc: 0.010309278350515464\n",
      "----------------------------------------------------------------------------------------------------\n",
      "Casos nulos para undp_hdi: 8\n",
      "Porcentaje nulos para undp_hdi: 0.041237113402061855\n",
      "----------------------------------------------------------------------------------------------------\n",
      "Casos nulos para imf_pop: 49\n",
      "Porcentaje nulos para imf_pop: 0.25257731958762886\n",
      "----------------------------------------------------------------------------------------------------\n",
      "Casos nulos para wef_imort: 44\n",
      "Porcentaje nulos para wef_imort: 0.2268041237113402\n",
      "----------------------------------------------------------------------------------------------------\n",
      "Casos nulos para who_alc2000: 12\n",
      "Porcentaje nulos para who_alc2000: 0.061855670103092786\n",
      "----------------------------------------------------------------------------------------------------\n",
      "Casos nulos para who_tobt: 70\n",
      "Porcentaje nulos para who_tobt: 0.36082474226804123\n",
      "----------------------------------------------------------------------------------------------------\n",
      "Casos nulos para wdi_exph: 4\n",
      "Porcentaje nulos para wdi_exph: 0.020618556701030927\n",
      "----------------------------------------------------------------------------------------------------\n"
     ]
    }
   ],
   "source": [
    "for col in df_frac.columns:\n",
    "    missing_cases(df, var=col, print_list=False)\n",
    "    print('-'*100)"
   ]
  },
  {
   "cell_type": "code",
   "execution_count": 12,
   "id": "2ac23cf1",
   "metadata": {},
   "outputs": [
    {
     "name": "stdout",
     "output_type": "stream",
     "text": [
      "Albania\n",
      "Andorra\n",
      "Antigua and Barbuda\n",
      "Botswana\n",
      "Burundi\n",
      "Cameroon\n",
      "Central African Republic\n",
      "Chad\n",
      "China\n",
      "Congo\n",
      "Congo, Democratic Republic\n",
      "Costa Rica\n",
      "Cuba\n",
      "Dominica\n",
      "Dominican Republic\n",
      "El Salvador\n",
      "Equatorial Guinea\n",
      "Eritrea\n",
      "Djibouti\n",
      "Gabon\n",
      "Gambia\n",
      "Ghana\n",
      "Grenada\n",
      "Guatemala\n",
      "Haiti\n",
      "Honduras\n",
      "India\n",
      "Korea, North\n",
      "Lesotho\n",
      "Liberia\n",
      "Liechtenstein\n",
      "Madagascar\n",
      "Monaco\n",
      "Namibia\n",
      "Niger\n",
      "Guinea-Bissau\n",
      "St Kitts and Nevis\n",
      "Sao Tome and Principe\n",
      "Senegal\n",
      "Somalia\n",
      "South Sudan\n",
      "Sudan (2012-)\n",
      "Syria\n",
      "United Arab Emirates\n",
      "Tunisia\n",
      "Turkmenistan\n",
      "Venezuela\n",
      "Yemen\n",
      "Zambia\n",
      "Casos nulos para imf_pop: 49\n",
      "Porcentaje nulos para imf_pop: 0.25257731958762886\n",
      "------------------------------------------------------------------------------------------\n",
      "Afghanistan\n",
      "Andorra\n",
      "Antigua and Barbuda\n",
      "Bahamas\n",
      "Solomon Islands\n",
      "Belarus\n",
      "Central African Republic\n",
      "Comoros\n",
      "Congo\n",
      "Cuba\n",
      "Dominica\n",
      "Equatorial Guinea\n",
      "Eritrea\n",
      "Fiji\n",
      "Djibouti\n",
      "Kiribati\n",
      "Grenada\n",
      "Iraq\n",
      "Korea, North\n",
      "Liechtenstein\n",
      "Maldives\n",
      "Monaco\n",
      "Nauru\n",
      "Vanuatu\n",
      "Niger\n",
      "Micronesia\n",
      "Marshall Islands\n",
      "Palau\n",
      "Papua New Guinea\n",
      "Guinea-Bissau\n",
      "St Kitts and Nevis\n",
      "St Lucia\n",
      "St Vincent and the Grenadines\n",
      "San Marino\n",
      "Sao Tome and Principe\n",
      "Somalia\n",
      "South Sudan\n",
      "Sudan (2012-)\n",
      "Togo\n",
      "Tonga\n",
      "Turkmenistan\n",
      "Tuvalu\n",
      "Uzbekistan\n",
      "Samoa\n",
      "Casos nulos para wef_imort: 44\n",
      "Porcentaje nulos para wef_imort: 0.2268041237113402\n",
      "------------------------------------------------------------------------------------------\n",
      "Afghanistan\n",
      "Algeria\n",
      "Angola\n",
      "Antigua and Barbuda\n",
      "Austria\n",
      "Bahamas\n",
      "Bhutan\n",
      "Bolivia\n",
      "Botswana\n",
      "Belize\n",
      "Solomon Islands\n",
      "Burundi\n",
      "Central African Republic\n",
      "Chad\n",
      "Taiwan\n",
      "Congo, Democratic Republic\n",
      "Cyprus (1975-)\n",
      "Dominica\n",
      "El Salvador\n",
      "Equatorial Guinea\n",
      "Eritrea\n",
      "Djibouti\n",
      "Gabon\n",
      "Gambia\n",
      "Grenada\n",
      "Guatemala\n",
      "Guinea\n",
      "Guyana\n",
      "Iraq\n",
      "Cote d'Ivoire\n",
      "Korea, North\n",
      "Kuwait\n",
      "Libya\n",
      "Liechtenstein\n",
      "Madagascar\n",
      "Maldives\n",
      "Monaco\n",
      "Montenegro\n",
      "Vanuatu\n",
      "Nicaragua\n",
      "Micronesia\n",
      "Marshall Islands\n",
      "Palau\n",
      "Papua New Guinea\n",
      "Peru\n",
      "Guinea-Bissau\n",
      "Timor-Leste\n",
      "Qatar\n",
      "Rwanda\n",
      "St Kitts and Nevis\n",
      "St Lucia\n",
      "St Vincent and the Grenadines\n",
      "San Marino\n",
      "Sao Tome and Principe\n",
      "Somalia\n",
      "Zimbabwe\n",
      "South Sudan\n",
      "Sudan (2012-)\n",
      "Suriname\n",
      "Syria\n",
      "Tajikistan\n",
      "Togo\n",
      "Trinidad and Tobago\n",
      "United Arab Emirates\n",
      "Tunisia\n",
      "Turkmenistan\n",
      "Tuvalu\n",
      "Macedonia\n",
      "Venezuela\n",
      "Yemen\n",
      "Casos nulos para who_tobt: 70\n",
      "Porcentaje nulos para who_tobt: 0.36082474226804123\n",
      "------------------------------------------------------------------------------------------\n"
     ]
    }
   ],
   "source": [
    "for col in ['imf_pop', 'wef_imort', 'who_tobt']:\n",
    "    missing_cases(df, var=col, print_list=True)\n",
    "    print('-'*90)"
   ]
  },
  {
   "cell_type": "markdown",
   "id": "4e155997",
   "metadata": {},
   "source": [
    "## 4"
   ]
  },
  {
   "cell_type": "code",
   "execution_count": 13,
   "id": "c391887d",
   "metadata": {},
   "outputs": [
    {
     "data": {
      "text/plain": [
       "'Funcion que plotea un histograma de una variable. Ademas agrega lineas verticales\\ncon la media del sample_df o el dataframe global en caso de ser solicitado.'"
      ]
     },
     "execution_count": 13,
     "metadata": {},
     "output_type": "execute_result"
    }
   ],
   "source": [
    "'''Funcion que plotea un histograma de una variable. Ademas agrega lineas verticales\n",
    "con la media del sample_df o el dataframe global en caso de ser solicitado.'''"
   ]
  },
  {
   "cell_type": "code",
   "execution_count": 14,
   "id": "50a5d827",
   "metadata": {},
   "outputs": [],
   "source": [
    "def hist_plot(sample_df, full_df, var, sample_mean=False, true_mean=False):\n",
    "    plt.hist(sample_df[var].dropna(), color='grey', alpha=.5)\n",
    "    plt.title('Histograma: {}'.format(var))\n",
    "    if sample_mean is True:\n",
    "        plt.axvline(sample_df[var].mean(), color='blue', lw=3)\n",
    "    if true_mean is True:\n",
    "        plt.axvline(full_df[var].mean(), color='red', lw=3)\n",
    "    plt.show()"
   ]
  },
  {
   "cell_type": "markdown",
   "id": "0022f32e",
   "metadata": {},
   "source": [
    "#### recordamos que df_frac posee un 50% de los datos"
   ]
  },
  {
   "cell_type": "code",
   "execution_count": 15,
   "id": "ee47c466",
   "metadata": {},
   "outputs": [
    {
     "data": {
      "image/png": "[encoded data removed]",
      "text/plain": [
       "<Figure size 720x432 with 1 Axes>"
      ]
     },
     "metadata": {},
     "output_type": "display_data"
    },
    {
     "data": {
      "image/png": "[encoded data removed]",
      "text/plain": [
       "<Figure size 720x432 with 1 Axes>"
      ]
     },
     "metadata": {},
     "output_type": "display_data"
    },
    {
     "data": {
      "image/png": "[encoded data removed]",
      "text/plain": [
       "<Figure size 720x432 with 1 Axes>"
      ]
     },
     "metadata": {},
     "output_type": "display_data"
    },
    {
     "data": {
      "image/png": "[encoded data removed]",
      "text/plain": [
       "<Figure size 720x432 with 1 Axes>"
      ]
     },
     "metadata": {},
     "output_type": "display_data"
    }
   ],
   "source": [
    "# ocupamos columnas que fueron agregadas de acuerdo al apellido\n",
    "for col in ['wef_imort', 'who_alc2000', 'who_tobt','wdi_exph']:\n",
    "    hist_plot(df_frac, df, col, sample_mean=True, true_mean=True)"
   ]
  },
  {
   "cell_type": "markdown",
   "id": "ea2cb9ea",
   "metadata": {},
   "source": [
    "## 5"
   ]
  },
  {
   "cell_type": "code",
   "execution_count": 16,
   "id": "caba5885",
   "metadata": {},
   "outputs": [],
   "source": [
    "# dotplot por region geografica (agrupando por la media)"
   ]
  },
  {
   "cell_type": "code",
   "execution_count": 17,
   "id": "6fed5ae0",
   "metadata": {},
   "outputs": [],
   "source": [
    "def dot_plot(df, plot_var, plot_by='ht_region', statistic='mean', global_stat=False):\n",
    "    tmp = df.loc[:, [plot_var, plot_by]]\n",
    "    tmp = df.groupby(plot_by).agg({plot_var: statistic})\n",
    "    plt.plot(tmp.values, tmp.index, 'o', color='grey')\n",
    "    plt.title('Dotplot {} by {}'.format(plot_by, plot_var))\n",
    "    if statistic == 'mean':\n",
    "        plt.axvline(tmp[plot_var].mean(), color='red', linestyle='--')\n",
    "    if statistic == 'median':\n",
    "        plt.axvline(tmp[plot_var].median(), color='blue', linestyle='--')\n",
    "    plt.show()"
   ]
  },
  {
   "cell_type": "code",
   "execution_count": 18,
   "id": "55fc9a21",
   "metadata": {},
   "outputs": [
    {
     "data": {
      "image/png": "[encoded data removed]",
      "text/plain": [
       "<Figure size 720x432 with 1 Axes>"
      ]
     },
     "metadata": {},
     "output_type": "display_data"
    },
    {
     "data": {
      "image/png": "[encoded data removed]",
      "text/plain": [
       "<Figure size 720x432 with 1 Axes>"
      ]
     },
     "metadata": {},
     "output_type": "display_data"
    },
    {
     "data": {
      "image/png": "[encoded data removed]",
      "text/plain": [
       "<Figure size 720x432 with 1 Axes>"
      ]
     },
     "metadata": {},
     "output_type": "display_data"
    }
   ],
   "source": [
    "for col in ['imf_pop', 'wef_imort', 'who_tobt']:\n",
    "    dot_plot(df, col, plot_by='ht_region', statistic='median', global_stat=False)"
   ]
  },
  {
   "cell_type": "code",
   "execution_count": null,
   "id": "161846f5",
   "metadata": {},
   "outputs": [],
   "source": []
  },
  {
   "cell_type": "code",
   "execution_count": null,
   "id": "4376b0f0",
   "metadata": {},
   "outputs": [],
   "source": []
  }
 ],
 "metadata": {
  "kernelspec": {
   "display_name": "Python 3 (ipykernel)",
   "language": "python",
   "name": "python3"
  },
  "language_info": {
   "codemirror_mode": {
    "name": "ipython",
    "version": 3
   },
   "file_extension": ".py",
   "mimetype": "text/x-python",
   "name": "python",
   "nbconvert_exporter": "python",
   "pygments_lexer": "ipython3",
   "version": "3.9.10"
  }
 },
 "nbformat": 4,
 "nbformat_minor": 5
}
