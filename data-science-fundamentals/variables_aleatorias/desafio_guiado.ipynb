{
 "cells": [
  {
   "cell_type": "code",
   "execution_count": 1,
   "id": "2182c7e2",
   "metadata": {},
   "outputs": [],
   "source": [
    "%matplotlib inline\n",
    "\n",
    "import matplotlib.pyplot as plt\n",
    "plt.style.use('seaborn-whitegrid')\n",
    "plt.rcParams[\"figure.figsize\"] = (10, 6)"
   ]
  },
  {
   "cell_type": "code",
   "execution_count": 2,
   "id": "82a6797f",
   "metadata": {},
   "outputs": [],
   "source": [
    "import pandas as pd"
   ]
  },
  {
   "cell_type": "code",
   "execution_count": 3,
   "id": "d72ff34e",
   "metadata": {},
   "outputs": [],
   "source": [
    "df = pd.read_csv('data_apoyo/qog_std_cs_jan18.csv')"
   ]
  },
  {
   "cell_type": "code",
   "execution_count": 4,
   "id": "0bcfb01e",
   "metadata": {},
   "outputs": [],
   "source": [
    "# seleccion 50% de los casos\n",
    "# random_state=9625 semilla aleatoria (ultimos digitos rut)\n",
    "df_frac = df.sample(frac=.5, random_state=9625)"
   ]
  },
  {
   "cell_type": "code",
   "execution_count": 5,
   "id": "25e88f8c",
   "metadata": {},
   "outputs": [],
   "source": [
    "cods = [1, 2, 3, 4, 5, 6, 7, 8, 9, 10]\n",
    "nombres = ['EastEurope', 'LatAm', 'NorthAfrica','SubSaharian', 'WesternDem',\n",
    "            'EastAsia','SouthEastAsia','SouthAsia', 'Pacific', 'Caribbean' ]\n",
    "\n",
    "# apellido oportus\n",
    "columnas_op = ['cname', 'ccodealp','ht_region', 'gle_cgdpc', 'undp_hdi','imf_pop',\n",
    "               'wef_imort', 'who_alc2000', 'who_tobt','wdi_exph']\n"
   ]
  },
  {
   "cell_type": "code",
   "execution_count": 6,
   "id": "7e62a4af",
   "metadata": {},
   "outputs": [],
   "source": [
    "# ocupamos columnas nz por apellido del profe terrazas\n",
    "df_frac = df_frac.loc[:, columnas_op]"
   ]
  },
  {
   "cell_type": "code",
   "execution_count": 7,
   "id": "3c7040ef",
   "metadata": {},
   "outputs": [],
   "source": [
    "# renombres regiones\n",
    "df_frac['ht_region'] = df_frac['ht_region'].replace(cods, nombres)"
   ]
  },
  {
   "cell_type": "markdown",
   "id": "b1844990",
   "metadata": {},
   "source": [
    "## 2\n",
    "\n",
    "Reportar estadisticas para: gle_cgdpc, undp_hdi, imf_pop"
   ]
  },
  {
   "cell_type": "code",
   "execution_count": 8,
   "id": "69335bc1",
   "metadata": {},
   "outputs": [],
   "source": [
    "# python por defecto con el describe() devuelve medidas descriptivas para variables continuas\n",
    "# y frecuencia para variables discretas\n",
    "\n",
    "def get_descriptive(df, columnas):\n",
    "    for k, v in df.iteritems():\n",
    "        if k in columnas:\n",
    "            print(f'{k}:')\n",
    "            print(v.describe())\n",
    "            print('-'*90)"
   ]
  },
  {
   "cell_type": "code",
   "execution_count": 9,
   "id": "a9b97e95",
   "metadata": {},
   "outputs": [
    {
     "name": "stdout",
     "output_type": "stream",
     "text": [
      "gle_cgdpc:\n",
      "count        96.000000\n",
      "mean      14425.323692\n",
      "std       19852.083952\n",
      "min         332.269990\n",
      "25%        2871.645000\n",
      "50%        7939.185300\n",
      "75%       17065.470750\n",
      "max      108481.130000\n",
      "Name: gle_cgdpc, dtype: float64\n",
      "------------------------------------------------------------------------------------------\n",
      "undp_hdi:\n",
      "count    91.000000\n",
      "mean      0.703890\n",
      "std       0.148644\n",
      "min       0.347000\n",
      "25%       0.592000\n",
      "50%       0.734000\n",
      "75%       0.824500\n",
      "max       0.937000\n",
      "Name: undp_hdi, dtype: float64\n",
      "------------------------------------------------------------------------------------------\n",
      "imf_pop:\n",
      "count     72.000000\n",
      "mean      26.464069\n",
      "std       39.830810\n",
      "min        0.012000\n",
      "25%        2.057000\n",
      "50%       10.139000\n",
      "75%       33.307499\n",
      "max      186.190002\n",
      "Name: imf_pop, dtype: float64\n",
      "------------------------------------------------------------------------------------------\n"
     ]
    }
   ],
   "source": [
    "columnas = ['gle_cgdpc', 'undp_hdi', 'imf_pop']\n",
    "get_descriptive(df_frac, columnas)"
   ]
  },
  {
   "cell_type": "markdown",
   "id": "b4a7bcf7",
   "metadata": {},
   "source": [
    "## 3"
   ]
  },
  {
   "cell_type": "code",
   "execution_count": 10,
   "id": "339e574e",
   "metadata": {},
   "outputs": [],
   "source": [
    "def missing_cases(df, var, print_list=False):\n",
    "    tmp = df.copy()\n",
    "    tmp['flagnull'] = tmp[var].isnull()\n",
    "    count_na = 0\n",
    "    for i, r in tmp.iterrows():\n",
    "        if r['flagnull'] is True:\n",
    "            count_na += 1\n",
    "            if print_list == True:\n",
    "                print(r['cname'])\n",
    "    \n",
    "    print('Casos nulos para {}: {}'.format(var, count_na))\n",
    "    print('Porcentaje nulos para {}: {}'.format(var, count_na/df.shape[0]))"
   ]
  },
  {
   "cell_type": "code",
   "execution_count": 11,
   "id": "8fbd04c3",
   "metadata": {},
   "outputs": [
    {
     "name": "stdout",
     "output_type": "stream",
     "text": [
      "Casos nulos para cname: 0\n",
      "Porcentaje nulos para cname: 0.0\n",
      "----------------------------------------------------------------------------------------------------\n",
      "Casos nulos para ccodealp: 0\n",
      "Porcentaje nulos para ccodealp: 0.0\n",
      "----------------------------------------------------------------------------------------------------\n",
      "Casos nulos para ht_region: 0\n",
      "Porcentaje nulos para ht_region: 0.0\n",
      "----------------------------------------------------------------------------------------------------\n",
      "Casos nulos para gle_cgdpc: 2\n",
      "Porcentaje nulos para gle_cgdpc: 0.010309278350515464\n",
      "----------------------------------------------------------------------------------------------------\n",
      "Casos nulos para undp_hdi: 8\n",
      "Porcentaje nulos para undp_hdi: 0.041237113402061855\n",
      "----------------------------------------------------------------------------------------------------\n",
      "Casos nulos para imf_pop: 49\n",
      "Porcentaje nulos para imf_pop: 0.25257731958762886\n",
      "----------------------------------------------------------------------------------------------------\n",
      "Casos nulos para wef_imort: 44\n",
      "Porcentaje nulos para wef_imort: 0.2268041237113402\n",
      "----------------------------------------------------------------------------------------------------\n",
      "Casos nulos para who_alc2000: 12\n",
      "Porcentaje nulos para who_alc2000: 0.061855670103092786\n",
      "----------------------------------------------------------------------------------------------------\n",
      "Casos nulos para who_tobt: 70\n",
      "Porcentaje nulos para who_tobt: 0.36082474226804123\n",
      "----------------------------------------------------------------------------------------------------\n",
      "Casos nulos para wdi_exph: 4\n",
      "Porcentaje nulos para wdi_exph: 0.020618556701030927\n",
      "----------------------------------------------------------------------------------------------------\n"
     ]
    }
   ],
   "source": [
    "for col in df_frac.columns:\n",
    "    missing_cases(df, var=col, print_list=False)\n",
    "    print('-'*100)"
   ]
  },
  {
   "cell_type": "code",
   "execution_count": 12,
   "id": "39e8cf12",
   "metadata": {},
   "outputs": [
    {
     "name": "stdout",
     "output_type": "stream",
     "text": [
      "Albania\n",
      "Andorra\n",
      "Antigua and Barbuda\n",
      "Botswana\n",
      "Burundi\n",
      "Cameroon\n",
      "Central African Republic\n",
      "Chad\n",
      "China\n",
      "Congo\n",
      "Congo, Democratic Republic\n",
      "Costa Rica\n",
      "Cuba\n",
      "Dominica\n",
      "Dominican Republic\n",
      "El Salvador\n",
      "Equatorial Guinea\n",
      "Eritrea\n",
      "Djibouti\n",
      "Gabon\n",
      "Gambia\n",
      "Ghana\n",
      "Grenada\n",
      "Guatemala\n",
      "Haiti\n",
      "Honduras\n",
      "India\n",
      "Korea, North\n",
      "Lesotho\n",
      "Liberia\n",
      "Liechtenstein\n",
      "Madagascar\n",
      "Monaco\n",
      "Namibia\n",
      "Niger\n",
      "Guinea-Bissau\n",
      "St Kitts and Nevis\n",
      "Sao Tome and Principe\n",
      "Senegal\n",
      "Somalia\n",
      "South Sudan\n",
      "Sudan (2012-)\n",
      "Syria\n",
      "United Arab Emirates\n",
      "Tunisia\n",
      "Turkmenistan\n",
      "Venezuela\n",
      "Yemen\n",
      "Zambia\n",
      "Casos nulos para imf_pop: 49\n",
      "Porcentaje nulos para imf_pop: 0.25257731958762886\n",
      "------------------------------------------------------------------------------------------\n",
      "Afghanistan\n",
      "Andorra\n",
      "Antigua and Barbuda\n",
      "Bahamas\n",
      "Solomon Islands\n",
      "Belarus\n",
      "Central African Republic\n",
      "Comoros\n",
      "Congo\n",
      "Cuba\n",
      "Dominica\n",
      "Equatorial Guinea\n",
      "Eritrea\n",
      "Fiji\n",
      "Djibouti\n",
      "Kiribati\n",
      "Grenada\n",
      "Iraq\n",
      "Korea, North\n",
      "Liechtenstein\n",
      "Maldives\n",
      "Monaco\n",
      "Nauru\n",
      "Vanuatu\n",
      "Niger\n",
      "Micronesia\n",
      "Marshall Islands\n",
      "Palau\n",
      "Papua New Guinea\n",
      "Guinea-Bissau\n",
      "St Kitts and Nevis\n",
      "St Lucia\n",
      "St Vincent and the Grenadines\n",
      "San Marino\n",
      "Sao Tome and Principe\n",
      "Somalia\n",
      "South Sudan\n",
      "Sudan (2012-)\n",
      "Togo\n",
      "Tonga\n",
      "Turkmenistan\n",
      "Tuvalu\n",
      "Uzbekistan\n",
      "Samoa\n",
      "Casos nulos para wef_imort: 44\n",
      "Porcentaje nulos para wef_imort: 0.2268041237113402\n",
      "------------------------------------------------------------------------------------------\n",
      "Afghanistan\n",
      "Algeria\n",
      "Angola\n",
      "Antigua and Barbuda\n",
      "Austria\n",
      "Bahamas\n",
      "Bhutan\n",
      "Bolivia\n",
      "Botswana\n",
      "Belize\n",
      "Solomon Islands\n",
      "Burundi\n",
      "Central African Republic\n",
      "Chad\n",
      "Taiwan\n",
      "Congo, Democratic Republic\n",
      "Cyprus (1975-)\n",
      "Dominica\n",
      "El Salvador\n",
      "Equatorial Guinea\n",
      "Eritrea\n",
      "Djibouti\n",
      "Gabon\n",
      "Gambia\n",
      "Grenada\n",
      "Guatemala\n",
      "Guinea\n",
      "Guyana\n",
      "Iraq\n",
      "Cote d'Ivoire\n",
      "Korea, North\n",
      "Kuwait\n",
      "Libya\n",
      "Liechtenstein\n",
      "Madagascar\n",
      "Maldives\n",
      "Monaco\n",
      "Montenegro\n",
      "Vanuatu\n",
      "Nicaragua\n",
      "Micronesia\n",
      "Marshall Islands\n",
      "Palau\n",
      "Papua New Guinea\n",
      "Peru\n",
      "Guinea-Bissau\n",
      "Timor-Leste\n",
      "Qatar\n",
      "Rwanda\n",
      "St Kitts and Nevis\n",
      "St Lucia\n",
      "St Vincent and the Grenadines\n",
      "San Marino\n",
      "Sao Tome and Principe\n",
      "Somalia\n",
      "Zimbabwe\n",
      "South Sudan\n",
      "Sudan (2012-)\n",
      "Suriname\n",
      "Syria\n",
      "Tajikistan\n",
      "Togo\n",
      "Trinidad and Tobago\n",
      "United Arab Emirates\n",
      "Tunisia\n",
      "Turkmenistan\n",
      "Tuvalu\n",
      "Macedonia\n",
      "Venezuela\n",
      "Yemen\n",
      "Casos nulos para who_tobt: 70\n",
      "Porcentaje nulos para who_tobt: 0.36082474226804123\n",
      "------------------------------------------------------------------------------------------\n"
     ]
    }
   ],
   "source": [
    "for col in ['imf_pop', 'wef_imort', 'who_tobt']:\n",
    "    missing_cases(df, var=col, print_list=True)\n",
    "    print('-'*90)"
   ]
  },
  {
   "cell_type": "markdown",
   "id": "326caf10",
   "metadata": {},
   "source": [
    "## 4"
   ]
  },
  {
   "cell_type": "code",
   "execution_count": 13,
   "id": "3b93188f",
   "metadata": {},
   "outputs": [
    {
     "data": {
      "text/plain": [
       "'Funcion que plotea un histograma de una variable. Ademas agrega lineas verticales\\ncon la media del sample_df o el dataframe global en caso de ser solicitado.'"
      ]
     },
     "execution_count": 13,
     "metadata": {},
     "output_type": "execute_result"
    }
   ],
   "source": [
    "'''Funcion que plotea un histograma de una variable. Ademas agrega lineas verticales\n",
    "con la media del sample_df o el dataframe global en caso de ser solicitado.'''"
   ]
  },
  {
   "cell_type": "code",
   "execution_count": 14,
   "id": "a0ae3744",
   "metadata": {},
   "outputs": [],
   "source": [
    "def hist_plot(sample_df, full_df, var, sample_mean=False, true_mean=False):\n",
    "    plt.hist(sample_df[var].dropna(), color='grey', alpha=.5)\n",
    "    plt.title('Histograma: {}'.format(var))\n",
    "    if sample_mean is True:\n",
    "        plt.axvline(sample_df[var].mean(), color='blue', lw=3)\n",
    "    if true_mean is True:\n",
    "        plt.axvline(full_df[var].mean(), color='red', lw=3)\n",
    "    plt.show()"
   ]
  },
  {
   "cell_type": "markdown",
   "id": "c6a274d6",
   "metadata": {},
   "source": [
    "#### recordamos que df_frac posee un 50% de los datos"
   ]
  },
  {
   "cell_type": "code",
   "execution_count": 15,
   "id": "725e6b35",
   "metadata": {},
   "outputs": [
    {
     "data": {
      "image/png": "[encoded data removed]",
      "text/plain": [
       "<Figure size 720x432 with 1 Axes>"
      ]
     },
     "metadata": {},
     "output_type": "display_data"
    },
    {
     "data": {
      "image/png": "[encoded data removed]",
      "text/plain": [
       "<Figure size 720x432 with 1 Axes>"
      ]
     },
     "metadata": {},
     "output_type": "display_data"
    },
    {
     "data": {
      "image/png": "[encoded data removed]",
      "text/plain": [
       "<Figure size 720x432 with 1 Axes>"
      ]
     },
     "metadata": {},
     "output_type": "display_data"
    },
    {
     "data": {
      "image/png": "[encoded data removed]",
      "text/plain": [
       "<Figure size 720x432 with 1 Axes>"
      ]
     },
     "metadata": {},
     "output_type": "display_data"
    }
   ],
   "source": [
    "# ocupamos columnas que fueron agregadas de acuerdo al apellido\n",
    "for col in ['wef_imort', 'who_alc2000', 'who_tobt','wdi_exph']:\n",
    "    hist_plot(df_frac, df, col, sample_mean=True, true_mean=True)"
   ]
  },
  {
   "cell_type": "markdown",
   "id": "4371403f",
   "metadata": {},
   "source": [
    "## 5"
   ]
  },
  {
   "cell_type": "code",
   "execution_count": 16,
   "id": "716aab31",
   "metadata": {},
   "outputs": [],
   "source": [
    "# dotplot por region geografica (agrupando por la media)"
   ]
  },
  {
   "cell_type": "code",
   "execution_count": 17,
   "id": "b39350e7",
   "metadata": {},
   "outputs": [],
   "source": [
    "def dot_plot(df, plot_var, plot_by='ht_region', statistic='mean', global_stat=False):\n",
    "    tmp = df.loc[:, [plot_var, plot_by]]\n",
    "    tmp = df.groupby(plot_by).agg({plot_var: statistic})\n",
    "    plt.plot(tmp.values, tmp.index, 'o', color='grey')\n",
    "    plt.title('Dotplot {} by {}'.format(plot_by, plot_var))\n",
    "    if statistic == 'mean':\n",
    "        plt.axvline(tmp[plot_var].mean(), color='red', linestyle='--')\n",
    "    if statistic == 'median':\n",
    "        plt.axvline(tmp[plot_var].median(), color='blue', linestyle='--')\n",
    "    plt.show()"
   ]
  },
  {
   "cell_type": "code",
   "execution_count": 18,
   "id": "c654ac0d",
   "metadata": {},
   "outputs": [
    {
     "data": {
      "image/png": "[encoded data removed]",
      "text/plain": [
       "<Figure size 720x432 with 1 Axes>"
      ]
     },
     "metadata": {},
     "output_type": "display_data"
    },
    {
     "data": {
      "image/png": "[encoded data removed]",
      "text/plain": [
       "<Figure size 720x432 with 1 Axes>"
      ]
     },
     "metadata": {},
     "output_type": "display_data"
    },
    {
     "data": {
      "image/png": "[encoded data removed]",
      "text/plain": [
       "<Figure size 720x432 with 1 Axes>"
      ]
     },
     "metadata": {},
     "output_type": "display_data"
    }
   ],
   "source": [
    "for col in ['imf_pop', 'wef_imort', 'who_tobt']:\n",
    "    dot_plot(df_frac, col, plot_by='ht_region', statistic='median', global_stat=False)"
   ]
  },
  {
   "cell_type": "code",
   "execution_count": 19,
   "id": "16658df0",
   "metadata": {},
   "outputs": [],
   "source": [
    "df_frac.to_csv('../desafio_curvas_densidad/sample.csv')"
   ]
  },
  {
   "cell_type": "code",
   "execution_count": 20,
   "id": "f3e7995e",
   "metadata": {},
   "outputs": [
    {
     "data": {
      "text/html": [
       "<div>\n",
       "<style scoped>\n",
       "    .dataframe tbody tr th:only-of-type {\n",
       "        vertical-align: middle;\n",
       "    }\n",
       "\n",
       "    .dataframe tbody tr th {\n",
       "        vertical-align: top;\n",
       "    }\n",
       "\n",
       "    .dataframe thead th {\n",
       "        text-align: right;\n",
       "    }\n",
       "</style>\n",
       "<table border=\"1\" class=\"dataframe\">\n",
       "  <thead>\n",
       "    <tr style=\"text-align: right;\">\n",
       "      <th></th>\n",
       "      <th>cname</th>\n",
       "      <th>ccodealp</th>\n",
       "      <th>ht_region</th>\n",
       "      <th>gle_cgdpc</th>\n",
       "      <th>undp_hdi</th>\n",
       "      <th>imf_pop</th>\n",
       "      <th>wef_imort</th>\n",
       "      <th>who_alc2000</th>\n",
       "      <th>who_tobt</th>\n",
       "      <th>wdi_exph</th>\n",
       "    </tr>\n",
       "  </thead>\n",
       "  <tbody>\n",
       "    <tr>\n",
       "      <th>8</th>\n",
       "      <td>Australia</td>\n",
       "      <td>AUS</td>\n",
       "      <td>WesternDem</td>\n",
       "      <td>38611.94900</td>\n",
       "      <td>0.937</td>\n",
       "      <td>23.621</td>\n",
       "      <td>4.100000</td>\n",
       "      <td>9.71</td>\n",
       "      <td>16.0</td>\n",
       "      <td>9.422300</td>\n",
       "    </tr>\n",
       "    <tr>\n",
       "      <th>89</th>\n",
       "      <td>Korea, North</td>\n",
       "      <td>PRK</td>\n",
       "      <td>EastAsia</td>\n",
       "      <td>1727.81990</td>\n",
       "      <td>NaN</td>\n",
       "      <td>NaN</td>\n",
       "      <td>NaN</td>\n",
       "      <td>3.35</td>\n",
       "      <td>NaN</td>\n",
       "      <td>NaN</td>\n",
       "    </tr>\n",
       "    <tr>\n",
       "      <th>42</th>\n",
       "      <td>Costa Rica</td>\n",
       "      <td>CRI</td>\n",
       "      <td>LatAm</td>\n",
       "      <td>9485.71000</td>\n",
       "      <td>0.775</td>\n",
       "      <td>NaN</td>\n",
       "      <td>8.600000</td>\n",
       "      <td>3.45</td>\n",
       "      <td>14.2</td>\n",
       "      <td>9.313112</td>\n",
       "    </tr>\n",
       "    <tr>\n",
       "      <th>192</th>\n",
       "      <td>Yemen</td>\n",
       "      <td>YEM</td>\n",
       "      <td>NorthAfrica</td>\n",
       "      <td>2170.92990</td>\n",
       "      <td>0.499</td>\n",
       "      <td>NaN</td>\n",
       "      <td>46.299999</td>\n",
       "      <td>0.04</td>\n",
       "      <td>NaN</td>\n",
       "      <td>5.636990</td>\n",
       "    </tr>\n",
       "    <tr>\n",
       "      <th>37</th>\n",
       "      <td>Taiwan</td>\n",
       "      <td>TWN</td>\n",
       "      <td>EastAsia</td>\n",
       "      <td>33965.87100</td>\n",
       "      <td>NaN</td>\n",
       "      <td>23.434</td>\n",
       "      <td>3.934564</td>\n",
       "      <td>NaN</td>\n",
       "      <td>NaN</td>\n",
       "      <td>NaN</td>\n",
       "    </tr>\n",
       "    <tr>\n",
       "      <th>...</th>\n",
       "      <td>...</td>\n",
       "      <td>...</td>\n",
       "      <td>...</td>\n",
       "      <td>...</td>\n",
       "      <td>...</td>\n",
       "      <td>...</td>\n",
       "      <td>...</td>\n",
       "      <td>...</td>\n",
       "      <td>...</td>\n",
       "      <td>...</td>\n",
       "    </tr>\n",
       "    <tr>\n",
       "      <th>70</th>\n",
       "      <td>Guinea</td>\n",
       "      <td>GIN</td>\n",
       "      <td>SubSaharian</td>\n",
       "      <td>993.83002</td>\n",
       "      <td>0.414</td>\n",
       "      <td>11.745</td>\n",
       "      <td>65.199997</td>\n",
       "      <td>0.22</td>\n",
       "      <td>NaN</td>\n",
       "      <td>5.644798</td>\n",
       "    </tr>\n",
       "    <tr>\n",
       "      <th>141</th>\n",
       "      <td>Qatar</td>\n",
       "      <td>QAT</td>\n",
       "      <td>NorthAfrica</td>\n",
       "      <td>104049.44000</td>\n",
       "      <td>0.855</td>\n",
       "      <td>2.045</td>\n",
       "      <td>6.300000</td>\n",
       "      <td>1.15</td>\n",
       "      <td>NaN</td>\n",
       "      <td>2.187062</td>\n",
       "    </tr>\n",
       "    <tr>\n",
       "      <th>93</th>\n",
       "      <td>Laos</td>\n",
       "      <td>LAO</td>\n",
       "      <td>SouthEastAsia</td>\n",
       "      <td>2926.77000</td>\n",
       "      <td>0.582</td>\n",
       "      <td>6.898</td>\n",
       "      <td>54.000000</td>\n",
       "      <td>5.39</td>\n",
       "      <td>34.0</td>\n",
       "      <td>1.865546</td>\n",
       "    </tr>\n",
       "    <tr>\n",
       "      <th>133</th>\n",
       "      <td>Papua New Guinea</td>\n",
       "      <td>PNG</td>\n",
       "      <td>Pacific</td>\n",
       "      <td>1693.54000</td>\n",
       "      <td>0.515</td>\n",
       "      <td>6.880</td>\n",
       "      <td>NaN</td>\n",
       "      <td>0.88</td>\n",
       "      <td>NaN</td>\n",
       "      <td>4.263571</td>\n",
       "    </tr>\n",
       "    <tr>\n",
       "      <th>135</th>\n",
       "      <td>Peru</td>\n",
       "      <td>PER</td>\n",
       "      <td>LatAm</td>\n",
       "      <td>9227.15040</td>\n",
       "      <td>0.737</td>\n",
       "      <td>30.809</td>\n",
       "      <td>14.100000</td>\n",
       "      <td>5.38</td>\n",
       "      <td>NaN</td>\n",
       "      <td>5.473035</td>\n",
       "    </tr>\n",
       "  </tbody>\n",
       "</table>\n",
       "<p>97 rows × 10 columns</p>\n",
       "</div>"
      ],
      "text/plain": [
       "                cname ccodealp      ht_region     gle_cgdpc  undp_hdi  \\\n",
       "8           Australia      AUS     WesternDem   38611.94900     0.937   \n",
       "89       Korea, North      PRK       EastAsia    1727.81990       NaN   \n",
       "42         Costa Rica      CRI          LatAm    9485.71000     0.775   \n",
       "192             Yemen      YEM    NorthAfrica    2170.92990     0.499   \n",
       "37             Taiwan      TWN       EastAsia   33965.87100       NaN   \n",
       "..                ...      ...            ...           ...       ...   \n",
       "70             Guinea      GIN    SubSaharian     993.83002     0.414   \n",
       "141             Qatar      QAT    NorthAfrica  104049.44000     0.855   \n",
       "93               Laos      LAO  SouthEastAsia    2926.77000     0.582   \n",
       "133  Papua New Guinea      PNG        Pacific    1693.54000     0.515   \n",
       "135              Peru      PER          LatAm    9227.15040     0.737   \n",
       "\n",
       "     imf_pop  wef_imort  who_alc2000  who_tobt  wdi_exph  \n",
       "8     23.621   4.100000         9.71      16.0  9.422300  \n",
       "89       NaN        NaN         3.35       NaN       NaN  \n",
       "42       NaN   8.600000         3.45      14.2  9.313112  \n",
       "192      NaN  46.299999         0.04       NaN  5.636990  \n",
       "37    23.434   3.934564          NaN       NaN       NaN  \n",
       "..       ...        ...          ...       ...       ...  \n",
       "70    11.745  65.199997         0.22       NaN  5.644798  \n",
       "141    2.045   6.300000         1.15       NaN  2.187062  \n",
       "93     6.898  54.000000         5.39      34.0  1.865546  \n",
       "133    6.880        NaN         0.88       NaN  4.263571  \n",
       "135   30.809  14.100000         5.38       NaN  5.473035  \n",
       "\n",
       "[97 rows x 10 columns]"
      ]
     },
     "execution_count": 20,
     "metadata": {},
     "output_type": "execute_result"
    }
   ],
   "source": [
    "df_frac"
   ]
  },
  {
   "cell_type": "code",
   "execution_count": null,
   "id": "83f15eb2",
   "metadata": {},
   "outputs": [],
   "source": []
  }
 ],
 "metadata": {
  "kernelspec": {
   "display_name": "Python 3 (ipykernel)",
   "language": "python",
   "name": "python3"
  },
  "language_info": {
   "codemirror_mode": {
    "name": "ipython",
    "version": 3
   },
   "file_extension": ".py",
   "mimetype": "text/x-python",
   "name": "python",
   "nbconvert_exporter": "python",
   "pygments_lexer": "ipython3",
   "version": "3.9.10"
  }
 },
 "nbformat": 4,
 "nbformat_minor": 5
}
