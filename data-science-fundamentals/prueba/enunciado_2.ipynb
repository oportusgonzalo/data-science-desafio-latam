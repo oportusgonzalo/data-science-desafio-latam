{
 "cells": [
  {
   "cell_type": "markdown",
   "metadata": {},
   "source": [
    "# Rendimiento escolar"
   ]
  },
  {
   "cell_type": "markdown",
   "metadata": {},
   "source": [
    "Modelo que precide el promedio final del año escolar para un alumno, con fin de identificar bajo desempeño académico."
   ]
  },
  {
   "cell_type": "markdown",
   "metadata": {},
   "source": [
    "Se sugiere explorar atributos ambientales del alumno para ver si pueden ser abstraídos en categorías latentes."
   ]
  },
  {
   "cell_type": "markdown",
   "metadata": {},
   "source": [
    "### 1. Preliminares"
   ]
  },
  {
   "cell_type": "markdown",
   "metadata": {},
   "source": [
    "A continuación se definen las características del problema."
   ]
  },
  {
   "cell_type": "markdown",
   "metadata": {},
   "source": [
    "#### 1.1 Problema"
   ]
  },
  {
   "cell_type": "markdown",
   "metadata": {},
   "source": [
    "Variable objetivo: Promedio final del año escolar."
   ]
  },
  {
   "cell_type": "markdown",
   "metadata": {},
   "source": [
    "El problema pertenece a uno de regresión, dado que la variable objetivo, definida como el promedio final del año escolar, presenta valores continuos."
   ]
  },
  {
   "cell_type": "markdown",
   "metadata": {},
   "source": [
    "Enunciado: promedio final del año escolar para un individuo explicado por atributos personales y ambientales."
   ]
  },
  {
   "cell_type": "markdown",
   "metadata": {},
   "source": [
    "#### 1.2 Atributos disponibles"
   ]
  },
  {
   "cell_type": "markdown",
   "metadata": {},
   "source": [
    "Para explicar el promedio final del año escolar de un estudiante, tenemos disponibles los siguientes atributos:\n",
    "\n",
    "* school: categórica. Especifica la escuela.\n",
    "* sex: categórica. Define el sexo.\n",
    "* age: numérica. Detalla la edad.\n",
    "* address: categórica. Especifica la ubicación del estudiante (urbana o rural).\n",
    "* famsize: categórica. Define el tamaño de la familia (menor o igual a 3, mayor a 3).\n",
    "* Pstatus: categórica. Detalla el estado cohabitacional de los padres.\n",
    "* Medu: categórica (label encoding). Presenta el nivel educacional de la madre.\n",
    "* Fedu: categórica (label encoding). Presenta el nivel educacional del padre.\n",
    "* Mjob: categórica. Especifica la ocupación de la madre.\n",
    "* Fjob: categórica. Define la ocupación del padre.\n",
    "* reason: categórica. Es la razón para escoger escuela.\n",
    "* guardian: categórica. Define el apoderado.\n",
    "* traveltime: categórica. Especifica el tiempo de viaje entre el hogal y la escuela. Presenta rangos.\n",
    "* studytime: categórica. Detalla las horas semanales de estudio.\n",
    "* failures: numérica. Especifica el número de clases reprobadas.\n",
    "* schoolsup: binaria. Si recibe o no apoyo educacional del colegio.\n",
    "* famsup: binaria. Si recibe apoyo educacional familiar.\n",
    "* paid. binaria. Si recibe clases particulares pagadas o no.\n",
    "* activities: binaria. Si realiza actividades extracurriculares o no.\n",
    "* nursery: binaria. Define si asistió o no a la guardería infantil.\n",
    "* higher: binaria. Si desea proseguir estudios superiores.\n",
    "* internet: binaria. Si tienes acceso a internet desde el hogar.\n",
    "* romantic: binaria. Si tiene una relación amorosa.\n",
    "* famrel: categórica ordinal. Define la calidad de las relaciones familiares.\n",
    "* freetime: categórica ordinal. Tiempo libre fuera del colegio.\n",
    "* goout: categórical ordinal. Define si sale con amigos.\n",
    "* Dalc: categórica ordinal. Consumo de alcohol en días de semana.\n",
    "* Walc: categórica ordinal. Consumo de alcohol en fines de semana.\n",
    "* health: categórica ordinal. Estado de salud actual.\n",
    "* absences: numérica. Cantidad de ausencias escolares."
   ]
  },
  {
   "cell_type": "markdown",
   "metadata": {},
   "source": [
    "En cuanto a las variables objetivo:\n",
    "\n",
    "* G1: numérica. Notas durante el primer semestre (V.O 1 modelo descriptivo).\n",
    "* G2: numérica. Notas durante el segundo semestre (V.O 2 modelo descriptivo).\n",
    "* G3: numérica. Promedio final (V.O 3 modelo descriptivo, y V.O modelo predictivo)."
   ]
  },
  {
   "cell_type": "markdown",
   "metadata": {},
   "source": [
    "#### 1.3 Métricas para medir desempeño"
   ]
  },
  {
   "cell_type": "markdown",
   "metadata": {},
   "source": [
    "Para medir el desempeño de nuestro modelo utilizaremos dos medidas:\n",
    "\n",
    "* Error cuadrático medio (MSE): representa la expectativa del error cuadrático, donde este se define a partir de las distancias entre el valor estimado y el valor real de la variable objetivo. Nos permite medir la calidad de nuestro ajuste, e idealmente queremos que sea pequeño.\n",
    "\n",
    "* r2_score: representa la proporción porcentual de la varianza total de la variable objetivo que es explicada por los atributos agregados al modelo."
   ]
  },
  {
   "cell_type": "markdown",
   "metadata": {},
   "source": [
    "### 2. Aspectos computacionales"
   ]
  },
  {
   "cell_type": "markdown",
   "metadata": {},
   "source": [
    "#### 2.1 Librerias a utilizar"
   ]
  },
  {
   "cell_type": "markdown",
   "metadata": {},
   "source": [
    "Las librerias y versiones utilizadas son:\n",
    "\n",
    "* numpy=1.23.0\n",
    "* pandas=1.4.3\n",
    "* matplotlib=3.5.2\n",
    "* seaborn=11.0\n",
    "* warnings\n",
    "* sklearn=0.22\n",
    "* factor_analyzer=0.4.0\n",
    "* statsmodels=0.11.0\n",
    "\n",
    "Además, trabajaremos con la versión de Python 3.8.3."
   ]
  },
  {
   "cell_type": "markdown",
   "metadata": {},
   "source": [
    "#### 2.2 Proceso tentativo recodificación de atributos"
   ]
  },
  {
   "cell_type": "markdown",
   "metadata": {},
   "source": [
    "Se hará un análisis exploratorio tanto de la variable objetivo como de sus atributos donde:\n",
    "\n",
    "* Se identificará la presencia de valores nulos, perdidos o caracteres incorrectos, y serán eliminados del modelo ya que nos generan problemas en la estimación. En esta etapa, se utilizará la función importada \"calidad_datos\" que nos permite tener una perspectiva global.\n",
    "\n",
    "* Estudio de dimensionalidad. Se aplicará un estudio de latencia para identificar posibles agrupaciones entre variables.\n",
    "\n",
    "* Transformación de variables categóricas mediante el uso de binary encoding.\n",
    "\n",
    "* Estudio de la escala es la cual están definidas las variables numéricas. Si existen diferencias muy grandes en la dimensionalidad de los números se aplicará una estandarización con StandardScaler() de Sklearn.\n",
    "\n",
    "* Transformación de variables binarias a 1 y 0. Se considerará como 1 la categoría minoritaria.\n",
    "\n",
    "* Exploración de correlaciones entre atributos y variable objetivo. La idea es identificar atributos que se correlacionan fuertemente y débilmente, para considerar excluirlas del modelo."
   ]
  },
  {
   "cell_type": "markdown",
   "metadata": {},
   "source": [
    "#### 2.3 Importación de librerias"
   ]
  },
  {
   "cell_type": "code",
   "execution_count": 65,
   "metadata": {},
   "outputs": [],
   "source": [
    "%matplotlib inline\n",
    "import numpy as np\n",
    "import pandas as pd\n",
    "import matplotlib.pyplot as plt\n",
    "import seaborn as sns\n",
    "import warnings\n",
    "import statsmodels.formula.api as smf\n",
    "\n",
    "# machine learning libraries\n",
    "from sklearn.linear_model import LinearRegression\n",
    "from sklearn.model_selection import train_test_split\n",
    "from sklearn.metrics import mean_squared_error, r2_score\n",
    "\n",
    "# para detectar factores latentes\n",
    "import factor_analyzer as factor\n",
    "\n",
    "from calidad_datos import calidad_datos\n",
    "from graficos import cross_plot\n",
    "\n",
    "from functions import model_formula\n",
    "\n",
    "plt.style.use('seaborn')\n",
    "plt.rcParams[\"figure.figsize\"] = (8, 6)\n",
    "plt.rcParams[\"figure.dpi\"] = 70\n",
    "warnings.filterwarnings('ignore')"
   ]
  },
  {
   "cell_type": "markdown",
   "metadata": {},
   "source": [
    "### 3. Descripción"
   ]
  },
  {
   "cell_type": "code",
   "execution_count": 66,
   "metadata": {},
   "outputs": [],
   "source": [
    "# importación de datos\n",
    "df = pd.read_csv('students.csv', sep='|', encoding='latin-1').drop('Unnamed: 0', axis=1)"
   ]
  },
  {
   "cell_type": "markdown",
   "metadata": {},
   "source": [
    "#### 3.0 Calidad de los datos"
   ]
  },
  {
   "cell_type": "code",
   "execution_count": 67,
   "metadata": {},
   "outputs": [],
   "source": [
    "# lista nulos\n",
    "null_list = ['sem validade', 'zero', 'nulidade']"
   ]
  },
  {
   "cell_type": "code",
   "execution_count": 68,
   "metadata": {},
   "outputs": [],
   "source": [
    "# transformacion incorrecto formato de variables\n",
    "for col in ['age', 'goout', 'health']:\n",
    "    df[col] = df[col].str.replace('\"', \"\").replace(null_list, [np.nan, np.nan, np.nan]).astype('float')"
   ]
  },
  {
   "cell_type": "code",
   "execution_count": 69,
   "metadata": {},
   "outputs": [],
   "source": [
    "# reemplazo de valores nulos en otras variables\n",
    "\n",
    "for col in df.columns:\n",
    "    if col not in ['age', 'goout', 'health', 'G2']:\n",
    "        df[col] = df[col].replace(null_list, [np.nan, np.nan, np.nan])\n",
    "    if col in ['failures', 'absences', 'G1', 'G3']:\n",
    "        df[col] = df[col].astype(float)"
   ]
  },
  {
   "cell_type": "code",
   "execution_count": 70,
   "metadata": {},
   "outputs": [
    {
     "data": {
      "text/html": [
       "<div>\n",
       "<style scoped>\n",
       "    .dataframe tbody tr th:only-of-type {\n",
       "        vertical-align: middle;\n",
       "    }\n",
       "\n",
       "    .dataframe tbody tr th {\n",
       "        vertical-align: top;\n",
       "    }\n",
       "\n",
       "    .dataframe thead th {\n",
       "        text-align: right;\n",
       "    }\n",
       "</style>\n",
       "<table border=\"1\" class=\"dataframe\">\n",
       "  <thead>\n",
       "    <tr style=\"text-align: right;\">\n",
       "      <th></th>\n",
       "      <th>tipo</th>\n",
       "      <th>nulos</th>\n",
       "      <th>porc_nulos</th>\n",
       "      <th>ceros</th>\n",
       "      <th>porc_ceros</th>\n",
       "      <th>count</th>\n",
       "      <th>unique</th>\n",
       "      <th>top</th>\n",
       "      <th>freq</th>\n",
       "      <th>mean</th>\n",
       "      <th>std</th>\n",
       "      <th>min</th>\n",
       "      <th>25%</th>\n",
       "      <th>50%</th>\n",
       "      <th>75%</th>\n",
       "      <th>max</th>\n",
       "      <th>dist_IQR</th>\n",
       "      <th>limit_inf</th>\n",
       "      <th>limit_sup</th>\n",
       "      <th>outliers</th>\n",
       "    </tr>\n",
       "  </thead>\n",
       "  <tbody>\n",
       "    <tr>\n",
       "      <th>G2</th>\n",
       "      <td>int64</td>\n",
       "      <td>0</td>\n",
       "      <td>0.000000</td>\n",
       "      <td>13</td>\n",
       "      <td>0.032911</td>\n",
       "      <td>395</td>\n",
       "      <td>NaN</td>\n",
       "      <td>NaN</td>\n",
       "      <td>NaN</td>\n",
       "      <td>10.7139</td>\n",
       "      <td>3.7615</td>\n",
       "      <td>0</td>\n",
       "      <td>9</td>\n",
       "      <td>11</td>\n",
       "      <td>13</td>\n",
       "      <td>19</td>\n",
       "      <td>4</td>\n",
       "      <td>3</td>\n",
       "      <td>19</td>\n",
       "      <td>13</td>\n",
       "    </tr>\n",
       "    <tr>\n",
       "      <th>failures</th>\n",
       "      <td>float64</td>\n",
       "      <td>5</td>\n",
       "      <td>0.012658</td>\n",
       "      <td>308</td>\n",
       "      <td>0.779747</td>\n",
       "      <td>390</td>\n",
       "      <td>NaN</td>\n",
       "      <td>NaN</td>\n",
       "      <td>NaN</td>\n",
       "      <td>0.335897</td>\n",
       "      <td>0.746883</td>\n",
       "      <td>0</td>\n",
       "      <td>0</td>\n",
       "      <td>0</td>\n",
       "      <td>0</td>\n",
       "      <td>3</td>\n",
       "      <td>0</td>\n",
       "      <td>0</td>\n",
       "      <td>0</td>\n",
       "      <td>82</td>\n",
       "    </tr>\n",
       "    <tr>\n",
       "      <th>goout</th>\n",
       "      <td>float64</td>\n",
       "      <td>5</td>\n",
       "      <td>0.012658</td>\n",
       "      <td>0</td>\n",
       "      <td>0.000000</td>\n",
       "      <td>390</td>\n",
       "      <td>NaN</td>\n",
       "      <td>NaN</td>\n",
       "      <td>NaN</td>\n",
       "      <td>3.10256</td>\n",
       "      <td>1.11763</td>\n",
       "      <td>1</td>\n",
       "      <td>2</td>\n",
       "      <td>3</td>\n",
       "      <td>4</td>\n",
       "      <td>5</td>\n",
       "      <td>2</td>\n",
       "      <td>-1</td>\n",
       "      <td>7</td>\n",
       "      <td>0</td>\n",
       "    </tr>\n",
       "    <tr>\n",
       "      <th>health</th>\n",
       "      <td>float64</td>\n",
       "      <td>4</td>\n",
       "      <td>0.010127</td>\n",
       "      <td>0</td>\n",
       "      <td>0.000000</td>\n",
       "      <td>391</td>\n",
       "      <td>NaN</td>\n",
       "      <td>NaN</td>\n",
       "      <td>NaN</td>\n",
       "      <td>3.57033</td>\n",
       "      <td>1.3773</td>\n",
       "      <td>1</td>\n",
       "      <td>3</td>\n",
       "      <td>4</td>\n",
       "      <td>5</td>\n",
       "      <td>5</td>\n",
       "      <td>2</td>\n",
       "      <td>0</td>\n",
       "      <td>8</td>\n",
       "      <td>0</td>\n",
       "    </tr>\n",
       "    <tr>\n",
       "      <th>G3</th>\n",
       "      <td>float64</td>\n",
       "      <td>3</td>\n",
       "      <td>0.007595</td>\n",
       "      <td>37</td>\n",
       "      <td>0.093671</td>\n",
       "      <td>392</td>\n",
       "      <td>NaN</td>\n",
       "      <td>NaN</td>\n",
       "      <td>NaN</td>\n",
       "      <td>10.4464</td>\n",
       "      <td>4.56801</td>\n",
       "      <td>0</td>\n",
       "      <td>8</td>\n",
       "      <td>11</td>\n",
       "      <td>14</td>\n",
       "      <td>20</td>\n",
       "      <td>6</td>\n",
       "      <td>-1</td>\n",
       "      <td>23</td>\n",
       "      <td>0</td>\n",
       "    </tr>\n",
       "    <tr>\n",
       "      <th>age</th>\n",
       "      <td>float64</td>\n",
       "      <td>4</td>\n",
       "      <td>0.010127</td>\n",
       "      <td>0</td>\n",
       "      <td>0.000000</td>\n",
       "      <td>391</td>\n",
       "      <td>NaN</td>\n",
       "      <td>NaN</td>\n",
       "      <td>NaN</td>\n",
       "      <td>16.6982</td>\n",
       "      <td>1.27941</td>\n",
       "      <td>15</td>\n",
       "      <td>16</td>\n",
       "      <td>17</td>\n",
       "      <td>18</td>\n",
       "      <td>22</td>\n",
       "      <td>2</td>\n",
       "      <td>13</td>\n",
       "      <td>21</td>\n",
       "      <td>1</td>\n",
       "    </tr>\n",
       "    <tr>\n",
       "      <th>G1</th>\n",
       "      <td>float64</td>\n",
       "      <td>4</td>\n",
       "      <td>0.010127</td>\n",
       "      <td>0</td>\n",
       "      <td>0.000000</td>\n",
       "      <td>391</td>\n",
       "      <td>NaN</td>\n",
       "      <td>NaN</td>\n",
       "      <td>NaN</td>\n",
       "      <td>10.9335</td>\n",
       "      <td>3.32059</td>\n",
       "      <td>3</td>\n",
       "      <td>8</td>\n",
       "      <td>11</td>\n",
       "      <td>13</td>\n",
       "      <td>19</td>\n",
       "      <td>5</td>\n",
       "      <td>0.5</td>\n",
       "      <td>20.5</td>\n",
       "      <td>0</td>\n",
       "    </tr>\n",
       "    <tr>\n",
       "      <th>absences</th>\n",
       "      <td>float64</td>\n",
       "      <td>4</td>\n",
       "      <td>0.010127</td>\n",
       "      <td>113</td>\n",
       "      <td>0.286076</td>\n",
       "      <td>391</td>\n",
       "      <td>NaN</td>\n",
       "      <td>NaN</td>\n",
       "      <td>NaN</td>\n",
       "      <td>5.73146</td>\n",
       "      <td>8.02509</td>\n",
       "      <td>0</td>\n",
       "      <td>0</td>\n",
       "      <td>4</td>\n",
       "      <td>8</td>\n",
       "      <td>75</td>\n",
       "      <td>8</td>\n",
       "      <td>-12</td>\n",
       "      <td>20</td>\n",
       "      <td>15</td>\n",
       "    </tr>\n",
       "    <tr>\n",
       "      <th>Walc</th>\n",
       "      <td>object</td>\n",
       "      <td>5</td>\n",
       "      <td>0.012658</td>\n",
       "      <td>0</td>\n",
       "      <td>0.000000</td>\n",
       "      <td>390</td>\n",
       "      <td>5</td>\n",
       "      <td>1</td>\n",
       "      <td>150</td>\n",
       "      <td>NaN</td>\n",
       "      <td>NaN</td>\n",
       "      <td>NaN</td>\n",
       "      <td>NaN</td>\n",
       "      <td>NaN</td>\n",
       "      <td>NaN</td>\n",
       "      <td>NaN</td>\n",
       "      <td>NaN</td>\n",
       "      <td>NaN</td>\n",
       "      <td>NaN</td>\n",
       "      <td>0</td>\n",
       "    </tr>\n",
       "    <tr>\n",
       "      <th>Dalc</th>\n",
       "      <td>object</td>\n",
       "      <td>3</td>\n",
       "      <td>0.007595</td>\n",
       "      <td>0</td>\n",
       "      <td>0.000000</td>\n",
       "      <td>392</td>\n",
       "      <td>5</td>\n",
       "      <td>1</td>\n",
       "      <td>274</td>\n",
       "      <td>NaN</td>\n",
       "      <td>NaN</td>\n",
       "      <td>NaN</td>\n",
       "      <td>NaN</td>\n",
       "      <td>NaN</td>\n",
       "      <td>NaN</td>\n",
       "      <td>NaN</td>\n",
       "      <td>NaN</td>\n",
       "      <td>NaN</td>\n",
       "      <td>NaN</td>\n",
       "      <td>0</td>\n",
       "    </tr>\n",
       "    <tr>\n",
       "      <th>activities</th>\n",
       "      <td>object</td>\n",
       "      <td>5</td>\n",
       "      <td>0.012658</td>\n",
       "      <td>0</td>\n",
       "      <td>0.000000</td>\n",
       "      <td>390</td>\n",
       "      <td>2</td>\n",
       "      <td>yes</td>\n",
       "      <td>199</td>\n",
       "      <td>NaN</td>\n",
       "      <td>NaN</td>\n",
       "      <td>NaN</td>\n",
       "      <td>NaN</td>\n",
       "      <td>NaN</td>\n",
       "      <td>NaN</td>\n",
       "      <td>NaN</td>\n",
       "      <td>NaN</td>\n",
       "      <td>NaN</td>\n",
       "      <td>NaN</td>\n",
       "      <td>0</td>\n",
       "    </tr>\n",
       "    <tr>\n",
       "      <th>famrel</th>\n",
       "      <td>object</td>\n",
       "      <td>5</td>\n",
       "      <td>0.012658</td>\n",
       "      <td>0</td>\n",
       "      <td>0.000000</td>\n",
       "      <td>390</td>\n",
       "      <td>5</td>\n",
       "      <td>4</td>\n",
       "      <td>194</td>\n",
       "      <td>NaN</td>\n",
       "      <td>NaN</td>\n",
       "      <td>NaN</td>\n",
       "      <td>NaN</td>\n",
       "      <td>NaN</td>\n",
       "      <td>NaN</td>\n",
       "      <td>NaN</td>\n",
       "      <td>NaN</td>\n",
       "      <td>NaN</td>\n",
       "      <td>NaN</td>\n",
       "      <td>0</td>\n",
       "    </tr>\n",
       "    <tr>\n",
       "      <th>romantic</th>\n",
       "      <td>object</td>\n",
       "      <td>2</td>\n",
       "      <td>0.005063</td>\n",
       "      <td>0</td>\n",
       "      <td>0.000000</td>\n",
       "      <td>393</td>\n",
       "      <td>2</td>\n",
       "      <td>no</td>\n",
       "      <td>262</td>\n",
       "      <td>NaN</td>\n",
       "      <td>NaN</td>\n",
       "      <td>NaN</td>\n",
       "      <td>NaN</td>\n",
       "      <td>NaN</td>\n",
       "      <td>NaN</td>\n",
       "      <td>NaN</td>\n",
       "      <td>NaN</td>\n",
       "      <td>NaN</td>\n",
       "      <td>NaN</td>\n",
       "      <td>0</td>\n",
       "    </tr>\n",
       "    <tr>\n",
       "      <th>internet</th>\n",
       "      <td>object</td>\n",
       "      <td>3</td>\n",
       "      <td>0.007595</td>\n",
       "      <td>0</td>\n",
       "      <td>0.000000</td>\n",
       "      <td>392</td>\n",
       "      <td>2</td>\n",
       "      <td>yes</td>\n",
       "      <td>327</td>\n",
       "      <td>NaN</td>\n",
       "      <td>NaN</td>\n",
       "      <td>NaN</td>\n",
       "      <td>NaN</td>\n",
       "      <td>NaN</td>\n",
       "      <td>NaN</td>\n",
       "      <td>NaN</td>\n",
       "      <td>NaN</td>\n",
       "      <td>NaN</td>\n",
       "      <td>NaN</td>\n",
       "      <td>0</td>\n",
       "    </tr>\n",
       "    <tr>\n",
       "      <th>higher</th>\n",
       "      <td>object</td>\n",
       "      <td>6</td>\n",
       "      <td>0.015190</td>\n",
       "      <td>0</td>\n",
       "      <td>0.000000</td>\n",
       "      <td>389</td>\n",
       "      <td>2</td>\n",
       "      <td>yes</td>\n",
       "      <td>369</td>\n",
       "      <td>NaN</td>\n",
       "      <td>NaN</td>\n",
       "      <td>NaN</td>\n",
       "      <td>NaN</td>\n",
       "      <td>NaN</td>\n",
       "      <td>NaN</td>\n",
       "      <td>NaN</td>\n",
       "      <td>NaN</td>\n",
       "      <td>NaN</td>\n",
       "      <td>NaN</td>\n",
       "      <td>0</td>\n",
       "    </tr>\n",
       "    <tr>\n",
       "      <th>nursery</th>\n",
       "      <td>object</td>\n",
       "      <td>6</td>\n",
       "      <td>0.015190</td>\n",
       "      <td>0</td>\n",
       "      <td>0.000000</td>\n",
       "      <td>389</td>\n",
       "      <td>2</td>\n",
       "      <td>yes</td>\n",
       "      <td>309</td>\n",
       "      <td>NaN</td>\n",
       "      <td>NaN</td>\n",
       "      <td>NaN</td>\n",
       "      <td>NaN</td>\n",
       "      <td>NaN</td>\n",
       "      <td>NaN</td>\n",
       "      <td>NaN</td>\n",
       "      <td>NaN</td>\n",
       "      <td>NaN</td>\n",
       "      <td>NaN</td>\n",
       "      <td>0</td>\n",
       "    </tr>\n",
       "    <tr>\n",
       "      <th>freetime</th>\n",
       "      <td>object</td>\n",
       "      <td>2</td>\n",
       "      <td>0.005063</td>\n",
       "      <td>0</td>\n",
       "      <td>0.000000</td>\n",
       "      <td>393</td>\n",
       "      <td>5</td>\n",
       "      <td>3</td>\n",
       "      <td>157</td>\n",
       "      <td>NaN</td>\n",
       "      <td>NaN</td>\n",
       "      <td>NaN</td>\n",
       "      <td>NaN</td>\n",
       "      <td>NaN</td>\n",
       "      <td>NaN</td>\n",
       "      <td>NaN</td>\n",
       "      <td>NaN</td>\n",
       "      <td>NaN</td>\n",
       "      <td>NaN</td>\n",
       "      <td>0</td>\n",
       "    </tr>\n",
       "    <tr>\n",
       "      <th>school</th>\n",
       "      <td>object</td>\n",
       "      <td>5</td>\n",
       "      <td>0.012658</td>\n",
       "      <td>0</td>\n",
       "      <td>0.000000</td>\n",
       "      <td>390</td>\n",
       "      <td>2</td>\n",
       "      <td>GP</td>\n",
       "      <td>345</td>\n",
       "      <td>NaN</td>\n",
       "      <td>NaN</td>\n",
       "      <td>NaN</td>\n",
       "      <td>NaN</td>\n",
       "      <td>NaN</td>\n",
       "      <td>NaN</td>\n",
       "      <td>NaN</td>\n",
       "      <td>NaN</td>\n",
       "      <td>NaN</td>\n",
       "      <td>NaN</td>\n",
       "      <td>0</td>\n",
       "    </tr>\n",
       "    <tr>\n",
       "      <th>schoolsup</th>\n",
       "      <td>object</td>\n",
       "      <td>8</td>\n",
       "      <td>0.020253</td>\n",
       "      <td>0</td>\n",
       "      <td>0.000000</td>\n",
       "      <td>387</td>\n",
       "      <td>2</td>\n",
       "      <td>no</td>\n",
       "      <td>337</td>\n",
       "      <td>NaN</td>\n",
       "      <td>NaN</td>\n",
       "      <td>NaN</td>\n",
       "      <td>NaN</td>\n",
       "      <td>NaN</td>\n",
       "      <td>NaN</td>\n",
       "      <td>NaN</td>\n",
       "      <td>NaN</td>\n",
       "      <td>NaN</td>\n",
       "      <td>NaN</td>\n",
       "      <td>0</td>\n",
       "    </tr>\n",
       "    <tr>\n",
       "      <th>studytime</th>\n",
       "      <td>object</td>\n",
       "      <td>5</td>\n",
       "      <td>0.012658</td>\n",
       "      <td>0</td>\n",
       "      <td>0.000000</td>\n",
       "      <td>390</td>\n",
       "      <td>4</td>\n",
       "      <td>2</td>\n",
       "      <td>194</td>\n",
       "      <td>NaN</td>\n",
       "      <td>NaN</td>\n",
       "      <td>NaN</td>\n",
       "      <td>NaN</td>\n",
       "      <td>NaN</td>\n",
       "      <td>NaN</td>\n",
       "      <td>NaN</td>\n",
       "      <td>NaN</td>\n",
       "      <td>NaN</td>\n",
       "      <td>NaN</td>\n",
       "      <td>0</td>\n",
       "    </tr>\n",
       "    <tr>\n",
       "      <th>traveltime</th>\n",
       "      <td>object</td>\n",
       "      <td>3</td>\n",
       "      <td>0.007595</td>\n",
       "      <td>0</td>\n",
       "      <td>0.000000</td>\n",
       "      <td>392</td>\n",
       "      <td>4</td>\n",
       "      <td>1</td>\n",
       "      <td>254</td>\n",
       "      <td>NaN</td>\n",
       "      <td>NaN</td>\n",
       "      <td>NaN</td>\n",
       "      <td>NaN</td>\n",
       "      <td>NaN</td>\n",
       "      <td>NaN</td>\n",
       "      <td>NaN</td>\n",
       "      <td>NaN</td>\n",
       "      <td>NaN</td>\n",
       "      <td>NaN</td>\n",
       "      <td>0</td>\n",
       "    </tr>\n",
       "    <tr>\n",
       "      <th>guardian</th>\n",
       "      <td>object</td>\n",
       "      <td>4</td>\n",
       "      <td>0.010127</td>\n",
       "      <td>0</td>\n",
       "      <td>0.000000</td>\n",
       "      <td>391</td>\n",
       "      <td>3</td>\n",
       "      <td>mother</td>\n",
       "      <td>270</td>\n",
       "      <td>NaN</td>\n",
       "      <td>NaN</td>\n",
       "      <td>NaN</td>\n",
       "      <td>NaN</td>\n",
       "      <td>NaN</td>\n",
       "      <td>NaN</td>\n",
       "      <td>NaN</td>\n",
       "      <td>NaN</td>\n",
       "      <td>NaN</td>\n",
       "      <td>NaN</td>\n",
       "      <td>0</td>\n",
       "    </tr>\n",
       "    <tr>\n",
       "      <th>reason</th>\n",
       "      <td>object</td>\n",
       "      <td>4</td>\n",
       "      <td>0.010127</td>\n",
       "      <td>0</td>\n",
       "      <td>0.000000</td>\n",
       "      <td>391</td>\n",
       "      <td>4</td>\n",
       "      <td>course</td>\n",
       "      <td>144</td>\n",
       "      <td>NaN</td>\n",
       "      <td>NaN</td>\n",
       "      <td>NaN</td>\n",
       "      <td>NaN</td>\n",
       "      <td>NaN</td>\n",
       "      <td>NaN</td>\n",
       "      <td>NaN</td>\n",
       "      <td>NaN</td>\n",
       "      <td>NaN</td>\n",
       "      <td>NaN</td>\n",
       "      <td>0</td>\n",
       "    </tr>\n",
       "    <tr>\n",
       "      <th>Fjob</th>\n",
       "      <td>object</td>\n",
       "      <td>0</td>\n",
       "      <td>0.000000</td>\n",
       "      <td>0</td>\n",
       "      <td>0.000000</td>\n",
       "      <td>395</td>\n",
       "      <td>5</td>\n",
       "      <td>other</td>\n",
       "      <td>217</td>\n",
       "      <td>NaN</td>\n",
       "      <td>NaN</td>\n",
       "      <td>NaN</td>\n",
       "      <td>NaN</td>\n",
       "      <td>NaN</td>\n",
       "      <td>NaN</td>\n",
       "      <td>NaN</td>\n",
       "      <td>NaN</td>\n",
       "      <td>NaN</td>\n",
       "      <td>NaN</td>\n",
       "      <td>0</td>\n",
       "    </tr>\n",
       "    <tr>\n",
       "      <th>Mjob</th>\n",
       "      <td>object</td>\n",
       "      <td>6</td>\n",
       "      <td>0.015190</td>\n",
       "      <td>0</td>\n",
       "      <td>0.000000</td>\n",
       "      <td>389</td>\n",
       "      <td>5</td>\n",
       "      <td>other</td>\n",
       "      <td>138</td>\n",
       "      <td>NaN</td>\n",
       "      <td>NaN</td>\n",
       "      <td>NaN</td>\n",
       "      <td>NaN</td>\n",
       "      <td>NaN</td>\n",
       "      <td>NaN</td>\n",
       "      <td>NaN</td>\n",
       "      <td>NaN</td>\n",
       "      <td>NaN</td>\n",
       "      <td>NaN</td>\n",
       "      <td>0</td>\n",
       "    </tr>\n",
       "    <tr>\n",
       "      <th>Fedu</th>\n",
       "      <td>object</td>\n",
       "      <td>5</td>\n",
       "      <td>0.012658</td>\n",
       "      <td>0</td>\n",
       "      <td>0.000000</td>\n",
       "      <td>390</td>\n",
       "      <td>5</td>\n",
       "      <td>2</td>\n",
       "      <td>112</td>\n",
       "      <td>NaN</td>\n",
       "      <td>NaN</td>\n",
       "      <td>NaN</td>\n",
       "      <td>NaN</td>\n",
       "      <td>NaN</td>\n",
       "      <td>NaN</td>\n",
       "      <td>NaN</td>\n",
       "      <td>NaN</td>\n",
       "      <td>NaN</td>\n",
       "      <td>NaN</td>\n",
       "      <td>0</td>\n",
       "    </tr>\n",
       "    <tr>\n",
       "      <th>Medu</th>\n",
       "      <td>object</td>\n",
       "      <td>3</td>\n",
       "      <td>0.007595</td>\n",
       "      <td>0</td>\n",
       "      <td>0.000000</td>\n",
       "      <td>392</td>\n",
       "      <td>5</td>\n",
       "      <td>4</td>\n",
       "      <td>129</td>\n",
       "      <td>NaN</td>\n",
       "      <td>NaN</td>\n",
       "      <td>NaN</td>\n",
       "      <td>NaN</td>\n",
       "      <td>NaN</td>\n",
       "      <td>NaN</td>\n",
       "      <td>NaN</td>\n",
       "      <td>NaN</td>\n",
       "      <td>NaN</td>\n",
       "      <td>NaN</td>\n",
       "      <td>0</td>\n",
       "    </tr>\n",
       "    <tr>\n",
       "      <th>Pstatus</th>\n",
       "      <td>object</td>\n",
       "      <td>6</td>\n",
       "      <td>0.015190</td>\n",
       "      <td>0</td>\n",
       "      <td>0.000000</td>\n",
       "      <td>389</td>\n",
       "      <td>2</td>\n",
       "      <td>T</td>\n",
       "      <td>349</td>\n",
       "      <td>NaN</td>\n",
       "      <td>NaN</td>\n",
       "      <td>NaN</td>\n",
       "      <td>NaN</td>\n",
       "      <td>NaN</td>\n",
       "      <td>NaN</td>\n",
       "      <td>NaN</td>\n",
       "      <td>NaN</td>\n",
       "      <td>NaN</td>\n",
       "      <td>NaN</td>\n",
       "      <td>0</td>\n",
       "    </tr>\n",
       "    <tr>\n",
       "      <th>famsize</th>\n",
       "      <td>object</td>\n",
       "      <td>4</td>\n",
       "      <td>0.010127</td>\n",
       "      <td>0</td>\n",
       "      <td>0.000000</td>\n",
       "      <td>391</td>\n",
       "      <td>2</td>\n",
       "      <td>GT3</td>\n",
       "      <td>278</td>\n",
       "      <td>NaN</td>\n",
       "      <td>NaN</td>\n",
       "      <td>NaN</td>\n",
       "      <td>NaN</td>\n",
       "      <td>NaN</td>\n",
       "      <td>NaN</td>\n",
       "      <td>NaN</td>\n",
       "      <td>NaN</td>\n",
       "      <td>NaN</td>\n",
       "      <td>NaN</td>\n",
       "      <td>0</td>\n",
       "    </tr>\n",
       "    <tr>\n",
       "      <th>address</th>\n",
       "      <td>object</td>\n",
       "      <td>2</td>\n",
       "      <td>0.005063</td>\n",
       "      <td>0</td>\n",
       "      <td>0.000000</td>\n",
       "      <td>393</td>\n",
       "      <td>2</td>\n",
       "      <td>U</td>\n",
       "      <td>305</td>\n",
       "      <td>NaN</td>\n",
       "      <td>NaN</td>\n",
       "      <td>NaN</td>\n",
       "      <td>NaN</td>\n",
       "      <td>NaN</td>\n",
       "      <td>NaN</td>\n",
       "      <td>NaN</td>\n",
       "      <td>NaN</td>\n",
       "      <td>NaN</td>\n",
       "      <td>NaN</td>\n",
       "      <td>0</td>\n",
       "    </tr>\n",
       "    <tr>\n",
       "      <th>sex</th>\n",
       "      <td>object</td>\n",
       "      <td>3</td>\n",
       "      <td>0.007595</td>\n",
       "      <td>0</td>\n",
       "      <td>0.000000</td>\n",
       "      <td>392</td>\n",
       "      <td>2</td>\n",
       "      <td>F</td>\n",
       "      <td>206</td>\n",
       "      <td>NaN</td>\n",
       "      <td>NaN</td>\n",
       "      <td>NaN</td>\n",
       "      <td>NaN</td>\n",
       "      <td>NaN</td>\n",
       "      <td>NaN</td>\n",
       "      <td>NaN</td>\n",
       "      <td>NaN</td>\n",
       "      <td>NaN</td>\n",
       "      <td>NaN</td>\n",
       "      <td>0</td>\n",
       "    </tr>\n",
       "    <tr>\n",
       "      <th>paid</th>\n",
       "      <td>object</td>\n",
       "      <td>1</td>\n",
       "      <td>0.002532</td>\n",
       "      <td>0</td>\n",
       "      <td>0.000000</td>\n",
       "      <td>394</td>\n",
       "      <td>2</td>\n",
       "      <td>no</td>\n",
       "      <td>214</td>\n",
       "      <td>NaN</td>\n",
       "      <td>NaN</td>\n",
       "      <td>NaN</td>\n",
       "      <td>NaN</td>\n",
       "      <td>NaN</td>\n",
       "      <td>NaN</td>\n",
       "      <td>NaN</td>\n",
       "      <td>NaN</td>\n",
       "      <td>NaN</td>\n",
       "      <td>NaN</td>\n",
       "      <td>0</td>\n",
       "    </tr>\n",
       "    <tr>\n",
       "      <th>famsup</th>\n",
       "      <td>object</td>\n",
       "      <td>5</td>\n",
       "      <td>0.012658</td>\n",
       "      <td>0</td>\n",
       "      <td>0.000000</td>\n",
       "      <td>390</td>\n",
       "      <td>2</td>\n",
       "      <td>yes</td>\n",
       "      <td>239</td>\n",
       "      <td>NaN</td>\n",
       "      <td>NaN</td>\n",
       "      <td>NaN</td>\n",
       "      <td>NaN</td>\n",
       "      <td>NaN</td>\n",
       "      <td>NaN</td>\n",
       "      <td>NaN</td>\n",
       "      <td>NaN</td>\n",
       "      <td>NaN</td>\n",
       "      <td>NaN</td>\n",
       "      <td>0</td>\n",
       "    </tr>\n",
       "  </tbody>\n",
       "</table>\n",
       "</div>"
      ],
      "text/plain": [
       "               tipo  nulos  porc_nulos  ceros  porc_ceros count unique  \\\n",
       "G2            int64      0    0.000000     13    0.032911   395    NaN   \n",
       "failures    float64      5    0.012658    308    0.779747   390    NaN   \n",
       "goout       float64      5    0.012658      0    0.000000   390    NaN   \n",
       "health      float64      4    0.010127      0    0.000000   391    NaN   \n",
       "G3          float64      3    0.007595     37    0.093671   392    NaN   \n",
       "age         float64      4    0.010127      0    0.000000   391    NaN   \n",
       "G1          float64      4    0.010127      0    0.000000   391    NaN   \n",
       "absences    float64      4    0.010127    113    0.286076   391    NaN   \n",
       "Walc         object      5    0.012658      0    0.000000   390      5   \n",
       "Dalc         object      3    0.007595      0    0.000000   392      5   \n",
       "activities   object      5    0.012658      0    0.000000   390      2   \n",
       "famrel       object      5    0.012658      0    0.000000   390      5   \n",
       "romantic     object      2    0.005063      0    0.000000   393      2   \n",
       "internet     object      3    0.007595      0    0.000000   392      2   \n",
       "higher       object      6    0.015190      0    0.000000   389      2   \n",
       "nursery      object      6    0.015190      0    0.000000   389      2   \n",
       "freetime     object      2    0.005063      0    0.000000   393      5   \n",
       "school       object      5    0.012658      0    0.000000   390      2   \n",
       "schoolsup    object      8    0.020253      0    0.000000   387      2   \n",
       "studytime    object      5    0.012658      0    0.000000   390      4   \n",
       "traveltime   object      3    0.007595      0    0.000000   392      4   \n",
       "guardian     object      4    0.010127      0    0.000000   391      3   \n",
       "reason       object      4    0.010127      0    0.000000   391      4   \n",
       "Fjob         object      0    0.000000      0    0.000000   395      5   \n",
       "Mjob         object      6    0.015190      0    0.000000   389      5   \n",
       "Fedu         object      5    0.012658      0    0.000000   390      5   \n",
       "Medu         object      3    0.007595      0    0.000000   392      5   \n",
       "Pstatus      object      6    0.015190      0    0.000000   389      2   \n",
       "famsize      object      4    0.010127      0    0.000000   391      2   \n",
       "address      object      2    0.005063      0    0.000000   393      2   \n",
       "sex          object      3    0.007595      0    0.000000   392      2   \n",
       "paid         object      1    0.002532      0    0.000000   394      2   \n",
       "famsup       object      5    0.012658      0    0.000000   390      2   \n",
       "\n",
       "               top freq      mean       std  min  25%  50%  75%  max dist_IQR  \\\n",
       "G2             NaN  NaN   10.7139    3.7615    0    9   11   13   19        4   \n",
       "failures       NaN  NaN  0.335897  0.746883    0    0    0    0    3        0   \n",
       "goout          NaN  NaN   3.10256   1.11763    1    2    3    4    5        2   \n",
       "health         NaN  NaN   3.57033    1.3773    1    3    4    5    5        2   \n",
       "G3             NaN  NaN   10.4464   4.56801    0    8   11   14   20        6   \n",
       "age            NaN  NaN   16.6982   1.27941   15   16   17   18   22        2   \n",
       "G1             NaN  NaN   10.9335   3.32059    3    8   11   13   19        5   \n",
       "absences       NaN  NaN   5.73146   8.02509    0    0    4    8   75        8   \n",
       "Walc             1  150       NaN       NaN  NaN  NaN  NaN  NaN  NaN      NaN   \n",
       "Dalc             1  274       NaN       NaN  NaN  NaN  NaN  NaN  NaN      NaN   \n",
       "activities     yes  199       NaN       NaN  NaN  NaN  NaN  NaN  NaN      NaN   \n",
       "famrel           4  194       NaN       NaN  NaN  NaN  NaN  NaN  NaN      NaN   \n",
       "romantic        no  262       NaN       NaN  NaN  NaN  NaN  NaN  NaN      NaN   \n",
       "internet       yes  327       NaN       NaN  NaN  NaN  NaN  NaN  NaN      NaN   \n",
       "higher         yes  369       NaN       NaN  NaN  NaN  NaN  NaN  NaN      NaN   \n",
       "nursery        yes  309       NaN       NaN  NaN  NaN  NaN  NaN  NaN      NaN   \n",
       "freetime         3  157       NaN       NaN  NaN  NaN  NaN  NaN  NaN      NaN   \n",
       "school          GP  345       NaN       NaN  NaN  NaN  NaN  NaN  NaN      NaN   \n",
       "schoolsup       no  337       NaN       NaN  NaN  NaN  NaN  NaN  NaN      NaN   \n",
       "studytime        2  194       NaN       NaN  NaN  NaN  NaN  NaN  NaN      NaN   \n",
       "traveltime       1  254       NaN       NaN  NaN  NaN  NaN  NaN  NaN      NaN   \n",
       "guardian    mother  270       NaN       NaN  NaN  NaN  NaN  NaN  NaN      NaN   \n",
       "reason      course  144       NaN       NaN  NaN  NaN  NaN  NaN  NaN      NaN   \n",
       "Fjob         other  217       NaN       NaN  NaN  NaN  NaN  NaN  NaN      NaN   \n",
       "Mjob         other  138       NaN       NaN  NaN  NaN  NaN  NaN  NaN      NaN   \n",
       "Fedu             2  112       NaN       NaN  NaN  NaN  NaN  NaN  NaN      NaN   \n",
       "Medu             4  129       NaN       NaN  NaN  NaN  NaN  NaN  NaN      NaN   \n",
       "Pstatus          T  349       NaN       NaN  NaN  NaN  NaN  NaN  NaN      NaN   \n",
       "famsize        GT3  278       NaN       NaN  NaN  NaN  NaN  NaN  NaN      NaN   \n",
       "address          U  305       NaN       NaN  NaN  NaN  NaN  NaN  NaN      NaN   \n",
       "sex              F  206       NaN       NaN  NaN  NaN  NaN  NaN  NaN      NaN   \n",
       "paid            no  214       NaN       NaN  NaN  NaN  NaN  NaN  NaN      NaN   \n",
       "famsup         yes  239       NaN       NaN  NaN  NaN  NaN  NaN  NaN      NaN   \n",
       "\n",
       "           limit_inf limit_sup  outliers  \n",
       "G2                 3        19        13  \n",
       "failures           0         0        82  \n",
       "goout             -1         7         0  \n",
       "health             0         8         0  \n",
       "G3                -1        23         0  \n",
       "age               13        21         1  \n",
       "G1               0.5      20.5         0  \n",
       "absences         -12        20        15  \n",
       "Walc             NaN       NaN         0  \n",
       "Dalc             NaN       NaN         0  \n",
       "activities       NaN       NaN         0  \n",
       "famrel           NaN       NaN         0  \n",
       "romantic         NaN       NaN         0  \n",
       "internet         NaN       NaN         0  \n",
       "higher           NaN       NaN         0  \n",
       "nursery          NaN       NaN         0  \n",
       "freetime         NaN       NaN         0  \n",
       "school           NaN       NaN         0  \n",
       "schoolsup        NaN       NaN         0  \n",
       "studytime        NaN       NaN         0  \n",
       "traveltime       NaN       NaN         0  \n",
       "guardian         NaN       NaN         0  \n",
       "reason           NaN       NaN         0  \n",
       "Fjob             NaN       NaN         0  \n",
       "Mjob             NaN       NaN         0  \n",
       "Fedu             NaN       NaN         0  \n",
       "Medu             NaN       NaN         0  \n",
       "Pstatus          NaN       NaN         0  \n",
       "famsize          NaN       NaN         0  \n",
       "address          NaN       NaN         0  \n",
       "sex              NaN       NaN         0  \n",
       "paid             NaN       NaN         0  \n",
       "famsup           NaN       NaN         0  "
      ]
     },
     "execution_count": 70,
     "metadata": {},
     "output_type": "execute_result"
    }
   ],
   "source": [
    "calidad = calidad_datos(df)\n",
    "calidad"
   ]
  },
  {
   "cell_type": "markdown",
   "metadata": {},
   "source": [
    "De acuerdo a la tabla anterior se identifica:\n",
    "* Las clases se encuentran balanceadas\n",
    "* No existen porcentajes altos de nulos en ninguna de las variables"
   ]
  },
  {
   "cell_type": "code",
   "execution_count": 71,
   "metadata": {},
   "outputs": [
    {
     "data": {
      "text/plain": [
       "<matplotlib.axes._subplots.AxesSubplot at 0x7f80dcc649a0>"
      ]
     },
     "execution_count": 71,
     "metadata": {},
     "output_type": "execute_result"
    },
    {
     "data": {
      "image/png": "[encoded data removed]",
      "text/plain": [
       "<Figure size 560x420 with 1 Axes>"
      ]
     },
     "metadata": {},
     "output_type": "display_data"
    }
   ],
   "source": [
    "# grafica que visualiza el porcentaje de nulos\n",
    "calidad['porc_nulos'].plot(kind='barh')"
   ]
  },
  {
   "cell_type": "markdown",
   "metadata": {},
   "source": [
    "#### 3.1 Inspección visual vector objetivo"
   ]
  },
  {
   "cell_type": "code",
   "execution_count": 72,
   "metadata": {},
   "outputs": [
    {
     "data": {
      "image/png": "[encoded data removed]",
      "text/plain": [
       "<Figure size 560x420 with 1 Axes>"
      ]
     },
     "metadata": {},
     "output_type": "display_data"
    },
    {
     "data": {
      "image/png": "[encoded data removed]",
      "text/plain": [
       "<Figure size 560x420 with 1 Axes>"
      ]
     },
     "metadata": {},
     "output_type": "display_data"
    },
    {
     "data": {
      "image/png": "[encoded data removed]",
      "text/plain": [
       "<Figure size 560x420 with 1 Axes>"
      ]
     },
     "metadata": {},
     "output_type": "display_data"
    }
   ],
   "source": [
    "for col in ['G1', 'G2', 'G3']:\n",
    "    sns.countplot(x=df[col])\n",
    "    plt.axvline(df[col].mean())\n",
    "    plt.title(f'Distribución para variable: {col} - línea vertical representa la media')\n",
    "    plt.show()"
   ]
  },
  {
   "cell_type": "markdown",
   "metadata": {},
   "source": [
    "De las distribuciones anteriores, tanto para las variables de nuestro modelo descriptivo G1 y G2; como para la variable del modelo predictivo G3, se visualiza que:\n",
    "* La media de los promedios se encuentra cercana a 14\n",
    "* G2 y G3 presentan individuos con promedio 0, se podría considerar eliminar dichas muestras del modelo ya que tecnicamente esto es un error\n",
    "* La mayor cantidad de los alumnos presentan un promedio inferior a la media"
   ]
  },
  {
   "cell_type": "markdown",
   "metadata": {},
   "source": [
    "#### 3.2 Visualizaciónes entre atributos y/o variable objetivo"
   ]
  },
  {
   "cell_type": "code",
   "execution_count": 73,
   "metadata": {},
   "outputs": [
    {
     "data": {
      "text/plain": [
       "Text(0.5, 1.0, 'Escuela vs Promedio Final')"
      ]
     },
     "execution_count": 73,
     "metadata": {},
     "output_type": "execute_result"
    },
    {
     "data": {
      "image/png": "[encoded data removed]",
      "text/plain": [
       "<Figure size 560x420 with 1 Axes>"
      ]
     },
     "metadata": {},
     "output_type": "display_data"
    }
   ],
   "source": [
    "# relacion entre escuela y promedio final\n",
    "sns.boxplot(x='school', y='G3', data=df)\n",
    "plt.title('Escuela vs Promedio Final')"
   ]
  },
  {
   "cell_type": "markdown",
   "metadata": {},
   "source": [
    "Identificamos que la escuela MS posee un espectro de notas con mayor concentración, pero se podría esperar que la escuela GP presente mejores promedios. Esto puede ser visualizado a partir de la mediana en el boxplot."
   ]
  },
  {
   "cell_type": "code",
   "execution_count": 74,
   "metadata": {},
   "outputs": [
    {
     "data": {
      "text/plain": [
       "<matplotlib.axes._subplots.AxesSubplot at 0x7f80bfe9cf70>"
      ]
     },
     "execution_count": 74,
     "metadata": {},
     "output_type": "execute_result"
    },
    {
     "data": {
      "image/png": "[encoded data removed]",
      "text/plain": [
       "<Figure size 560x420 with 1 Axes>"
      ]
     },
     "metadata": {},
     "output_type": "display_data"
    }
   ],
   "source": [
    "sns.boxplot(x='sex', y='G3', data=df)"
   ]
  },
  {
   "cell_type": "markdown",
   "metadata": {},
   "source": [
    "El sexo no demuestra grandes diferencias para explicar el promedio final, pero si permite identificar que los hombres, en promedio, tienen promedios mayores que las mujeres."
   ]
  },
  {
   "cell_type": "code",
   "execution_count": 75,
   "metadata": {},
   "outputs": [
    {
     "data": {
      "text/plain": [
       "Text(0.5, 1.0, 'Ocupación madre vs promedio final')"
      ]
     },
     "execution_count": 75,
     "metadata": {},
     "output_type": "execute_result"
    },
    {
     "data": {
      "image/png": "[encoded data removed]",
      "text/plain": [
       "<Figure size 560x420 with 1 Axes>"
      ]
     },
     "metadata": {},
     "output_type": "display_data"
    }
   ],
   "source": [
    "# relacion ocupación de la madre en el promedio\n",
    "sns.boxplot(x='Mjob', y='G3', hue='sex', data=df)\n",
    "plt.title('Ocupación madre vs promedio final')"
   ]
  },
  {
   "cell_type": "markdown",
   "metadata": {},
   "source": [
    "Hijos/as de mujeres que trabajan en el área de la salud demuestran mejores promedios, aunque no se presentan grandes diferencias entre las ocupaciones, podría ser una variable que no tenga mucho peso en los coeficientes a estimar."
   ]
  },
  {
   "cell_type": "code",
   "execution_count": 76,
   "metadata": {},
   "outputs": [
    {
     "data": {
      "text/plain": [
       "Text(0.5, 1.0, 'Ocupación padre vs promedio final')"
      ]
     },
     "execution_count": 76,
     "metadata": {},
     "output_type": "execute_result"
    },
    {
     "data": {
      "image/png": "[encoded data removed]",
      "text/plain": [
       "<Figure size 560x420 with 1 Axes>"
      ]
     },
     "metadata": {},
     "output_type": "display_data"
    }
   ],
   "source": [
    "# relacion ocupación de la padre en el promedio\n",
    "sns.boxplot(x='Fjob', y='G3', hue='sex', data=df)\n",
    "plt.title('Ocupación padre vs promedio final')"
   ]
  },
  {
   "cell_type": "markdown",
   "metadata": {},
   "source": [
    "Se identifican diferencias importantes entre hijos de hombres que se desarrollan como profesores, donde destancan por sus mejores promedios finales."
   ]
  },
  {
   "cell_type": "code",
   "execution_count": 77,
   "metadata": {},
   "outputs": [
    {
     "data": {
      "text/plain": [
       "Text(0.5, 1.0, 'Tiempo de estudio vs promedio final')"
      ]
     },
     "execution_count": 77,
     "metadata": {},
     "output_type": "execute_result"
    },
    {
     "data": {
      "image/png": "[encoded data removed]",
      "text/plain": [
       "<Figure size 560x420 with 1 Axes>"
      ]
     },
     "metadata": {},
     "output_type": "display_data"
    }
   ],
   "source": [
    "sns.boxplot(x='studytime', y='G3', hue='sex', data=df)\n",
    "plt.title('Tiempo de estudio vs promedio final')"
   ]
  },
  {
   "cell_type": "markdown",
   "metadata": {},
   "source": [
    "Visualizamos a priori que los indivudios con 5-10 horas de estudio semanales muestran mejores promedios finales. Visualizamos también que existen observaciones con promedio final 0, las cuales debemos considerar si eliminarlas del modelo ya que no demuestran sentido de estudio y se espera puedan ser errores del conjunto de datos inicial."
   ]
  },
  {
   "cell_type": "code",
   "execution_count": 78,
   "metadata": {},
   "outputs": [
    {
     "data": {
      "image/png": "[encoded data removed]",
      "text/plain": [
       "<Figure size 560x420 with 1 Axes>"
      ]
     },
     "metadata": {},
     "output_type": "display_data"
    },
    {
     "data": {
      "image/png": "[encoded data removed]",
      "text/plain": [
       "<Figure size 560x420 with 1 Axes>"
      ]
     },
     "metadata": {},
     "output_type": "display_data"
    }
   ],
   "source": [
    "alc_dict = {\n",
    "    'Dalc': 'días de semana',\n",
    "    'Walc': 'fin de semana'\n",
    "}\n",
    "\n",
    "for col in ['Dalc', 'Walc']:\n",
    "    sns.boxplot(x=col, y='G3', data=df)\n",
    "    plt.title(f'Consumo de alcohol en {alc_dict[col]} vs promedio final')\n",
    "    plt.show()"
   ]
  },
  {
   "cell_type": "markdown",
   "metadata": {},
   "source": [
    "Se especifica que individuos con alto consumo de alcohol durante días de semana presentan mayores promedios, y quienes tienen bajos niveles de consumo de alcohol los fines de semana presentan una mediana mayor. A priori genera ruido."
   ]
  },
  {
   "cell_type": "markdown",
   "metadata": {},
   "source": [
    "#### Análisis de correlaciones"
   ]
  },
  {
   "cell_type": "code",
   "execution_count": 79,
   "metadata": {},
   "outputs": [
    {
     "data": {
      "text/plain": [
       "<matplotlib.axes._subplots.AxesSubplot at 0x7f80c05fcee0>"
      ]
     },
     "execution_count": 79,
     "metadata": {},
     "output_type": "execute_result"
    },
    {
     "data": {
      "image/png": "[encoded data removed]",
      "text/plain": [
       "<Figure size 560x420 with 2 Axes>"
      ]
     },
     "metadata": {},
     "output_type": "display_data"
    }
   ],
   "source": [
    "sns.heatmap(round(df.corr(), 2), annot=True, cmap='coolwarm', vmin=-1, vmax=1)"
   ]
  },
  {
   "cell_type": "markdown",
   "metadata": {},
   "source": [
    "En la gráfica anterior se identifica:\n",
    "* Alta correlación entre las variables G1, G2, y G3. Esto tiene sentido, ya que las tres especifican promedios, y además G3 es calculada en base a G1 y G2\n",
    "* Una tendencia general a presentar bajas correlaciones entre variables\n",
    "* Existen variables como: failures y schoolsup; que lideran las correlaciones con los promedios (~0.3). Sin embargo, las correlaciones son bajas"
   ]
  },
  {
   "cell_type": "markdown",
   "metadata": {},
   "source": [
    "#### 3.3 Análisis factorial"
   ]
  },
  {
   "cell_type": "markdown",
   "metadata": {},
   "source": [
    "En esta sección buscamos agrupar la batería de preguntas asociadas a factores ambientales (de famrel a health)."
   ]
  },
  {
   "cell_type": "code",
   "execution_count": 80,
   "metadata": {},
   "outputs": [],
   "source": [
    "df = df.dropna()"
   ]
  },
  {
   "cell_type": "code",
   "execution_count": 81,
   "metadata": {},
   "outputs": [],
   "source": [
    "# seleccionamos preguntas ambientales\n",
    "df_amb = df.loc[:, ['famrel', 'freetime', 'goout', 'Dalc', 'Walc', 'health']]"
   ]
  },
  {
   "cell_type": "code",
   "execution_count": 82,
   "metadata": {},
   "outputs": [],
   "source": [
    "for col in df_amb.columns:\n",
    "    try:\n",
    "        df_amb[col] = df_amb[col].astype(int)\n",
    "    except:\n",
    "        df_amb[col] = df_amb[col].astype(float)"
   ]
  },
  {
   "cell_type": "markdown",
   "metadata": {},
   "source": [
    "#### Supuestos"
   ]
  },
  {
   "cell_type": "markdown",
   "metadata": {},
   "source": [
    "1. Realizamos la prueba de esfericidad de Bartlett. Esta prueba tiene como hipótesis: \n",
    "\n",
    "* H0: la matriz de correlaciones entre las variables es una matriz identidad\n",
    "* H1: la matriz de correlaciones no es una matriz identidad"
   ]
  },
  {
   "cell_type": "code",
   "execution_count": 83,
   "metadata": {},
   "outputs": [
    {
     "data": {
      "text/plain": [
       "(264.4978629665065, 1.2695430067794125e-47)"
      ]
     },
     "execution_count": 83,
     "metadata": {},
     "output_type": "execute_result"
    }
   ],
   "source": [
    "# calculamos\n",
    "factor.calculate_bartlett_sphericity(df_amb)"
   ]
  },
  {
   "cell_type": "markdown",
   "metadata": {},
   "source": [
    "De acuerdo a los resultados anteriores identificamos un valor chi cuadrado de 264.5 y un valor p menor a 0.05 (=0.00..). Por lo tanto, podemos afirmar que existe covarianza significativa entre las variables."
   ]
  },
  {
   "cell_type": "markdown",
   "metadata": {},
   "source": [
    "2. Prueba Kaiser-Meyer-Olkin: Especifica si las correlaciones parciales entre dos items son cercanas a cero. "
   ]
  },
  {
   "cell_type": "code",
   "execution_count": 84,
   "metadata": {},
   "outputs": [],
   "source": [
    "factors_ = factor.calculate_kmo(df_amb)[0]"
   ]
  },
  {
   "cell_type": "code",
   "execution_count": 85,
   "metadata": {},
   "outputs": [
    {
     "data": {
      "text/html": [
       "<div>\n",
       "<style scoped>\n",
       "    .dataframe tbody tr th:only-of-type {\n",
       "        vertical-align: middle;\n",
       "    }\n",
       "\n",
       "    .dataframe tbody tr th {\n",
       "        vertical-align: top;\n",
       "    }\n",
       "\n",
       "    .dataframe thead th {\n",
       "        text-align: right;\n",
       "    }\n",
       "</style>\n",
       "<table border=\"1\" class=\"dataframe\">\n",
       "  <thead>\n",
       "    <tr style=\"text-align: right;\">\n",
       "      <th></th>\n",
       "      <th>variable</th>\n",
       "      <th>KMO</th>\n",
       "    </tr>\n",
       "  </thead>\n",
       "  <tbody>\n",
       "    <tr>\n",
       "      <th>0</th>\n",
       "      <td>famrel</td>\n",
       "      <td>0.501733</td>\n",
       "    </tr>\n",
       "    <tr>\n",
       "      <th>1</th>\n",
       "      <td>freetime</td>\n",
       "      <td>0.576923</td>\n",
       "    </tr>\n",
       "    <tr>\n",
       "      <th>2</th>\n",
       "      <td>goout</td>\n",
       "      <td>0.616840</td>\n",
       "    </tr>\n",
       "    <tr>\n",
       "      <th>3</th>\n",
       "      <td>Dalc</td>\n",
       "      <td>0.586642</td>\n",
       "    </tr>\n",
       "    <tr>\n",
       "      <th>4</th>\n",
       "      <td>Walc</td>\n",
       "      <td>0.555409</td>\n",
       "    </tr>\n",
       "    <tr>\n",
       "      <th>5</th>\n",
       "      <td>health</td>\n",
       "      <td>0.592659</td>\n",
       "    </tr>\n",
       "  </tbody>\n",
       "</table>\n",
       "</div>"
      ],
      "text/plain": [
       "   variable       KMO\n",
       "0    famrel  0.501733\n",
       "1  freetime  0.576923\n",
       "2     goout  0.616840\n",
       "3      Dalc  0.586642\n",
       "4      Walc  0.555409\n",
       "5    health  0.592659"
      ]
     },
     "execution_count": 85,
     "metadata": {},
     "output_type": "execute_result"
    }
   ],
   "source": [
    "pd.DataFrame(data={\n",
    "    'variable': df_amb.columns,\n",
    "    'KMO': factors_\n",
    "})"
   ]
  },
  {
   "cell_type": "markdown",
   "metadata": {},
   "source": [
    "De acuerdo a los resultados anteriores, como los KMO de variables individuales son menores a 0.7, e incluso el KMO global también es menor a 0.7, entonces NO existe al menos un factor latente sobre el cual se puedan abstraer las variables ambientales."
   ]
  },
  {
   "cell_type": "markdown",
   "metadata": {},
   "source": [
    "### 4. Modelación descriptiva"
   ]
  },
  {
   "cell_type": "code",
   "execution_count": 86,
   "metadata": {},
   "outputs": [],
   "source": [
    "# eliminamos individuos que presentan valores perdidos\n",
    "df = df.dropna()"
   ]
  },
  {
   "cell_type": "markdown",
   "metadata": {},
   "source": [
    "Primero que todo, transformamos variables categoricas utilizando Binary Encoding."
   ]
  },
  {
   "cell_type": "code",
   "execution_count": 87,
   "metadata": {},
   "outputs": [],
   "source": [
    "binary_dict = {'yes': 1, 'no': 0}"
   ]
  },
  {
   "cell_type": "code",
   "execution_count": 88,
   "metadata": {},
   "outputs": [],
   "source": [
    "for col in ['schoolsup', 'famsup', 'paid', 'activities', 'nursery', 'higher', 'internet', 'romantic']:\n",
    "    df[col] = df[col].replace(binary_dict)\n",
    "\n",
    "for col in ['goout', 'health']:\n",
    "    df[col] = df[col].astype(str)\n",
    "\n",
    "for col in ['G1', 'G3']:\n",
    "    df[col] = df[col].astype(int)"
   ]
  },
  {
   "cell_type": "code",
   "execution_count": 89,
   "metadata": {},
   "outputs": [],
   "source": [
    "df_dummies = pd.get_dummies(df, drop_first=True)\n",
    "df_dummies.columns = [col.replace('-', '_') for col in df_dummies.columns]"
   ]
  },
  {
   "cell_type": "code",
   "execution_count": 90,
   "metadata": {},
   "outputs": [],
   "source": [
    "# reemplazo de nombres dummies que se generaron a partir de variables float\n",
    "df_dummies.columns = df_dummies.columns.str.replace('.0', '')"
   ]
  },
  {
   "cell_type": "markdown",
   "metadata": {},
   "source": [
    "Segundo, estimamos descriptivamente los promedios semestrales (G1, G2) haciendo uso de OLS (mínimos cuadrados ordinarios):"
   ]
  },
  {
   "cell_type": "code",
   "execution_count": 91,
   "metadata": {},
   "outputs": [],
   "source": [
    "# eliminamos V.O's de acuerdo al promedio a estimar\n",
    "df_dummies_g1 = df_dummies.drop(['G2', 'G3'], axis=1)\n",
    "df_dummies_g2 = df_dummies.drop(['G1', 'G3'], axis=1)"
   ]
  },
  {
   "cell_type": "code",
   "execution_count": 92,
   "metadata": {},
   "outputs": [],
   "source": [
    "# construimos formula para el modelo OLS de statsmodels\n",
    "base_formula_g1_1 = model_formula(df_dummies_g1, var_obj='G1')\n",
    "base_formula_g2_1 = model_formula(df_dummies_g2, var_obj='G2')"
   ]
  },
  {
   "cell_type": "markdown",
   "metadata": {},
   "source": [
    "##### OLS - G1"
   ]
  },
  {
   "cell_type": "code",
   "execution_count": 93,
   "metadata": {},
   "outputs": [
    {
     "data": {
      "text/html": [
       "<table class=\"simpletable\">\n",
       "<caption>OLS Regression Results</caption>\n",
       "<tr>\n",
       "  <th>Dep. Variable:</th>           <td>G1</td>        <th>  R-squared:         </th> <td>   0.431</td>\n",
       "</tr>\n",
       "<tr>\n",
       "  <th>Model:</th>                   <td>OLS</td>       <th>  Adj. R-squared:    </th> <td>   0.254</td>\n",
       "</tr>\n",
       "<tr>\n",
       "  <th>Method:</th>             <td>Least Squares</td>  <th>  F-statistic:       </th> <td>   2.439</td>\n",
       "</tr>\n",
       "<tr>\n",
       "  <th>Date:</th>             <td>Fri, 08 Jul 2022</td> <th>  Prob (F-statistic):</th> <td>6.31e-07</td>\n",
       "</tr>\n",
       "<tr>\n",
       "  <th>Time:</th>                 <td>21:01:14</td>     <th>  Log-Likelihood:    </th> <td> -660.62</td>\n",
       "</tr>\n",
       "<tr>\n",
       "  <th>No. Observations:</th>      <td>   284</td>      <th>  AIC:               </th> <td>   1457.</td>\n",
       "</tr>\n",
       "<tr>\n",
       "  <th>Df Residuals:</th>          <td>   216</td>      <th>  BIC:               </th> <td>   1705.</td>\n",
       "</tr>\n",
       "<tr>\n",
       "  <th>Df Model:</th>              <td>    67</td>      <th>                     </th>     <td> </td>   \n",
       "</tr>\n",
       "<tr>\n",
       "  <th>Covariance Type:</th>      <td>nonrobust</td>    <th>                     </th>     <td> </td>   \n",
       "</tr>\n",
       "</table>\n",
       "<table class=\"simpletable\">\n",
       "<tr>\n",
       "          <td></td>             <th>coef</th>     <th>std err</th>      <th>t</th>      <th>P>|t|</th>  <th>[0.025</th>    <th>0.975]</th>  \n",
       "</tr>\n",
       "<tr>\n",
       "  <th>Intercept</th>         <td>   14.3756</td> <td>    6.206</td> <td>    2.317</td> <td> 0.021</td> <td>    2.144</td> <td>   26.607</td>\n",
       "</tr>\n",
       "<tr>\n",
       "  <th>age</th>               <td>    0.1333</td> <td>    0.189</td> <td>    0.706</td> <td> 0.481</td> <td>   -0.239</td> <td>    0.505</td>\n",
       "</tr>\n",
       "<tr>\n",
       "  <th>failures</th>          <td>   -0.9565</td> <td>    0.292</td> <td>   -3.272</td> <td> 0.001</td> <td>   -1.533</td> <td>   -0.380</td>\n",
       "</tr>\n",
       "<tr>\n",
       "  <th>schoolsup</th>         <td>   -1.5272</td> <td>    0.578</td> <td>   -2.640</td> <td> 0.009</td> <td>   -2.667</td> <td>   -0.387</td>\n",
       "</tr>\n",
       "<tr>\n",
       "  <th>famsup</th>            <td>   -1.2262</td> <td>    0.421</td> <td>   -2.914</td> <td> 0.004</td> <td>   -2.056</td> <td>   -0.397</td>\n",
       "</tr>\n",
       "<tr>\n",
       "  <th>paid</th>              <td>   -0.0497</td> <td>    0.430</td> <td>   -0.116</td> <td> 0.908</td> <td>   -0.897</td> <td>    0.797</td>\n",
       "</tr>\n",
       "<tr>\n",
       "  <th>activities</th>        <td>   -0.6551</td> <td>    0.390</td> <td>   -1.681</td> <td> 0.094</td> <td>   -1.423</td> <td>    0.113</td>\n",
       "</tr>\n",
       "<tr>\n",
       "  <th>nursery</th>           <td>   -0.0424</td> <td>    0.474</td> <td>   -0.089</td> <td> 0.929</td> <td>   -0.976</td> <td>    0.891</td>\n",
       "</tr>\n",
       "<tr>\n",
       "  <th>higher</th>            <td>    0.9995</td> <td>    0.963</td> <td>    1.038</td> <td> 0.301</td> <td>   -0.899</td> <td>    2.898</td>\n",
       "</tr>\n",
       "<tr>\n",
       "  <th>internet</th>          <td>    0.1089</td> <td>    0.527</td> <td>    0.207</td> <td> 0.836</td> <td>   -0.930</td> <td>    1.148</td>\n",
       "</tr>\n",
       "<tr>\n",
       "  <th>romantic</th>          <td>   -0.0402</td> <td>    0.436</td> <td>   -0.092</td> <td> 0.927</td> <td>   -0.899</td> <td>    0.818</td>\n",
       "</tr>\n",
       "<tr>\n",
       "  <th>absences</th>          <td>    0.0068</td> <td>    0.025</td> <td>    0.269</td> <td> 0.788</td> <td>   -0.043</td> <td>    0.056</td>\n",
       "</tr>\n",
       "<tr>\n",
       "  <th>school_MS</th>         <td>   -0.5294</td> <td>    0.689</td> <td>   -0.768</td> <td> 0.443</td> <td>   -1.887</td> <td>    0.828</td>\n",
       "</tr>\n",
       "<tr>\n",
       "  <th>sex_M</th>             <td>    0.6612</td> <td>    0.447</td> <td>    1.480</td> <td> 0.140</td> <td>   -0.219</td> <td>    1.542</td>\n",
       "</tr>\n",
       "<tr>\n",
       "  <th>address_U</th>         <td>   -0.0081</td> <td>    0.520</td> <td>   -0.016</td> <td> 0.988</td> <td>   -1.033</td> <td>    1.017</td>\n",
       "</tr>\n",
       "<tr>\n",
       "  <th>famsize_LE3</th>       <td>    0.3579</td> <td>    0.465</td> <td>    0.770</td> <td> 0.442</td> <td>   -0.558</td> <td>    1.273</td>\n",
       "</tr>\n",
       "<tr>\n",
       "  <th>Pstatus_T</th>         <td>   -0.2071</td> <td>    0.695</td> <td>   -0.298</td> <td> 0.766</td> <td>   -1.578</td> <td>    1.163</td>\n",
       "</tr>\n",
       "<tr>\n",
       "  <th>Medu_1</th>            <td>   -1.5261</td> <td>    3.198</td> <td>   -0.477</td> <td> 0.634</td> <td>   -7.829</td> <td>    4.777</td>\n",
       "</tr>\n",
       "<tr>\n",
       "  <th>Medu_2</th>            <td>   -1.6431</td> <td>    3.158</td> <td>   -0.520</td> <td> 0.603</td> <td>   -7.867</td> <td>    4.581</td>\n",
       "</tr>\n",
       "<tr>\n",
       "  <th>Medu_3</th>            <td>   -2.2090</td> <td>    3.160</td> <td>   -0.699</td> <td> 0.485</td> <td>   -8.438</td> <td>    4.020</td>\n",
       "</tr>\n",
       "<tr>\n",
       "  <th>Medu_4</th>            <td>   -1.0723</td> <td>    3.199</td> <td>   -0.335</td> <td> 0.738</td> <td>   -7.378</td> <td>    5.233</td>\n",
       "</tr>\n",
       "<tr>\n",
       "  <th>Fedu_1</th>            <td>   -3.7069</td> <td>    3.092</td> <td>   -1.199</td> <td> 0.232</td> <td>   -9.801</td> <td>    2.387</td>\n",
       "</tr>\n",
       "<tr>\n",
       "  <th>Fedu_2</th>            <td>   -2.9088</td> <td>    3.137</td> <td>   -0.927</td> <td> 0.355</td> <td>   -9.092</td> <td>    3.274</td>\n",
       "</tr>\n",
       "<tr>\n",
       "  <th>Fedu_3</th>            <td>   -3.3803</td> <td>    3.122</td> <td>   -1.083</td> <td> 0.280</td> <td>   -9.535</td> <td>    2.774</td>\n",
       "</tr>\n",
       "<tr>\n",
       "  <th>Fedu_4</th>            <td>   -2.8768</td> <td>    3.176</td> <td>   -0.906</td> <td> 0.366</td> <td>   -9.136</td> <td>    3.383</td>\n",
       "</tr>\n",
       "<tr>\n",
       "  <th>Mjob_health</th>       <td>    0.6816</td> <td>    0.965</td> <td>    0.707</td> <td> 0.481</td> <td>   -1.220</td> <td>    2.583</td>\n",
       "</tr>\n",
       "<tr>\n",
       "  <th>Mjob_other</th>        <td>   -0.6136</td> <td>    0.614</td> <td>   -0.999</td> <td> 0.319</td> <td>   -1.824</td> <td>    0.597</td>\n",
       "</tr>\n",
       "<tr>\n",
       "  <th>Mjob_services</th>     <td>    0.3671</td> <td>    0.689</td> <td>    0.533</td> <td> 0.595</td> <td>   -0.992</td> <td>    1.726</td>\n",
       "</tr>\n",
       "<tr>\n",
       "  <th>Mjob_teacher</th>      <td>   -1.0482</td> <td>    0.920</td> <td>   -1.139</td> <td> 0.256</td> <td>   -2.862</td> <td>    0.766</td>\n",
       "</tr>\n",
       "<tr>\n",
       "  <th>Fjob_health</th>       <td>   -0.3347</td> <td>    1.328</td> <td>   -0.252</td> <td> 0.801</td> <td>   -2.952</td> <td>    2.283</td>\n",
       "</tr>\n",
       "<tr>\n",
       "  <th>Fjob_other</th>        <td>   -0.7305</td> <td>    1.012</td> <td>   -0.722</td> <td> 0.471</td> <td>   -2.726</td> <td>    1.265</td>\n",
       "</tr>\n",
       "<tr>\n",
       "  <th>Fjob_services</th>     <td>   -0.3428</td> <td>    1.017</td> <td>   -0.337</td> <td> 0.736</td> <td>   -2.347</td> <td>    1.661</td>\n",
       "</tr>\n",
       "<tr>\n",
       "  <th>Fjob_teacher</th>      <td>    1.1229</td> <td>    1.246</td> <td>    0.901</td> <td> 0.368</td> <td>   -1.332</td> <td>    3.578</td>\n",
       "</tr>\n",
       "<tr>\n",
       "  <th>reason_home</th>       <td>    0.7255</td> <td>    0.492</td> <td>    1.474</td> <td> 0.142</td> <td>   -0.245</td> <td>    1.696</td>\n",
       "</tr>\n",
       "<tr>\n",
       "  <th>reason_other</th>      <td>   -0.0088</td> <td>    0.698</td> <td>   -0.013</td> <td> 0.990</td> <td>   -1.384</td> <td>    1.366</td>\n",
       "</tr>\n",
       "<tr>\n",
       "  <th>reason_reputation</th> <td>    0.6682</td> <td>    0.503</td> <td>    1.328</td> <td> 0.186</td> <td>   -0.324</td> <td>    1.660</td>\n",
       "</tr>\n",
       "<tr>\n",
       "  <th>guardian_mother</th>   <td>    0.0222</td> <td>    0.506</td> <td>    0.044</td> <td> 0.965</td> <td>   -0.976</td> <td>    1.020</td>\n",
       "</tr>\n",
       "<tr>\n",
       "  <th>guardian_other</th>    <td>   -0.1554</td> <td>    0.878</td> <td>   -0.177</td> <td> 0.860</td> <td>   -1.885</td> <td>    1.574</td>\n",
       "</tr>\n",
       "<tr>\n",
       "  <th>traveltime_2</th>      <td>   -0.4678</td> <td>    0.438</td> <td>   -1.069</td> <td> 0.286</td> <td>   -1.330</td> <td>    0.395</td>\n",
       "</tr>\n",
       "<tr>\n",
       "  <th>traveltime_3</th>      <td>    1.3224</td> <td>    0.840</td> <td>    1.574</td> <td> 0.117</td> <td>   -0.334</td> <td>    2.979</td>\n",
       "</tr>\n",
       "<tr>\n",
       "  <th>traveltime_4</th>      <td>   -1.4931</td> <td>    1.513</td> <td>   -0.987</td> <td> 0.325</td> <td>   -4.476</td> <td>    1.490</td>\n",
       "</tr>\n",
       "<tr>\n",
       "  <th>studytime_2</th>       <td>    0.3223</td> <td>    0.490</td> <td>    0.657</td> <td> 0.512</td> <td>   -0.644</td> <td>    1.289</td>\n",
       "</tr>\n",
       "<tr>\n",
       "  <th>studytime_3</th>       <td>    1.6397</td> <td>    0.657</td> <td>    2.495</td> <td> 0.013</td> <td>    0.344</td> <td>    2.935</td>\n",
       "</tr>\n",
       "<tr>\n",
       "  <th>studytime_4</th>       <td>    1.9486</td> <td>    0.877</td> <td>    2.222</td> <td> 0.027</td> <td>    0.220</td> <td>    3.677</td>\n",
       "</tr>\n",
       "<tr>\n",
       "  <th>famrel_2</th>          <td>    0.7575</td> <td>    1.665</td> <td>    0.455</td> <td> 0.650</td> <td>   -2.524</td> <td>    4.039</td>\n",
       "</tr>\n",
       "<tr>\n",
       "  <th>famrel_3</th>          <td>    0.2143</td> <td>    1.518</td> <td>    0.141</td> <td> 0.888</td> <td>   -2.778</td> <td>    3.206</td>\n",
       "</tr>\n",
       "<tr>\n",
       "  <th>famrel_4</th>          <td>    0.7764</td> <td>    1.481</td> <td>    0.524</td> <td> 0.601</td> <td>   -2.143</td> <td>    3.696</td>\n",
       "</tr>\n",
       "<tr>\n",
       "  <th>famrel_5</th>          <td>    0.5606</td> <td>    1.522</td> <td>    0.368</td> <td> 0.713</td> <td>   -2.439</td> <td>    3.560</td>\n",
       "</tr>\n",
       "<tr>\n",
       "  <th>freetime_2</th>        <td>    2.3967</td> <td>    0.942</td> <td>    2.543</td> <td> 0.012</td> <td>    0.539</td> <td>    4.254</td>\n",
       "</tr>\n",
       "<tr>\n",
       "  <th>freetime_3</th>        <td>    1.6121</td> <td>    0.896</td> <td>    1.798</td> <td> 0.074</td> <td>   -0.155</td> <td>    3.379</td>\n",
       "</tr>\n",
       "<tr>\n",
       "  <th>freetime_4</th>        <td>    2.0496</td> <td>    0.941</td> <td>    2.179</td> <td> 0.030</td> <td>    0.195</td> <td>    3.904</td>\n",
       "</tr>\n",
       "<tr>\n",
       "  <th>freetime_5</th>        <td>    3.6313</td> <td>    1.077</td> <td>    3.372</td> <td> 0.001</td> <td>    1.509</td> <td>    5.754</td>\n",
       "</tr>\n",
       "<tr>\n",
       "  <th>goout_2</th>           <td>   -1.1475</td> <td>    0.937</td> <td>   -1.225</td> <td> 0.222</td> <td>   -2.994</td> <td>    0.699</td>\n",
       "</tr>\n",
       "<tr>\n",
       "  <th>goout_3</th>           <td>   -1.9108</td> <td>    0.968</td> <td>   -1.975</td> <td> 0.050</td> <td>   -3.818</td> <td>   -0.004</td>\n",
       "</tr>\n",
       "<tr>\n",
       "  <th>goout_4</th>           <td>   -2.7738</td> <td>    1.014</td> <td>   -2.735</td> <td> 0.007</td> <td>   -4.773</td> <td>   -0.775</td>\n",
       "</tr>\n",
       "<tr>\n",
       "  <th>goout_5</th>           <td>   -3.2620</td> <td>    1.049</td> <td>   -3.109</td> <td> 0.002</td> <td>   -5.330</td> <td>   -1.194</td>\n",
       "</tr>\n",
       "<tr>\n",
       "  <th>Dalc_2</th>            <td>   -0.6531</td> <td>    0.594</td> <td>   -1.100</td> <td> 0.272</td> <td>   -1.823</td> <td>    0.517</td>\n",
       "</tr>\n",
       "<tr>\n",
       "  <th>Dalc_3</th>            <td>   -0.3724</td> <td>    0.935</td> <td>   -0.398</td> <td> 0.691</td> <td>   -2.215</td> <td>    1.470</td>\n",
       "</tr>\n",
       "<tr>\n",
       "  <th>Dalc_4</th>            <td>   -0.7940</td> <td>    1.269</td> <td>   -0.626</td> <td> 0.532</td> <td>   -3.295</td> <td>    1.707</td>\n",
       "</tr>\n",
       "<tr>\n",
       "  <th>Dalc_5</th>            <td>    0.1401</td> <td>    1.811</td> <td>    0.077</td> <td> 0.938</td> <td>   -3.429</td> <td>    3.709</td>\n",
       "</tr>\n",
       "<tr>\n",
       "  <th>Walc_2</th>            <td>    0.3336</td> <td>    0.543</td> <td>    0.615</td> <td> 0.539</td> <td>   -0.736</td> <td>    1.404</td>\n",
       "</tr>\n",
       "<tr>\n",
       "  <th>Walc_3</th>            <td>    0.8128</td> <td>    0.611</td> <td>    1.329</td> <td> 0.185</td> <td>   -0.392</td> <td>    2.018</td>\n",
       "</tr>\n",
       "<tr>\n",
       "  <th>Walc_4</th>            <td>    0.1229</td> <td>    0.783</td> <td>    0.157</td> <td> 0.875</td> <td>   -1.421</td> <td>    1.667</td>\n",
       "</tr>\n",
       "<tr>\n",
       "  <th>Walc_5</th>            <td>    1.1107</td> <td>    1.123</td> <td>    0.989</td> <td> 0.324</td> <td>   -1.102</td> <td>    3.323</td>\n",
       "</tr>\n",
       "<tr>\n",
       "  <th>health_2</th>          <td>   -0.6112</td> <td>    0.857</td> <td>   -0.713</td> <td> 0.476</td> <td>   -2.300</td> <td>    1.078</td>\n",
       "</tr>\n",
       "<tr>\n",
       "  <th>health_3</th>          <td>   -1.9780</td> <td>    0.735</td> <td>   -2.690</td> <td> 0.008</td> <td>   -3.427</td> <td>   -0.529</td>\n",
       "</tr>\n",
       "<tr>\n",
       "  <th>health_4</th>          <td>   -1.8202</td> <td>    0.751</td> <td>   -2.424</td> <td> 0.016</td> <td>   -3.300</td> <td>   -0.340</td>\n",
       "</tr>\n",
       "<tr>\n",
       "  <th>health_5</th>          <td>   -1.4837</td> <td>    0.696</td> <td>   -2.131</td> <td> 0.034</td> <td>   -2.856</td> <td>   -0.112</td>\n",
       "</tr>\n",
       "</table>\n",
       "<table class=\"simpletable\">\n",
       "<tr>\n",
       "  <th>Omnibus:</th>       <td> 6.038</td> <th>  Durbin-Watson:     </th> <td>   1.988</td>\n",
       "</tr>\n",
       "<tr>\n",
       "  <th>Prob(Omnibus):</th> <td> 0.049</td> <th>  Jarque-Bera (JB):  </th> <td>   3.918</td>\n",
       "</tr>\n",
       "<tr>\n",
       "  <th>Skew:</th>          <td> 0.113</td> <th>  Prob(JB):          </th> <td>   0.141</td>\n",
       "</tr>\n",
       "<tr>\n",
       "  <th>Kurtosis:</th>      <td> 2.471</td> <th>  Cond. No.          </th> <td>    901.</td>\n",
       "</tr>\n",
       "</table><br/><br/>Warnings:<br/>[1] Standard Errors assume that the covariance matrix of the errors is correctly specified."
      ],
      "text/plain": [
       "<class 'statsmodels.iolib.summary.Summary'>\n",
       "\"\"\"\n",
       "                            OLS Regression Results                            \n",
       "==============================================================================\n",
       "Dep. Variable:                     G1   R-squared:                       0.431\n",
       "Model:                            OLS   Adj. R-squared:                  0.254\n",
       "Method:                 Least Squares   F-statistic:                     2.439\n",
       "Date:                Fri, 08 Jul 2022   Prob (F-statistic):           6.31e-07\n",
       "Time:                        21:01:14   Log-Likelihood:                -660.62\n",
       "No. Observations:                 284   AIC:                             1457.\n",
       "Df Residuals:                     216   BIC:                             1705.\n",
       "Df Model:                          67                                         \n",
       "Covariance Type:            nonrobust                                         \n",
       "=====================================================================================\n",
       "                        coef    std err          t      P>|t|      [0.025      0.975]\n",
       "-------------------------------------------------------------------------------------\n",
       "Intercept            14.3756      6.206      2.317      0.021       2.144      26.607\n",
       "age                   0.1333      0.189      0.706      0.481      -0.239       0.505\n",
       "failures             -0.9565      0.292     -3.272      0.001      -1.533      -0.380\n",
       "schoolsup            -1.5272      0.578     -2.640      0.009      -2.667      -0.387\n",
       "famsup               -1.2262      0.421     -2.914      0.004      -2.056      -0.397\n",
       "paid                 -0.0497      0.430     -0.116      0.908      -0.897       0.797\n",
       "activities           -0.6551      0.390     -1.681      0.094      -1.423       0.113\n",
       "nursery              -0.0424      0.474     -0.089      0.929      -0.976       0.891\n",
       "higher                0.9995      0.963      1.038      0.301      -0.899       2.898\n",
       "internet              0.1089      0.527      0.207      0.836      -0.930       1.148\n",
       "romantic             -0.0402      0.436     -0.092      0.927      -0.899       0.818\n",
       "absences              0.0068      0.025      0.269      0.788      -0.043       0.056\n",
       "school_MS            -0.5294      0.689     -0.768      0.443      -1.887       0.828\n",
       "sex_M                 0.6612      0.447      1.480      0.140      -0.219       1.542\n",
       "address_U            -0.0081      0.520     -0.016      0.988      -1.033       1.017\n",
       "famsize_LE3           0.3579      0.465      0.770      0.442      -0.558       1.273\n",
       "Pstatus_T            -0.2071      0.695     -0.298      0.766      -1.578       1.163\n",
       "Medu_1               -1.5261      3.198     -0.477      0.634      -7.829       4.777\n",
       "Medu_2               -1.6431      3.158     -0.520      0.603      -7.867       4.581\n",
       "Medu_3               -2.2090      3.160     -0.699      0.485      -8.438       4.020\n",
       "Medu_4               -1.0723      3.199     -0.335      0.738      -7.378       5.233\n",
       "Fedu_1               -3.7069      3.092     -1.199      0.232      -9.801       2.387\n",
       "Fedu_2               -2.9088      3.137     -0.927      0.355      -9.092       3.274\n",
       "Fedu_3               -3.3803      3.122     -1.083      0.280      -9.535       2.774\n",
       "Fedu_4               -2.8768      3.176     -0.906      0.366      -9.136       3.383\n",
       "Mjob_health           0.6816      0.965      0.707      0.481      -1.220       2.583\n",
       "Mjob_other           -0.6136      0.614     -0.999      0.319      -1.824       0.597\n",
       "Mjob_services         0.3671      0.689      0.533      0.595      -0.992       1.726\n",
       "Mjob_teacher         -1.0482      0.920     -1.139      0.256      -2.862       0.766\n",
       "Fjob_health          -0.3347      1.328     -0.252      0.801      -2.952       2.283\n",
       "Fjob_other           -0.7305      1.012     -0.722      0.471      -2.726       1.265\n",
       "Fjob_services        -0.3428      1.017     -0.337      0.736      -2.347       1.661\n",
       "Fjob_teacher          1.1229      1.246      0.901      0.368      -1.332       3.578\n",
       "reason_home           0.7255      0.492      1.474      0.142      -0.245       1.696\n",
       "reason_other         -0.0088      0.698     -0.013      0.990      -1.384       1.366\n",
       "reason_reputation     0.6682      0.503      1.328      0.186      -0.324       1.660\n",
       "guardian_mother       0.0222      0.506      0.044      0.965      -0.976       1.020\n",
       "guardian_other       -0.1554      0.878     -0.177      0.860      -1.885       1.574\n",
       "traveltime_2         -0.4678      0.438     -1.069      0.286      -1.330       0.395\n",
       "traveltime_3          1.3224      0.840      1.574      0.117      -0.334       2.979\n",
       "traveltime_4         -1.4931      1.513     -0.987      0.325      -4.476       1.490\n",
       "studytime_2           0.3223      0.490      0.657      0.512      -0.644       1.289\n",
       "studytime_3           1.6397      0.657      2.495      0.013       0.344       2.935\n",
       "studytime_4           1.9486      0.877      2.222      0.027       0.220       3.677\n",
       "famrel_2              0.7575      1.665      0.455      0.650      -2.524       4.039\n",
       "famrel_3              0.2143      1.518      0.141      0.888      -2.778       3.206\n",
       "famrel_4              0.7764      1.481      0.524      0.601      -2.143       3.696\n",
       "famrel_5              0.5606      1.522      0.368      0.713      -2.439       3.560\n",
       "freetime_2            2.3967      0.942      2.543      0.012       0.539       4.254\n",
       "freetime_3            1.6121      0.896      1.798      0.074      -0.155       3.379\n",
       "freetime_4            2.0496      0.941      2.179      0.030       0.195       3.904\n",
       "freetime_5            3.6313      1.077      3.372      0.001       1.509       5.754\n",
       "goout_2              -1.1475      0.937     -1.225      0.222      -2.994       0.699\n",
       "goout_3              -1.9108      0.968     -1.975      0.050      -3.818      -0.004\n",
       "goout_4              -2.7738      1.014     -2.735      0.007      -4.773      -0.775\n",
       "goout_5              -3.2620      1.049     -3.109      0.002      -5.330      -1.194\n",
       "Dalc_2               -0.6531      0.594     -1.100      0.272      -1.823       0.517\n",
       "Dalc_3               -0.3724      0.935     -0.398      0.691      -2.215       1.470\n",
       "Dalc_4               -0.7940      1.269     -0.626      0.532      -3.295       1.707\n",
       "Dalc_5                0.1401      1.811      0.077      0.938      -3.429       3.709\n",
       "Walc_2                0.3336      0.543      0.615      0.539      -0.736       1.404\n",
       "Walc_3                0.8128      0.611      1.329      0.185      -0.392       2.018\n",
       "Walc_4                0.1229      0.783      0.157      0.875      -1.421       1.667\n",
       "Walc_5                1.1107      1.123      0.989      0.324      -1.102       3.323\n",
       "health_2             -0.6112      0.857     -0.713      0.476      -2.300       1.078\n",
       "health_3             -1.9780      0.735     -2.690      0.008      -3.427      -0.529\n",
       "health_4             -1.8202      0.751     -2.424      0.016      -3.300      -0.340\n",
       "health_5             -1.4837      0.696     -2.131      0.034      -2.856      -0.112\n",
       "==============================================================================\n",
       "Omnibus:                        6.038   Durbin-Watson:                   1.988\n",
       "Prob(Omnibus):                  0.049   Jarque-Bera (JB):                3.918\n",
       "Skew:                           0.113   Prob(JB):                        0.141\n",
       "Kurtosis:                       2.471   Cond. No.                         901.\n",
       "==============================================================================\n",
       "\n",
       "Warnings:\n",
       "[1] Standard Errors assume that the covariance matrix of the errors is correctly specified.\n",
       "\"\"\""
      ]
     },
     "execution_count": 93,
     "metadata": {},
     "output_type": "execute_result"
    }
   ],
   "source": [
    "# ajustamos\n",
    "model_g1_1 = smf.ols(base_formula_g1_1, data=df_dummies_g1).fit()\n",
    "model_g1_1.summary()"
   ]
  },
  {
   "cell_type": "markdown",
   "metadata": {},
   "source": [
    "Dado que el modelo OLS que busca predecir el promedio del primer semestre (G1) es significativo al 95% de confianza dado que el la probabilidad \"p\" del estadístico F es menor a 0.05; y además, identificamos que con las variables incorporadas al modelo explicamos en un 43% G1, entonces nuestro modelo es calificado como significativo."
   ]
  },
  {
   "cell_type": "markdown",
   "metadata": {},
   "source": [
    "Eliminamos variables que no son significativas (dejamos solo las significativas). Esto es: variables que contienen el cero en su intervalo de confianza."
   ]
  },
  {
   "cell_type": "code",
   "execution_count": 94,
   "metadata": {},
   "outputs": [],
   "source": [
    "sig_g1 = ['failures', 'schoolsup', 'famsup', 'studytime_3', 'studytime_4', 'freetime_2', 'freetime_4', 'freetime_5', 'goout_3', 'goout_4', 'goout_5', 'health_3', 'health_4', 'health_5', 'G1']\n",
    "df_sig_g1 = df_dummies_g1.loc[:, sig_g1]"
   ]
  },
  {
   "cell_type": "markdown",
   "metadata": {},
   "source": [
    "Volvemos a predecir G1 con variables significativas:"
   ]
  },
  {
   "cell_type": "code",
   "execution_count": 95,
   "metadata": {},
   "outputs": [],
   "source": [
    "base_formula_g1_2 = model_formula(df_sig_g1, var_obj='G1')"
   ]
  },
  {
   "cell_type": "code",
   "execution_count": 96,
   "metadata": {},
   "outputs": [
    {
     "data": {
      "text/html": [
       "<table class=\"simpletable\">\n",
       "<caption>OLS Regression Results</caption>\n",
       "<tr>\n",
       "  <th>Dep. Variable:</th>           <td>G1</td>        <th>  R-squared:         </th> <td>   0.290</td>\n",
       "</tr>\n",
       "<tr>\n",
       "  <th>Model:</th>                   <td>OLS</td>       <th>  Adj. R-squared:    </th> <td>   0.253</td>\n",
       "</tr>\n",
       "<tr>\n",
       "  <th>Method:</th>             <td>Least Squares</td>  <th>  F-statistic:       </th> <td>   7.832</td>\n",
       "</tr>\n",
       "<tr>\n",
       "  <th>Date:</th>             <td>Fri, 08 Jul 2022</td> <th>  Prob (F-statistic):</th> <td>6.77e-14</td>\n",
       "</tr>\n",
       "<tr>\n",
       "  <th>Time:</th>                 <td>21:01:14</td>     <th>  Log-Likelihood:    </th> <td> -692.07</td>\n",
       "</tr>\n",
       "<tr>\n",
       "  <th>No. Observations:</th>      <td>   284</td>      <th>  AIC:               </th> <td>   1414.</td>\n",
       "</tr>\n",
       "<tr>\n",
       "  <th>Df Residuals:</th>          <td>   269</td>      <th>  BIC:               </th> <td>   1469.</td>\n",
       "</tr>\n",
       "<tr>\n",
       "  <th>Df Model:</th>              <td>    14</td>      <th>                     </th>     <td> </td>   \n",
       "</tr>\n",
       "<tr>\n",
       "  <th>Covariance Type:</th>      <td>nonrobust</td>    <th>                     </th>     <td> </td>   \n",
       "</tr>\n",
       "</table>\n",
       "<table class=\"simpletable\">\n",
       "<tr>\n",
       "       <td></td>          <th>coef</th>     <th>std err</th>      <th>t</th>      <th>P>|t|</th>  <th>[0.025</th>    <th>0.975]</th>  \n",
       "</tr>\n",
       "<tr>\n",
       "  <th>Intercept</th>   <td>   12.7422</td> <td>    0.573</td> <td>   22.246</td> <td> 0.000</td> <td>   11.614</td> <td>   13.870</td>\n",
       "</tr>\n",
       "<tr>\n",
       "  <th>failures</th>    <td>   -1.2106</td> <td>    0.244</td> <td>   -4.955</td> <td> 0.000</td> <td>   -1.692</td> <td>   -0.730</td>\n",
       "</tr>\n",
       "<tr>\n",
       "  <th>schoolsup</th>   <td>   -1.7377</td> <td>    0.512</td> <td>   -3.396</td> <td> 0.001</td> <td>   -2.745</td> <td>   -0.730</td>\n",
       "</tr>\n",
       "<tr>\n",
       "  <th>famsup</th>      <td>   -0.6839</td> <td>    0.354</td> <td>   -1.934</td> <td> 0.054</td> <td>   -1.380</td> <td>    0.012</td>\n",
       "</tr>\n",
       "<tr>\n",
       "  <th>studytime_3</th> <td>    1.0939</td> <td>    0.460</td> <td>    2.376</td> <td> 0.018</td> <td>    0.187</td> <td>    2.000</td>\n",
       "</tr>\n",
       "<tr>\n",
       "  <th>studytime_4</th> <td>    1.0993</td> <td>    0.699</td> <td>    1.572</td> <td> 0.117</td> <td>   -0.278</td> <td>    2.476</td>\n",
       "</tr>\n",
       "<tr>\n",
       "  <th>freetime_2</th>  <td>    1.4646</td> <td>    0.483</td> <td>    3.030</td> <td> 0.003</td> <td>    0.513</td> <td>    2.416</td>\n",
       "</tr>\n",
       "<tr>\n",
       "  <th>freetime_4</th>  <td>    0.7665</td> <td>    0.425</td> <td>    1.803</td> <td> 0.073</td> <td>   -0.070</td> <td>    1.603</td>\n",
       "</tr>\n",
       "<tr>\n",
       "  <th>freetime_5</th>  <td>    2.4313</td> <td>    0.617</td> <td>    3.943</td> <td> 0.000</td> <td>    1.217</td> <td>    3.645</td>\n",
       "</tr>\n",
       "<tr>\n",
       "  <th>goout_3</th>     <td>   -0.4096</td> <td>    0.429</td> <td>   -0.955</td> <td> 0.340</td> <td>   -1.254</td> <td>    0.434</td>\n",
       "</tr>\n",
       "<tr>\n",
       "  <th>goout_4</th>     <td>   -1.2792</td> <td>    0.515</td> <td>   -2.485</td> <td> 0.014</td> <td>   -2.293</td> <td>   -0.266</td>\n",
       "</tr>\n",
       "<tr>\n",
       "  <th>goout_5</th>     <td>   -2.0543</td> <td>    0.609</td> <td>   -3.375</td> <td> 0.001</td> <td>   -3.253</td> <td>   -0.856</td>\n",
       "</tr>\n",
       "<tr>\n",
       "  <th>health_3</th>    <td>   -1.5122</td> <td>    0.525</td> <td>   -2.880</td> <td> 0.004</td> <td>   -2.546</td> <td>   -0.478</td>\n",
       "</tr>\n",
       "<tr>\n",
       "  <th>health_4</th>    <td>   -1.4002</td> <td>    0.561</td> <td>   -2.497</td> <td> 0.013</td> <td>   -2.504</td> <td>   -0.296</td>\n",
       "</tr>\n",
       "<tr>\n",
       "  <th>health_5</th>    <td>   -1.1565</td> <td>    0.482</td> <td>   -2.400</td> <td> 0.017</td> <td>   -2.105</td> <td>   -0.208</td>\n",
       "</tr>\n",
       "</table>\n",
       "<table class=\"simpletable\">\n",
       "<tr>\n",
       "  <th>Omnibus:</th>       <td>10.145</td> <th>  Durbin-Watson:     </th> <td>   2.000</td>\n",
       "</tr>\n",
       "<tr>\n",
       "  <th>Prob(Omnibus):</th> <td> 0.006</td> <th>  Jarque-Bera (JB):  </th> <td>   5.681</td>\n",
       "</tr>\n",
       "<tr>\n",
       "  <th>Skew:</th>          <td> 0.148</td> <th>  Prob(JB):          </th> <td>  0.0584</td>\n",
       "</tr>\n",
       "<tr>\n",
       "  <th>Kurtosis:</th>      <td> 2.373</td> <th>  Cond. No.          </th> <td>    8.01</td>\n",
       "</tr>\n",
       "</table><br/><br/>Warnings:<br/>[1] Standard Errors assume that the covariance matrix of the errors is correctly specified."
      ],
      "text/plain": [
       "<class 'statsmodels.iolib.summary.Summary'>\n",
       "\"\"\"\n",
       "                            OLS Regression Results                            \n",
       "==============================================================================\n",
       "Dep. Variable:                     G1   R-squared:                       0.290\n",
       "Model:                            OLS   Adj. R-squared:                  0.253\n",
       "Method:                 Least Squares   F-statistic:                     7.832\n",
       "Date:                Fri, 08 Jul 2022   Prob (F-statistic):           6.77e-14\n",
       "Time:                        21:01:14   Log-Likelihood:                -692.07\n",
       "No. Observations:                 284   AIC:                             1414.\n",
       "Df Residuals:                     269   BIC:                             1469.\n",
       "Df Model:                          14                                         \n",
       "Covariance Type:            nonrobust                                         \n",
       "===============================================================================\n",
       "                  coef    std err          t      P>|t|      [0.025      0.975]\n",
       "-------------------------------------------------------------------------------\n",
       "Intercept      12.7422      0.573     22.246      0.000      11.614      13.870\n",
       "failures       -1.2106      0.244     -4.955      0.000      -1.692      -0.730\n",
       "schoolsup      -1.7377      0.512     -3.396      0.001      -2.745      -0.730\n",
       "famsup         -0.6839      0.354     -1.934      0.054      -1.380       0.012\n",
       "studytime_3     1.0939      0.460      2.376      0.018       0.187       2.000\n",
       "studytime_4     1.0993      0.699      1.572      0.117      -0.278       2.476\n",
       "freetime_2      1.4646      0.483      3.030      0.003       0.513       2.416\n",
       "freetime_4      0.7665      0.425      1.803      0.073      -0.070       1.603\n",
       "freetime_5      2.4313      0.617      3.943      0.000       1.217       3.645\n",
       "goout_3        -0.4096      0.429     -0.955      0.340      -1.254       0.434\n",
       "goout_4        -1.2792      0.515     -2.485      0.014      -2.293      -0.266\n",
       "goout_5        -2.0543      0.609     -3.375      0.001      -3.253      -0.856\n",
       "health_3       -1.5122      0.525     -2.880      0.004      -2.546      -0.478\n",
       "health_4       -1.4002      0.561     -2.497      0.013      -2.504      -0.296\n",
       "health_5       -1.1565      0.482     -2.400      0.017      -2.105      -0.208\n",
       "==============================================================================\n",
       "Omnibus:                       10.145   Durbin-Watson:                   2.000\n",
       "Prob(Omnibus):                  0.006   Jarque-Bera (JB):                5.681\n",
       "Skew:                           0.148   Prob(JB):                       0.0584\n",
       "Kurtosis:                       2.373   Cond. No.                         8.01\n",
       "==============================================================================\n",
       "\n",
       "Warnings:\n",
       "[1] Standard Errors assume that the covariance matrix of the errors is correctly specified.\n",
       "\"\"\""
      ]
     },
     "execution_count": 96,
     "metadata": {},
     "output_type": "execute_result"
    }
   ],
   "source": [
    "model_g1_2 = smf.ols(base_formula_g1_2, data=df_sig_g1).fit()\n",
    "model_g1_2.summary()"
   ]
  },
  {
   "cell_type": "markdown",
   "metadata": {},
   "source": [
    "Identificamos que nuestro modelo mantiene su significancia al nivel 95% de confianza, pero disminuye la explicacion de los atributos sobre la variable explicada. Esto es normal ya que eliminamos del modelo la gran mayoría de variables que no demostraron significancia en el primer modelo."
   ]
  },
  {
   "cell_type": "markdown",
   "metadata": {},
   "source": [
    "Dado los resultados anteriores, para el modelo predictivo eliminaremos las variables que no demostraron significancia. La lógica del proceso se detalla mas adelante."
   ]
  },
  {
   "cell_type": "markdown",
   "metadata": {},
   "source": [
    "##### OLS - G2"
   ]
  },
  {
   "cell_type": "code",
   "execution_count": 97,
   "metadata": {},
   "outputs": [
    {
     "data": {
      "text/html": [
       "<table class=\"simpletable\">\n",
       "<caption>OLS Regression Results</caption>\n",
       "<tr>\n",
       "  <th>Dep. Variable:</th>           <td>G2</td>        <th>  R-squared:         </th> <td>   0.398</td>\n",
       "</tr>\n",
       "<tr>\n",
       "  <th>Model:</th>                   <td>OLS</td>       <th>  Adj. R-squared:    </th> <td>   0.211</td>\n",
       "</tr>\n",
       "<tr>\n",
       "  <th>Method:</th>             <td>Least Squares</td>  <th>  F-statistic:       </th> <td>   2.127</td>\n",
       "</tr>\n",
       "<tr>\n",
       "  <th>Date:</th>             <td>Fri, 08 Jul 2022</td> <th>  Prob (F-statistic):</th> <td>2.33e-05</td>\n",
       "</tr>\n",
       "<tr>\n",
       "  <th>Time:</th>                 <td>21:01:14</td>     <th>  Log-Likelihood:    </th> <td> -708.86</td>\n",
       "</tr>\n",
       "<tr>\n",
       "  <th>No. Observations:</th>      <td>   284</td>      <th>  AIC:               </th> <td>   1554.</td>\n",
       "</tr>\n",
       "<tr>\n",
       "  <th>Df Residuals:</th>          <td>   216</td>      <th>  BIC:               </th> <td>   1802.</td>\n",
       "</tr>\n",
       "<tr>\n",
       "  <th>Df Model:</th>              <td>    67</td>      <th>                     </th>     <td> </td>   \n",
       "</tr>\n",
       "<tr>\n",
       "  <th>Covariance Type:</th>      <td>nonrobust</td>    <th>                     </th>     <td> </td>   \n",
       "</tr>\n",
       "</table>\n",
       "<table class=\"simpletable\">\n",
       "<tr>\n",
       "          <td></td>             <th>coef</th>     <th>std err</th>      <th>t</th>      <th>P>|t|</th>  <th>[0.025</th>    <th>0.975]</th>  \n",
       "</tr>\n",
       "<tr>\n",
       "  <th>Intercept</th>         <td>   16.0212</td> <td>    7.355</td> <td>    2.178</td> <td> 0.030</td> <td>    1.525</td> <td>   30.517</td>\n",
       "</tr>\n",
       "<tr>\n",
       "  <th>age</th>               <td>    0.0116</td> <td>    0.224</td> <td>    0.052</td> <td> 0.959</td> <td>   -0.429</td> <td>    0.452</td>\n",
       "</tr>\n",
       "<tr>\n",
       "  <th>failures</th>          <td>   -0.9427</td> <td>    0.346</td> <td>   -2.721</td> <td> 0.007</td> <td>   -1.626</td> <td>   -0.260</td>\n",
       "</tr>\n",
       "<tr>\n",
       "  <th>schoolsup</th>         <td>   -0.8114</td> <td>    0.686</td> <td>   -1.184</td> <td> 0.238</td> <td>   -2.163</td> <td>    0.540</td>\n",
       "</tr>\n",
       "<tr>\n",
       "  <th>famsup</th>            <td>   -1.3213</td> <td>    0.499</td> <td>   -2.650</td> <td> 0.009</td> <td>   -2.304</td> <td>   -0.338</td>\n",
       "</tr>\n",
       "<tr>\n",
       "  <th>paid</th>              <td>    0.4399</td> <td>    0.509</td> <td>    0.864</td> <td> 0.389</td> <td>   -0.564</td> <td>    1.444</td>\n",
       "</tr>\n",
       "<tr>\n",
       "  <th>activities</th>        <td>   -0.4513</td> <td>    0.462</td> <td>   -0.977</td> <td> 0.330</td> <td>   -1.362</td> <td>    0.459</td>\n",
       "</tr>\n",
       "<tr>\n",
       "  <th>nursery</th>           <td>    0.1418</td> <td>    0.561</td> <td>    0.253</td> <td> 0.801</td> <td>   -0.965</td> <td>    1.248</td>\n",
       "</tr>\n",
       "<tr>\n",
       "  <th>higher</th>            <td>    1.1081</td> <td>    1.141</td> <td>    0.971</td> <td> 0.333</td> <td>   -1.142</td> <td>    3.358</td>\n",
       "</tr>\n",
       "<tr>\n",
       "  <th>internet</th>          <td>    0.6144</td> <td>    0.625</td> <td>    0.984</td> <td> 0.326</td> <td>   -0.617</td> <td>    1.845</td>\n",
       "</tr>\n",
       "<tr>\n",
       "  <th>romantic</th>          <td>   -0.5679</td> <td>    0.516</td> <td>   -1.100</td> <td> 0.273</td> <td>   -1.585</td> <td>    0.450</td>\n",
       "</tr>\n",
       "<tr>\n",
       "  <th>absences</th>          <td>   -0.0010</td> <td>    0.030</td> <td>   -0.034</td> <td> 0.973</td> <td>   -0.060</td> <td>    0.058</td>\n",
       "</tr>\n",
       "<tr>\n",
       "  <th>school_MS</th>         <td>    0.0655</td> <td>    0.816</td> <td>    0.080</td> <td> 0.936</td> <td>   -1.544</td> <td>    1.675</td>\n",
       "</tr>\n",
       "<tr>\n",
       "  <th>sex_M</th>             <td>    0.6801</td> <td>    0.529</td> <td>    1.285</td> <td> 0.200</td> <td>   -0.363</td> <td>    1.724</td>\n",
       "</tr>\n",
       "<tr>\n",
       "  <th>address_U</th>         <td>    0.7835</td> <td>    0.616</td> <td>    1.271</td> <td> 0.205</td> <td>   -0.431</td> <td>    1.998</td>\n",
       "</tr>\n",
       "<tr>\n",
       "  <th>famsize_LE3</th>       <td>    0.4015</td> <td>    0.551</td> <td>    0.729</td> <td> 0.467</td> <td>   -0.684</td> <td>    1.487</td>\n",
       "</tr>\n",
       "<tr>\n",
       "  <th>Pstatus_T</th>         <td>   -0.5563</td> <td>    0.824</td> <td>   -0.675</td> <td> 0.500</td> <td>   -2.181</td> <td>    1.068</td>\n",
       "</tr>\n",
       "<tr>\n",
       "  <th>Medu_1</th>            <td>   -1.7971</td> <td>    3.790</td> <td>   -0.474</td> <td> 0.636</td> <td>   -9.267</td> <td>    5.673</td>\n",
       "</tr>\n",
       "<tr>\n",
       "  <th>Medu_2</th>            <td>   -2.0008</td> <td>    3.743</td> <td>   -0.535</td> <td> 0.593</td> <td>   -9.377</td> <td>    5.376</td>\n",
       "</tr>\n",
       "<tr>\n",
       "  <th>Medu_3</th>            <td>   -2.4227</td> <td>    3.745</td> <td>   -0.647</td> <td> 0.518</td> <td>   -9.805</td> <td>    4.960</td>\n",
       "</tr>\n",
       "<tr>\n",
       "  <th>Medu_4</th>            <td>   -1.0769</td> <td>    3.791</td> <td>   -0.284</td> <td> 0.777</td> <td>   -8.550</td> <td>    6.396</td>\n",
       "</tr>\n",
       "<tr>\n",
       "  <th>Fedu_1</th>            <td>   -5.1769</td> <td>    3.664</td> <td>   -1.413</td> <td> 0.159</td> <td>  -12.399</td> <td>    2.045</td>\n",
       "</tr>\n",
       "<tr>\n",
       "  <th>Fedu_2</th>            <td>   -4.3871</td> <td>    3.718</td> <td>   -1.180</td> <td> 0.239</td> <td>  -11.715</td> <td>    2.941</td>\n",
       "</tr>\n",
       "<tr>\n",
       "  <th>Fedu_3</th>            <td>   -5.3195</td> <td>    3.701</td> <td>   -1.437</td> <td> 0.152</td> <td>  -12.613</td> <td>    1.974</td>\n",
       "</tr>\n",
       "<tr>\n",
       "  <th>Fedu_4</th>            <td>   -4.9762</td> <td>    3.764</td> <td>   -1.322</td> <td> 0.188</td> <td>  -12.395</td> <td>    2.442</td>\n",
       "</tr>\n",
       "<tr>\n",
       "  <th>Mjob_health</th>       <td>    0.9119</td> <td>    1.143</td> <td>    0.798</td> <td> 0.426</td> <td>   -1.341</td> <td>    3.165</td>\n",
       "</tr>\n",
       "<tr>\n",
       "  <th>Mjob_other</th>        <td>   -0.0085</td> <td>    0.728</td> <td>   -0.012</td> <td> 0.991</td> <td>   -1.443</td> <td>    1.426</td>\n",
       "</tr>\n",
       "<tr>\n",
       "  <th>Mjob_services</th>     <td>    0.6119</td> <td>    0.817</td> <td>    0.749</td> <td> 0.455</td> <td>   -0.998</td> <td>    2.222</td>\n",
       "</tr>\n",
       "<tr>\n",
       "  <th>Mjob_teacher</th>      <td>   -0.8605</td> <td>    1.091</td> <td>   -0.789</td> <td> 0.431</td> <td>   -3.011</td> <td>    1.290</td>\n",
       "</tr>\n",
       "<tr>\n",
       "  <th>Fjob_health</th>       <td>    0.3878</td> <td>    1.574</td> <td>    0.246</td> <td> 0.806</td> <td>   -2.714</td> <td>    3.490</td>\n",
       "</tr>\n",
       "<tr>\n",
       "  <th>Fjob_other</th>        <td>    0.2346</td> <td>    1.200</td> <td>    0.196</td> <td> 0.845</td> <td>   -2.130</td> <td>    2.599</td>\n",
       "</tr>\n",
       "<tr>\n",
       "  <th>Fjob_services</th>     <td>    0.9774</td> <td>    1.205</td> <td>    0.811</td> <td> 0.418</td> <td>   -1.397</td> <td>    3.352</td>\n",
       "</tr>\n",
       "<tr>\n",
       "  <th>Fjob_teacher</th>      <td>    1.5105</td> <td>    1.476</td> <td>    1.023</td> <td> 0.307</td> <td>   -1.399</td> <td>    4.420</td>\n",
       "</tr>\n",
       "<tr>\n",
       "  <th>reason_home</th>       <td>    0.7716</td> <td>    0.583</td> <td>    1.323</td> <td> 0.187</td> <td>   -0.378</td> <td>    1.921</td>\n",
       "</tr>\n",
       "<tr>\n",
       "  <th>reason_other</th>      <td>    0.6337</td> <td>    0.827</td> <td>    0.766</td> <td> 0.444</td> <td>   -0.996</td> <td>    2.263</td>\n",
       "</tr>\n",
       "<tr>\n",
       "  <th>reason_reputation</th> <td>    0.7677</td> <td>    0.596</td> <td>    1.287</td> <td> 0.199</td> <td>   -0.408</td> <td>    1.943</td>\n",
       "</tr>\n",
       "<tr>\n",
       "  <th>guardian_mother</th>   <td>   -0.0655</td> <td>    0.600</td> <td>   -0.109</td> <td> 0.913</td> <td>   -1.248</td> <td>    1.117</td>\n",
       "</tr>\n",
       "<tr>\n",
       "  <th>guardian_other</th>    <td>   -0.4856</td> <td>    1.040</td> <td>   -0.467</td> <td> 0.641</td> <td>   -2.536</td> <td>    1.564</td>\n",
       "</tr>\n",
       "<tr>\n",
       "  <th>traveltime_2</th>      <td>   -0.4547</td> <td>    0.519</td> <td>   -0.877</td> <td> 0.382</td> <td>   -1.477</td> <td>    0.567</td>\n",
       "</tr>\n",
       "<tr>\n",
       "  <th>traveltime_3</th>      <td>    1.2171</td> <td>    0.996</td> <td>    1.222</td> <td> 0.223</td> <td>   -0.746</td> <td>    3.180</td>\n",
       "</tr>\n",
       "<tr>\n",
       "  <th>traveltime_4</th>      <td>   -2.8993</td> <td>    1.794</td> <td>   -1.616</td> <td> 0.107</td> <td>   -6.434</td> <td>    0.636</td>\n",
       "</tr>\n",
       "<tr>\n",
       "  <th>studytime_2</th>       <td>    0.1879</td> <td>    0.581</td> <td>    0.323</td> <td> 0.747</td> <td>   -0.957</td> <td>    1.333</td>\n",
       "</tr>\n",
       "<tr>\n",
       "  <th>studytime_3</th>       <td>    1.2498</td> <td>    0.779</td> <td>    1.605</td> <td> 0.110</td> <td>   -0.285</td> <td>    2.785</td>\n",
       "</tr>\n",
       "<tr>\n",
       "  <th>studytime_4</th>       <td>    1.7767</td> <td>    1.039</td> <td>    1.709</td> <td> 0.089</td> <td>   -0.272</td> <td>    3.825</td>\n",
       "</tr>\n",
       "<tr>\n",
       "  <th>famrel_2</th>          <td>    1.4931</td> <td>    1.973</td> <td>    0.757</td> <td> 0.450</td> <td>   -2.396</td> <td>    5.382</td>\n",
       "</tr>\n",
       "<tr>\n",
       "  <th>famrel_3</th>          <td>    0.5241</td> <td>    1.799</td> <td>    0.291</td> <td> 0.771</td> <td>   -3.022</td> <td>    4.070</td>\n",
       "</tr>\n",
       "<tr>\n",
       "  <th>famrel_4</th>          <td>    0.9617</td> <td>    1.756</td> <td>    0.548</td> <td> 0.584</td> <td>   -2.499</td> <td>    4.422</td>\n",
       "</tr>\n",
       "<tr>\n",
       "  <th>famrel_5</th>          <td>    0.6282</td> <td>    1.803</td> <td>    0.348</td> <td> 0.728</td> <td>   -2.926</td> <td>    4.183</td>\n",
       "</tr>\n",
       "<tr>\n",
       "  <th>freetime_2</th>        <td>    1.7794</td> <td>    1.117</td> <td>    1.593</td> <td> 0.113</td> <td>   -0.422</td> <td>    3.981</td>\n",
       "</tr>\n",
       "<tr>\n",
       "  <th>freetime_3</th>        <td>    1.1170</td> <td>    1.062</td> <td>    1.051</td> <td> 0.294</td> <td>   -0.977</td> <td>    3.211</td>\n",
       "</tr>\n",
       "<tr>\n",
       "  <th>freetime_4</th>        <td>    1.6302</td> <td>    1.115</td> <td>    1.462</td> <td> 0.145</td> <td>   -0.567</td> <td>    3.828</td>\n",
       "</tr>\n",
       "<tr>\n",
       "  <th>freetime_5</th>        <td>    3.2584</td> <td>    1.276</td> <td>    2.553</td> <td> 0.011</td> <td>    0.743</td> <td>    5.774</td>\n",
       "</tr>\n",
       "<tr>\n",
       "  <th>goout_2</th>           <td>   -0.5586</td> <td>    1.110</td> <td>   -0.503</td> <td> 0.615</td> <td>   -2.747</td> <td>    1.630</td>\n",
       "</tr>\n",
       "<tr>\n",
       "  <th>goout_3</th>           <td>   -1.5883</td> <td>    1.147</td> <td>   -1.385</td> <td> 0.167</td> <td>   -3.848</td> <td>    0.672</td>\n",
       "</tr>\n",
       "<tr>\n",
       "  <th>goout_4</th>           <td>   -2.8564</td> <td>    1.202</td> <td>   -2.377</td> <td> 0.018</td> <td>   -5.225</td> <td>   -0.487</td>\n",
       "</tr>\n",
       "<tr>\n",
       "  <th>goout_5</th>           <td>   -3.7397</td> <td>    1.243</td> <td>   -3.008</td> <td> 0.003</td> <td>   -6.190</td> <td>   -1.289</td>\n",
       "</tr>\n",
       "<tr>\n",
       "  <th>Dalc_2</th>            <td>   -0.7878</td> <td>    0.704</td> <td>   -1.120</td> <td> 0.264</td> <td>   -2.175</td> <td>    0.599</td>\n",
       "</tr>\n",
       "<tr>\n",
       "  <th>Dalc_3</th>            <td>   -0.6164</td> <td>    1.108</td> <td>   -0.556</td> <td> 0.579</td> <td>   -2.800</td> <td>    1.568</td>\n",
       "</tr>\n",
       "<tr>\n",
       "  <th>Dalc_4</th>            <td>   -1.2672</td> <td>    1.504</td> <td>   -0.843</td> <td> 0.400</td> <td>   -4.232</td> <td>    1.697</td>\n",
       "</tr>\n",
       "<tr>\n",
       "  <th>Dalc_5</th>            <td>   -1.2135</td> <td>    2.146</td> <td>   -0.565</td> <td> 0.572</td> <td>   -5.443</td> <td>    3.016</td>\n",
       "</tr>\n",
       "<tr>\n",
       "  <th>Walc_2</th>            <td>   -0.0321</td> <td>    0.643</td> <td>   -0.050</td> <td> 0.960</td> <td>   -1.300</td> <td>    1.236</td>\n",
       "</tr>\n",
       "<tr>\n",
       "  <th>Walc_3</th>            <td>    1.1404</td> <td>    0.725</td> <td>    1.574</td> <td> 0.117</td> <td>   -0.288</td> <td>    2.569</td>\n",
       "</tr>\n",
       "<tr>\n",
       "  <th>Walc_4</th>            <td>    0.4164</td> <td>    0.928</td> <td>    0.449</td> <td> 0.654</td> <td>   -1.413</td> <td>    2.246</td>\n",
       "</tr>\n",
       "<tr>\n",
       "  <th>Walc_5</th>            <td>    2.7961</td> <td>    1.330</td> <td>    2.102</td> <td> 0.037</td> <td>    0.174</td> <td>    5.418</td>\n",
       "</tr>\n",
       "<tr>\n",
       "  <th>health_2</th>          <td>   -0.4636</td> <td>    1.016</td> <td>   -0.456</td> <td> 0.649</td> <td>   -2.465</td> <td>    1.538</td>\n",
       "</tr>\n",
       "<tr>\n",
       "  <th>health_3</th>          <td>   -2.4599</td> <td>    0.871</td> <td>   -2.823</td> <td> 0.005</td> <td>   -4.178</td> <td>   -0.742</td>\n",
       "</tr>\n",
       "<tr>\n",
       "  <th>health_4</th>          <td>   -2.1197</td> <td>    0.890</td> <td>   -2.382</td> <td> 0.018</td> <td>   -3.874</td> <td>   -0.366</td>\n",
       "</tr>\n",
       "<tr>\n",
       "  <th>health_5</th>          <td>   -1.8320</td> <td>    0.825</td> <td>   -2.220</td> <td> 0.027</td> <td>   -3.458</td> <td>   -0.206</td>\n",
       "</tr>\n",
       "</table>\n",
       "<table class=\"simpletable\">\n",
       "<tr>\n",
       "  <th>Omnibus:</th>       <td> 9.635</td> <th>  Durbin-Watson:     </th> <td>   1.758</td>\n",
       "</tr>\n",
       "<tr>\n",
       "  <th>Prob(Omnibus):</th> <td> 0.008</td> <th>  Jarque-Bera (JB):  </th> <td>   9.758</td>\n",
       "</tr>\n",
       "<tr>\n",
       "  <th>Skew:</th>          <td>-0.400</td> <th>  Prob(JB):          </th> <td> 0.00760</td>\n",
       "</tr>\n",
       "<tr>\n",
       "  <th>Kurtosis:</th>      <td> 3.429</td> <th>  Cond. No.          </th> <td>    901.</td>\n",
       "</tr>\n",
       "</table><br/><br/>Warnings:<br/>[1] Standard Errors assume that the covariance matrix of the errors is correctly specified."
      ],
      "text/plain": [
       "<class 'statsmodels.iolib.summary.Summary'>\n",
       "\"\"\"\n",
       "                            OLS Regression Results                            \n",
       "==============================================================================\n",
       "Dep. Variable:                     G2   R-squared:                       0.398\n",
       "Model:                            OLS   Adj. R-squared:                  0.211\n",
       "Method:                 Least Squares   F-statistic:                     2.127\n",
       "Date:                Fri, 08 Jul 2022   Prob (F-statistic):           2.33e-05\n",
       "Time:                        21:01:14   Log-Likelihood:                -708.86\n",
       "No. Observations:                 284   AIC:                             1554.\n",
       "Df Residuals:                     216   BIC:                             1802.\n",
       "Df Model:                          67                                         \n",
       "Covariance Type:            nonrobust                                         \n",
       "=====================================================================================\n",
       "                        coef    std err          t      P>|t|      [0.025      0.975]\n",
       "-------------------------------------------------------------------------------------\n",
       "Intercept            16.0212      7.355      2.178      0.030       1.525      30.517\n",
       "age                   0.0116      0.224      0.052      0.959      -0.429       0.452\n",
       "failures             -0.9427      0.346     -2.721      0.007      -1.626      -0.260\n",
       "schoolsup            -0.8114      0.686     -1.184      0.238      -2.163       0.540\n",
       "famsup               -1.3213      0.499     -2.650      0.009      -2.304      -0.338\n",
       "paid                  0.4399      0.509      0.864      0.389      -0.564       1.444\n",
       "activities           -0.4513      0.462     -0.977      0.330      -1.362       0.459\n",
       "nursery               0.1418      0.561      0.253      0.801      -0.965       1.248\n",
       "higher                1.1081      1.141      0.971      0.333      -1.142       3.358\n",
       "internet              0.6144      0.625      0.984      0.326      -0.617       1.845\n",
       "romantic             -0.5679      0.516     -1.100      0.273      -1.585       0.450\n",
       "absences             -0.0010      0.030     -0.034      0.973      -0.060       0.058\n",
       "school_MS             0.0655      0.816      0.080      0.936      -1.544       1.675\n",
       "sex_M                 0.6801      0.529      1.285      0.200      -0.363       1.724\n",
       "address_U             0.7835      0.616      1.271      0.205      -0.431       1.998\n",
       "famsize_LE3           0.4015      0.551      0.729      0.467      -0.684       1.487\n",
       "Pstatus_T            -0.5563      0.824     -0.675      0.500      -2.181       1.068\n",
       "Medu_1               -1.7971      3.790     -0.474      0.636      -9.267       5.673\n",
       "Medu_2               -2.0008      3.743     -0.535      0.593      -9.377       5.376\n",
       "Medu_3               -2.4227      3.745     -0.647      0.518      -9.805       4.960\n",
       "Medu_4               -1.0769      3.791     -0.284      0.777      -8.550       6.396\n",
       "Fedu_1               -5.1769      3.664     -1.413      0.159     -12.399       2.045\n",
       "Fedu_2               -4.3871      3.718     -1.180      0.239     -11.715       2.941\n",
       "Fedu_3               -5.3195      3.701     -1.437      0.152     -12.613       1.974\n",
       "Fedu_4               -4.9762      3.764     -1.322      0.188     -12.395       2.442\n",
       "Mjob_health           0.9119      1.143      0.798      0.426      -1.341       3.165\n",
       "Mjob_other           -0.0085      0.728     -0.012      0.991      -1.443       1.426\n",
       "Mjob_services         0.6119      0.817      0.749      0.455      -0.998       2.222\n",
       "Mjob_teacher         -0.8605      1.091     -0.789      0.431      -3.011       1.290\n",
       "Fjob_health           0.3878      1.574      0.246      0.806      -2.714       3.490\n",
       "Fjob_other            0.2346      1.200      0.196      0.845      -2.130       2.599\n",
       "Fjob_services         0.9774      1.205      0.811      0.418      -1.397       3.352\n",
       "Fjob_teacher          1.5105      1.476      1.023      0.307      -1.399       4.420\n",
       "reason_home           0.7716      0.583      1.323      0.187      -0.378       1.921\n",
       "reason_other          0.6337      0.827      0.766      0.444      -0.996       2.263\n",
       "reason_reputation     0.7677      0.596      1.287      0.199      -0.408       1.943\n",
       "guardian_mother      -0.0655      0.600     -0.109      0.913      -1.248       1.117\n",
       "guardian_other       -0.4856      1.040     -0.467      0.641      -2.536       1.564\n",
       "traveltime_2         -0.4547      0.519     -0.877      0.382      -1.477       0.567\n",
       "traveltime_3          1.2171      0.996      1.222      0.223      -0.746       3.180\n",
       "traveltime_4         -2.8993      1.794     -1.616      0.107      -6.434       0.636\n",
       "studytime_2           0.1879      0.581      0.323      0.747      -0.957       1.333\n",
       "studytime_3           1.2498      0.779      1.605      0.110      -0.285       2.785\n",
       "studytime_4           1.7767      1.039      1.709      0.089      -0.272       3.825\n",
       "famrel_2              1.4931      1.973      0.757      0.450      -2.396       5.382\n",
       "famrel_3              0.5241      1.799      0.291      0.771      -3.022       4.070\n",
       "famrel_4              0.9617      1.756      0.548      0.584      -2.499       4.422\n",
       "famrel_5              0.6282      1.803      0.348      0.728      -2.926       4.183\n",
       "freetime_2            1.7794      1.117      1.593      0.113      -0.422       3.981\n",
       "freetime_3            1.1170      1.062      1.051      0.294      -0.977       3.211\n",
       "freetime_4            1.6302      1.115      1.462      0.145      -0.567       3.828\n",
       "freetime_5            3.2584      1.276      2.553      0.011       0.743       5.774\n",
       "goout_2              -0.5586      1.110     -0.503      0.615      -2.747       1.630\n",
       "goout_3              -1.5883      1.147     -1.385      0.167      -3.848       0.672\n",
       "goout_4              -2.8564      1.202     -2.377      0.018      -5.225      -0.487\n",
       "goout_5              -3.7397      1.243     -3.008      0.003      -6.190      -1.289\n",
       "Dalc_2               -0.7878      0.704     -1.120      0.264      -2.175       0.599\n",
       "Dalc_3               -0.6164      1.108     -0.556      0.579      -2.800       1.568\n",
       "Dalc_4               -1.2672      1.504     -0.843      0.400      -4.232       1.697\n",
       "Dalc_5               -1.2135      2.146     -0.565      0.572      -5.443       3.016\n",
       "Walc_2               -0.0321      0.643     -0.050      0.960      -1.300       1.236\n",
       "Walc_3                1.1404      0.725      1.574      0.117      -0.288       2.569\n",
       "Walc_4                0.4164      0.928      0.449      0.654      -1.413       2.246\n",
       "Walc_5                2.7961      1.330      2.102      0.037       0.174       5.418\n",
       "health_2             -0.4636      1.016     -0.456      0.649      -2.465       1.538\n",
       "health_3             -2.4599      0.871     -2.823      0.005      -4.178      -0.742\n",
       "health_4             -2.1197      0.890     -2.382      0.018      -3.874      -0.366\n",
       "health_5             -1.8320      0.825     -2.220      0.027      -3.458      -0.206\n",
       "==============================================================================\n",
       "Omnibus:                        9.635   Durbin-Watson:                   1.758\n",
       "Prob(Omnibus):                  0.008   Jarque-Bera (JB):                9.758\n",
       "Skew:                          -0.400   Prob(JB):                      0.00760\n",
       "Kurtosis:                       3.429   Cond. No.                         901.\n",
       "==============================================================================\n",
       "\n",
       "Warnings:\n",
       "[1] Standard Errors assume that the covariance matrix of the errors is correctly specified.\n",
       "\"\"\""
      ]
     },
     "execution_count": 97,
     "metadata": {},
     "output_type": "execute_result"
    }
   ],
   "source": [
    "# ajuste G2\n",
    "model_g2_1 = smf.ols(base_formula_g2_1, data=df_dummies_g2).fit()\n",
    "model_g2_1.summary()"
   ]
  },
  {
   "cell_type": "markdown",
   "metadata": {},
   "source": [
    "Nuestro modelo para G2 (promedio segundo semestre) demuestra ser significativo al 95% de confianza, dado que la probabilidad estadística del estimador es menor a 0.05. Por otro lado, los atributos incorporados permiten explicar un 39.8% de G2."
   ]
  },
  {
   "cell_type": "markdown",
   "metadata": {},
   "source": [
    "Seleccionamos variables significativas y volvemos a hacer un fit por OLS:"
   ]
  },
  {
   "cell_type": "code",
   "execution_count": 98,
   "metadata": {},
   "outputs": [],
   "source": [
    "sig_g2 = ['failures', 'famsup', 'freetime_5', 'goout_4', 'goout_5', 'Walc_5', 'health_3', 'health_4', 'health_5', 'G2']\n",
    "df_sig_g2 = df_dummies_g2.loc[:, sig_g2]"
   ]
  },
  {
   "cell_type": "code",
   "execution_count": 99,
   "metadata": {},
   "outputs": [],
   "source": [
    "base_formula_g2_2 = model_formula(df_sig_g2, var_obj='G2')"
   ]
  },
  {
   "cell_type": "code",
   "execution_count": 100,
   "metadata": {},
   "outputs": [
    {
     "data": {
      "text/html": [
       "<table class=\"simpletable\">\n",
       "<caption>OLS Regression Results</caption>\n",
       "<tr>\n",
       "  <th>Dep. Variable:</th>           <td>G2</td>        <th>  R-squared:         </th> <td>   0.211</td>\n",
       "</tr>\n",
       "<tr>\n",
       "  <th>Model:</th>                   <td>OLS</td>       <th>  Adj. R-squared:    </th> <td>   0.185</td>\n",
       "</tr>\n",
       "<tr>\n",
       "  <th>Method:</th>             <td>Least Squares</td>  <th>  F-statistic:       </th> <td>   8.152</td>\n",
       "</tr>\n",
       "<tr>\n",
       "  <th>Date:</th>             <td>Fri, 08 Jul 2022</td> <th>  Prob (F-statistic):</th> <td>1.00e-10</td>\n",
       "</tr>\n",
       "<tr>\n",
       "  <th>Time:</th>                 <td>21:01:14</td>     <th>  Log-Likelihood:    </th> <td> -747.12</td>\n",
       "</tr>\n",
       "<tr>\n",
       "  <th>No. Observations:</th>      <td>   284</td>      <th>  AIC:               </th> <td>   1514.</td>\n",
       "</tr>\n",
       "<tr>\n",
       "  <th>Df Residuals:</th>          <td>   274</td>      <th>  BIC:               </th> <td>   1551.</td>\n",
       "</tr>\n",
       "<tr>\n",
       "  <th>Df Model:</th>              <td>     9</td>      <th>                     </th>     <td> </td>   \n",
       "</tr>\n",
       "<tr>\n",
       "  <th>Covariance Type:</th>      <td>nonrobust</td>    <th>                     </th>     <td> </td>   \n",
       "</tr>\n",
       "</table>\n",
       "<table class=\"simpletable\">\n",
       "<tr>\n",
       "       <td></td>         <th>coef</th>     <th>std err</th>      <th>t</th>      <th>P>|t|</th>  <th>[0.025</th>    <th>0.975]</th>  \n",
       "</tr>\n",
       "<tr>\n",
       "  <th>Intercept</th>  <td>   13.4504</td> <td>    0.558</td> <td>   24.107</td> <td> 0.000</td> <td>   12.352</td> <td>   14.549</td>\n",
       "</tr>\n",
       "<tr>\n",
       "  <th>failures</th>   <td>   -1.3950</td> <td>    0.292</td> <td>   -4.769</td> <td> 0.000</td> <td>   -1.971</td> <td>   -0.819</td>\n",
       "</tr>\n",
       "<tr>\n",
       "  <th>famsup</th>     <td>   -0.7501</td> <td>    0.418</td> <td>   -1.794</td> <td> 0.074</td> <td>   -1.573</td> <td>    0.073</td>\n",
       "</tr>\n",
       "<tr>\n",
       "  <th>freetime_5</th> <td>    2.0439</td> <td>    0.705</td> <td>    2.899</td> <td> 0.004</td> <td>    0.656</td> <td>    3.432</td>\n",
       "</tr>\n",
       "<tr>\n",
       "  <th>goout_4</th>    <td>   -1.5242</td> <td>    0.525</td> <td>   -2.903</td> <td> 0.004</td> <td>   -2.558</td> <td>   -0.491</td>\n",
       "</tr>\n",
       "<tr>\n",
       "  <th>goout_5</th>    <td>   -2.6483</td> <td>    0.710</td> <td>   -3.731</td> <td> 0.000</td> <td>   -4.046</td> <td>   -1.251</td>\n",
       "</tr>\n",
       "<tr>\n",
       "  <th>Walc_5</th>     <td>    1.0040</td> <td>    0.887</td> <td>    1.132</td> <td> 0.259</td> <td>   -0.743</td> <td>    2.751</td>\n",
       "</tr>\n",
       "<tr>\n",
       "  <th>health_3</th>   <td>   -2.1496</td> <td>    0.632</td> <td>   -3.401</td> <td> 0.001</td> <td>   -3.394</td> <td>   -0.905</td>\n",
       "</tr>\n",
       "<tr>\n",
       "  <th>health_4</th>   <td>   -1.9592</td> <td>    0.670</td> <td>   -2.923</td> <td> 0.004</td> <td>   -3.279</td> <td>   -0.639</td>\n",
       "</tr>\n",
       "<tr>\n",
       "  <th>health_5</th>   <td>   -1.6572</td> <td>    0.577</td> <td>   -2.873</td> <td> 0.004</td> <td>   -2.793</td> <td>   -0.521</td>\n",
       "</tr>\n",
       "</table>\n",
       "<table class=\"simpletable\">\n",
       "<tr>\n",
       "  <th>Omnibus:</th>       <td>13.380</td> <th>  Durbin-Watson:     </th> <td>   1.779</td>\n",
       "</tr>\n",
       "<tr>\n",
       "  <th>Prob(Omnibus):</th> <td> 0.001</td> <th>  Jarque-Bera (JB):  </th> <td>  14.024</td>\n",
       "</tr>\n",
       "<tr>\n",
       "  <th>Skew:</th>          <td>-0.494</td> <th>  Prob(JB):          </th> <td>0.000901</td>\n",
       "</tr>\n",
       "<tr>\n",
       "  <th>Kurtosis:</th>      <td> 3.458</td> <th>  Cond. No.          </th> <td>    7.25</td>\n",
       "</tr>\n",
       "</table><br/><br/>Warnings:<br/>[1] Standard Errors assume that the covariance matrix of the errors is correctly specified."
      ],
      "text/plain": [
       "<class 'statsmodels.iolib.summary.Summary'>\n",
       "\"\"\"\n",
       "                            OLS Regression Results                            \n",
       "==============================================================================\n",
       "Dep. Variable:                     G2   R-squared:                       0.211\n",
       "Model:                            OLS   Adj. R-squared:                  0.185\n",
       "Method:                 Least Squares   F-statistic:                     8.152\n",
       "Date:                Fri, 08 Jul 2022   Prob (F-statistic):           1.00e-10\n",
       "Time:                        21:01:14   Log-Likelihood:                -747.12\n",
       "No. Observations:                 284   AIC:                             1514.\n",
       "Df Residuals:                     274   BIC:                             1551.\n",
       "Df Model:                           9                                         \n",
       "Covariance Type:            nonrobust                                         \n",
       "==============================================================================\n",
       "                 coef    std err          t      P>|t|      [0.025      0.975]\n",
       "------------------------------------------------------------------------------\n",
       "Intercept     13.4504      0.558     24.107      0.000      12.352      14.549\n",
       "failures      -1.3950      0.292     -4.769      0.000      -1.971      -0.819\n",
       "famsup        -0.7501      0.418     -1.794      0.074      -1.573       0.073\n",
       "freetime_5     2.0439      0.705      2.899      0.004       0.656       3.432\n",
       "goout_4       -1.5242      0.525     -2.903      0.004      -2.558      -0.491\n",
       "goout_5       -2.6483      0.710     -3.731      0.000      -4.046      -1.251\n",
       "Walc_5         1.0040      0.887      1.132      0.259      -0.743       2.751\n",
       "health_3      -2.1496      0.632     -3.401      0.001      -3.394      -0.905\n",
       "health_4      -1.9592      0.670     -2.923      0.004      -3.279      -0.639\n",
       "health_5      -1.6572      0.577     -2.873      0.004      -2.793      -0.521\n",
       "==============================================================================\n",
       "Omnibus:                       13.380   Durbin-Watson:                   1.779\n",
       "Prob(Omnibus):                  0.001   Jarque-Bera (JB):               14.024\n",
       "Skew:                          -0.494   Prob(JB):                     0.000901\n",
       "Kurtosis:                       3.458   Cond. No.                         7.25\n",
       "==============================================================================\n",
       "\n",
       "Warnings:\n",
       "[1] Standard Errors assume that the covariance matrix of the errors is correctly specified.\n",
       "\"\"\""
      ]
     },
     "execution_count": 100,
     "metadata": {},
     "output_type": "execute_result"
    }
   ],
   "source": [
    "model_g2_2 = smf.ols(base_formula_g2_2, data=df_sig_g2).fit()\n",
    "model_g2_2.summary()"
   ]
  },
  {
   "cell_type": "markdown",
   "metadata": {},
   "source": [
    "El modelo mantiene su significancia, aunque el R2 disminuye, demostrando una menor explicacion del promedio G2. Además, existen variables que demostraron no ser significativas en este segundo modelo."
   ]
  },
  {
   "cell_type": "markdown",
   "metadata": {},
   "source": [
    "En cuanto a los resultados, se mantendrán para el modelo predictivo solo aquellas variables que demuestran significancia luego de los dos modelos OLS estudiados."
   ]
  },
  {
   "cell_type": "markdown",
   "metadata": {},
   "source": [
    "#### Próxima etapa"
   ]
  },
  {
   "cell_type": "markdown",
   "metadata": {},
   "source": [
    "Para el análisis predictivo del promedio final anual G3, se utilizará la concatenación de variables significativas entre los modelos g1_2 y g2_2, los cuales representan modelos con los atributos representativos del primer modelo para cada promedio (s1, s2).\n",
    "\n",
    "Posterior a ello, se procederá a dividir el conjunto de datos en conjuntos de entrenamiento y testeo. Para ello, se utilizará el módulo train_test_split de Scikit-Learn.\n",
    "\n",
    "Una vez divididos los conjuntos de datos, identificaremos la necesidad de estandarizar con StandardScaler. Esto solo será realizado en caso que existan variables numéricas con valores muy altos.\n",
    "\n",
    "Finalmente, ajustaremos el modelo, realizaremos predicciones, verificaremos la significancia de nuestro modelo a partir de los coeficientes y estadísticos presentados. Cabe destacar que se utilizará una regresión lineal para el ajuste."
   ]
  },
  {
   "cell_type": "markdown",
   "metadata": {},
   "source": [
    "Nota: no realizamos un modelo descriptivo sobre la variable objetivo G3 ya que al ser calculada a partir de las dos anteriores (G1 y G2), inferimos que la relación conjunta entre los predictores significativos de estas últimas deberían estar correlacionados a los resultados para G3."
   ]
  },
  {
   "cell_type": "markdown",
   "metadata": {},
   "source": [
    "### 5. Modelación predictiva"
   ]
  },
  {
   "cell_type": "code",
   "execution_count": 101,
   "metadata": {},
   "outputs": [],
   "source": [
    "def report_scores(y_predict, y_validate):\n",
    "    \"\"\"Calcula el error cuadrático medio y el r2 score entre dos vectores. El primero, el vector de valores predecidos por el\n",
    "    conjunto de prueba, y el segundo, el vector objetivo original.\n",
    "\n",
    "    Args:\n",
    "        y_predict (vector): vector de valores predecidos\n",
    "        y_validate (vector): vector de valores verdaderos\n",
    "    \"\"\"\n",
    "    mse = mean_squared_error(y_validate, y_predict)\n",
    "    r2 = r2_score(y_validate, y_predict).round(2)\n",
    "    print(f'Error cuadrático medio: {mse}')\n",
    "    print(f'R2: {r2}')"
   ]
  },
  {
   "cell_type": "markdown",
   "metadata": {},
   "source": [
    "#### Modelo 1"
   ]
  },
  {
   "cell_type": "code",
   "execution_count": 102,
   "metadata": {},
   "outputs": [],
   "source": [
    "# seleccionamos variables para utilizar en el modelo\n",
    "sig_vars = ['failures', 'schoolsup', 'studytime_3', 'freetime_2', 'freetime_5', 'goout_4', 'goout_5', 'health_3', 'health_4', 'health_5', 'G3']\n",
    "df_pred = df_dummies.loc[:, sig_vars]"
   ]
  },
  {
   "cell_type": "code",
   "execution_count": 103,
   "metadata": {},
   "outputs": [],
   "source": [
    "# separamos variable objetivo del conjunto de datos\n",
    "mat_atr = df_pred.drop('G3', axis=1)\n",
    "vec_obj = df_pred.loc[:, 'G3']"
   ]
  },
  {
   "cell_type": "code",
   "execution_count": 104,
   "metadata": {},
   "outputs": [],
   "source": [
    "# split de conjuntos de entrenamiento vs prueba\n",
    "\n",
    "X_train, X_test, y_train, y_test = train_test_split(mat_atr, vec_obj, test_size=.33, random_state=1238)"
   ]
  },
  {
   "cell_type": "code",
   "execution_count": 105,
   "metadata": {},
   "outputs": [],
   "source": [
    "# ajustamos modelo sin alterar hiperparámetros\n",
    "modelo_1 =  LinearRegression(fit_intercept=True).fit(X_train, y_train)"
   ]
  },
  {
   "cell_type": "code",
   "execution_count": 106,
   "metadata": {},
   "outputs": [],
   "source": [
    "# predecimos la V.O\n",
    "y_hat = modelo_1.predict(X_test)"
   ]
  },
  {
   "cell_type": "code",
   "execution_count": 108,
   "metadata": {},
   "outputs": [
    {
     "name": "stdout",
     "output_type": "stream",
     "text": [
      "Error cuadrático medio: 16.456976333470898\n",
      "R2: 0.19\n"
     ]
    }
   ],
   "source": [
    "# obtenemos métricas\n",
    "report_scores(y_hat, y_test)"
   ]
  },
  {
   "cell_type": "markdown",
   "metadata": {},
   "source": [
    "A partir de los resultados anteriores, se obtiene un MSE de 16.45, y por otro lado, los atributos incorporados al modelo explican en un 19% el promedio final anual."
   ]
  },
  {
   "cell_type": "markdown",
   "metadata": {},
   "source": [
    "#### Modelo 2"
   ]
  },
  {
   "cell_type": "markdown",
   "metadata": {},
   "source": [
    "Dado que failures es la única variable numérica que no es binaria, generamos un nuevo modelo con su integración cuadrática. Esto es, la elevaremos al cuadrado y realizaremos predicciones."
   ]
  },
  {
   "cell_type": "code",
   "execution_count": null,
   "metadata": {},
   "outputs": [],
   "source": [
    "# separamos variable objetivo del conjunto de datos\n",
    "mat_atr = df_pred.drop('G3', axis=1)\n",
    "vec_obj = df_pred.loc[:, 'G3']"
   ]
  },
  {
   "cell_type": "code",
   "execution_count": null,
   "metadata": {},
   "outputs": [],
   "source": [
    "# agregamos failures al cuadrado\n",
    "mat_atr1 = mat_atr.copy()\n",
    "mat_atr1['failures_2'] = mat_atr1['failures']**2"
   ]
  },
  {
   "cell_type": "code",
   "execution_count": null,
   "metadata": {},
   "outputs": [],
   "source": [
    "# split de conjuntos de entrenamiento vs prueba\n",
    "\n",
    "X_train1, X_test1, y_train1, y_test1 = train_test_split(mat_atr1, vec_obj, test_size=.33, random_state=1234)"
   ]
  },
  {
   "cell_type": "code",
   "execution_count": null,
   "metadata": {},
   "outputs": [],
   "source": [
    "# ajustamos modelo sin alterar hiperparámetros\n",
    "modelo_2 =  LinearRegression(fit_intercept=True).fit(X_train1, y_train1)"
   ]
  },
  {
   "cell_type": "code",
   "execution_count": null,
   "metadata": {},
   "outputs": [],
   "source": [
    "# predecimos la V.O\n",
    "y_hat1 = modelo_2.predict(X_test1)"
   ]
  },
  {
   "cell_type": "code",
   "execution_count": null,
   "metadata": {},
   "outputs": [
    {
     "name": "stdout",
     "output_type": "stream",
     "text": [
      "Error cuadrático medio: 20.73231988684381\n",
      "R2: 0.17\n"
     ]
    }
   ],
   "source": [
    "# obtenemos métricas\n",
    "report_scores(y_hat1, y_test1)"
   ]
  },
  {
   "cell_type": "markdown",
   "metadata": {},
   "source": [
    "A partir del resultado anterior identificamos que la interacción cuadrática de failures no aporta en la explicación del promedio final anual. De echo, aumenta el error cuadrático medio de 16.45 a 20.73, y disminuye la explicación del promedio final anual en un 2%. Dado ello, mantenemos como modelo base el modelo 1."
   ]
  }
 ],
 "metadata": {
  "kernelspec": {
   "display_name": "Python 3.8.3 ('base')",
   "language": "python",
   "name": "python3"
  },
  "language_info": {
   "codemirror_mode": {
    "name": "ipython",
    "version": 3
   },
   "file_extension": ".py",
   "mimetype": "text/x-python",
   "name": "python",
   "nbconvert_exporter": "python",
   "pygments_lexer": "ipython3",
   "version": "3.8.3"
  },
  "orig_nbformat": 4,
  "vscode": {
   "interpreter": {
    "hash": "40d3a090f54c6569ab1632332b64b2c03c39dcf918b08424e98f38b5ae0af88f"
   }
  }
 },
 "nbformat": 4,
 "nbformat_minor": 2
}
