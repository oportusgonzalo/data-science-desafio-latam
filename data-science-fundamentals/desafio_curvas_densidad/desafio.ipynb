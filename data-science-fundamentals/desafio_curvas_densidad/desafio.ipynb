{
 "cells": [
  {
   "cell_type": "code",
   "execution_count": 1,
   "id": "861bbcbd",
   "metadata": {},
   "outputs": [],
   "source": [
    "%matplotlib inline\n",
    "\n",
    "import pandas as pd\n",
    "import numpy as np\n",
    "\n",
    "import scipy.stats as stats\n",
    "\n",
    "import matplotlib.pyplot as plt\n",
    "plt.style.use('seaborn-whitegrid')\n",
    "plt.rcParams[\"figure.figsize\"] = (10, 6)"
   ]
  },
  {
   "cell_type": "markdown",
   "id": "3be17400",
   "metadata": {},
   "source": [
    "### 1. Importando archivo csv"
   ]
  },
  {
   "cell_type": "code",
   "execution_count": 2,
   "id": "3bf50345",
   "metadata": {},
   "outputs": [],
   "source": [
    "df = pd.read_csv('sample.csv').drop('Unnamed: 0', axis=1)"
   ]
  },
  {
   "cell_type": "markdown",
   "id": "322ce7fe",
   "metadata": {},
   "source": [
    "### 2. Importando funciones modulo anterior"
   ]
  },
  {
   "cell_type": "code",
   "execution_count": 3,
   "id": "301b7c9a",
   "metadata": {},
   "outputs": [],
   "source": [
    "from ancilliary_funcs import missing_cases"
   ]
  },
  {
   "cell_type": "code",
   "execution_count": 4,
   "id": "2d05552c",
   "metadata": {},
   "outputs": [
    {
     "name": "stdout",
     "output_type": "stream",
     "text": [
      "Casos nulos para cname: 0\n",
      "Porcentaje nulos para cname: 0.0\n",
      "----------------------------------------------------------------------------------------------------\n",
      "Casos nulos para ccodealp: 0\n",
      "Porcentaje nulos para ccodealp: 0.0\n",
      "----------------------------------------------------------------------------------------------------\n",
      "Casos nulos para ht_region: 0\n",
      "Porcentaje nulos para ht_region: 0.0\n",
      "----------------------------------------------------------------------------------------------------\n",
      "Casos nulos para gle_cgdpc: 1\n",
      "Porcentaje nulos para gle_cgdpc: 0.010309278350515464\n",
      "----------------------------------------------------------------------------------------------------\n",
      "Casos nulos para undp_hdi: 6\n",
      "Porcentaje nulos para undp_hdi: 0.061855670103092786\n",
      "----------------------------------------------------------------------------------------------------\n",
      "Casos nulos para imf_pop: 25\n",
      "Porcentaje nulos para imf_pop: 0.25773195876288657\n",
      "----------------------------------------------------------------------------------------------------\n",
      "Casos nulos para wef_imort: 21\n",
      "Porcentaje nulos para wef_imort: 0.21649484536082475\n",
      "----------------------------------------------------------------------------------------------------\n",
      "Casos nulos para who_alc2000: 8\n",
      "Porcentaje nulos para who_alc2000: 0.08247422680412371\n",
      "----------------------------------------------------------------------------------------------------\n",
      "Casos nulos para who_tobt: 36\n",
      "Porcentaje nulos para who_tobt: 0.3711340206185567\n",
      "----------------------------------------------------------------------------------------------------\n",
      "Casos nulos para wdi_exph: 4\n",
      "Porcentaje nulos para wdi_exph: 0.041237113402061855\n",
      "----------------------------------------------------------------------------------------------------\n"
     ]
    }
   ],
   "source": [
    "# explorando casos perdidos en la muestra importada\n",
    "for col in df.columns:\n",
    "    missing_cases(df, var=col, print_list=False)\n",
    "    print('-'*100)"
   ]
  },
  {
   "cell_type": "markdown",
   "id": "7c184adf",
   "metadata": {},
   "source": [
    "### 3. Estimando puntaje Z"
   ]
  },
  {
   "cell_type": "markdown",
   "id": "e8f15c48",
   "metadata": {},
   "source": [
    "La variable con menor cantidad de casos perdidos es: \"gle_cgdpc\""
   ]
  },
  {
   "cell_type": "code",
   "execution_count": 5,
   "id": "a077b838",
   "metadata": {},
   "outputs": [],
   "source": [
    "# seleccionamos columnas identificadoras y la variable con menor casos perdidos\n",
    "df_gle = df.loc[:, ['cname', 'ccodealp', 'ht_region', 'gle_cgdpc']]"
   ]
  },
  {
   "cell_type": "code",
   "execution_count": 6,
   "id": "6cc671f1",
   "metadata": {},
   "outputs": [],
   "source": [
    "# eliminamos valores perdidos\n",
    "df_gle = df_gle[~df_gle['gle_cgdpc'].isna()]"
   ]
  },
  {
   "cell_type": "code",
   "execution_count": 7,
   "id": "6723838f",
   "metadata": {},
   "outputs": [],
   "source": [
    "# obtenemos media y desviacion estandar\n",
    "mean_gle = np.mean(df_gle['gle_cgdpc'])\n",
    "std_gle = np.std(df_gle['gle_cgdpc'])"
   ]
  },
  {
   "cell_type": "code",
   "execution_count": 8,
   "id": "d239087c",
   "metadata": {},
   "outputs": [
    {
     "data": {
      "text/plain": [
       "(14425.3236915625, 19748.417009034943)"
      ]
     },
     "execution_count": 8,
     "metadata": {},
     "output_type": "execute_result"
    }
   ],
   "source": [
    "mean_gle, std_gle"
   ]
  },
  {
   "cell_type": "code",
   "execution_count": 9,
   "id": "aadd7bb1",
   "metadata": {},
   "outputs": [],
   "source": [
    "# creamos columna con puntaje z\n",
    "df_gle['value_z'] = (df_gle['gle_cgdpc'] - mean_gle) / std_gle"
   ]
  },
  {
   "cell_type": "code",
   "execution_count": 10,
   "id": "cfe909cf",
   "metadata": {},
   "outputs": [],
   "source": [
    "# ordenamos el df por puntaje z\n",
    "df_gle = df_gle.sort_values(by='value_z').reset_index(drop=True)"
   ]
  },
  {
   "cell_type": "code",
   "execution_count": 11,
   "id": "ac7ada37",
   "metadata": {},
   "outputs": [
    {
     "data": {
      "text/html": [
       "<div>\n",
       "<style scoped>\n",
       "    .dataframe tbody tr th:only-of-type {\n",
       "        vertical-align: middle;\n",
       "    }\n",
       "\n",
       "    .dataframe tbody tr th {\n",
       "        vertical-align: top;\n",
       "    }\n",
       "\n",
       "    .dataframe thead th {\n",
       "        text-align: right;\n",
       "    }\n",
       "</style>\n",
       "<table border=\"1\" class=\"dataframe\">\n",
       "  <thead>\n",
       "    <tr style=\"text-align: right;\">\n",
       "      <th></th>\n",
       "      <th>cname</th>\n",
       "      <th>ccodealp</th>\n",
       "      <th>ht_region</th>\n",
       "      <th>gle_cgdpc</th>\n",
       "      <th>value_z</th>\n",
       "    </tr>\n",
       "  </thead>\n",
       "  <tbody>\n",
       "    <tr>\n",
       "      <th>0</th>\n",
       "      <td>El Salvador</td>\n",
       "      <td>SLV</td>\n",
       "      <td>LatAm</td>\n",
       "      <td>332.26999</td>\n",
       "      <td>-0.713630</td>\n",
       "    </tr>\n",
       "    <tr>\n",
       "      <th>1</th>\n",
       "      <td>Burundi</td>\n",
       "      <td>BDI</td>\n",
       "      <td>SubSaharian</td>\n",
       "      <td>663.57001</td>\n",
       "      <td>-0.696854</td>\n",
       "    </tr>\n",
       "    <tr>\n",
       "      <th>2</th>\n",
       "      <td>Central African Republic</td>\n",
       "      <td>CAF</td>\n",
       "      <td>SubSaharian</td>\n",
       "      <td>690.03998</td>\n",
       "      <td>-0.695513</td>\n",
       "    </tr>\n",
       "    <tr>\n",
       "      <th>3</th>\n",
       "      <td>Ethiopia (1993-)</td>\n",
       "      <td>ETH</td>\n",
       "      <td>SubSaharian</td>\n",
       "      <td>900.77002</td>\n",
       "      <td>-0.684842</td>\n",
       "    </tr>\n",
       "    <tr>\n",
       "      <th>4</th>\n",
       "      <td>Malawi</td>\n",
       "      <td>MWI</td>\n",
       "      <td>SubSaharian</td>\n",
       "      <td>938.34998</td>\n",
       "      <td>-0.682939</td>\n",
       "    </tr>\n",
       "    <tr>\n",
       "      <th>5</th>\n",
       "      <td>Comoros</td>\n",
       "      <td>COM</td>\n",
       "      <td>SubSaharian</td>\n",
       "      <td>972.35999</td>\n",
       "      <td>-0.681217</td>\n",
       "    </tr>\n",
       "    <tr>\n",
       "      <th>6</th>\n",
       "      <td>Guinea</td>\n",
       "      <td>GIN</td>\n",
       "      <td>SubSaharian</td>\n",
       "      <td>993.83002</td>\n",
       "      <td>-0.680130</td>\n",
       "    </tr>\n",
       "    <tr>\n",
       "      <th>7</th>\n",
       "      <td>Mali</td>\n",
       "      <td>MLI</td>\n",
       "      <td>SubSaharian</td>\n",
       "      <td>1063.26000</td>\n",
       "      <td>-0.676614</td>\n",
       "    </tr>\n",
       "    <tr>\n",
       "      <th>8</th>\n",
       "      <td>Afghanistan</td>\n",
       "      <td>AFG</td>\n",
       "      <td>SouthAsia</td>\n",
       "      <td>1282.64000</td>\n",
       "      <td>-0.665506</td>\n",
       "    </tr>\n",
       "    <tr>\n",
       "      <th>9</th>\n",
       "      <td>Uganda</td>\n",
       "      <td>UGA</td>\n",
       "      <td>SubSaharian</td>\n",
       "      <td>1343.45000</td>\n",
       "      <td>-0.662426</td>\n",
       "    </tr>\n",
       "  </tbody>\n",
       "</table>\n",
       "</div>"
      ],
      "text/plain": [
       "                      cname ccodealp    ht_region   gle_cgdpc   value_z\n",
       "0               El Salvador      SLV        LatAm   332.26999 -0.713630\n",
       "1                   Burundi      BDI  SubSaharian   663.57001 -0.696854\n",
       "2  Central African Republic      CAF  SubSaharian   690.03998 -0.695513\n",
       "3          Ethiopia (1993-)      ETH  SubSaharian   900.77002 -0.684842\n",
       "4                    Malawi      MWI  SubSaharian   938.34998 -0.682939\n",
       "5                   Comoros      COM  SubSaharian   972.35999 -0.681217\n",
       "6                    Guinea      GIN  SubSaharian   993.83002 -0.680130\n",
       "7                      Mali      MLI  SubSaharian  1063.26000 -0.676614\n",
       "8               Afghanistan      AFG    SouthAsia  1282.64000 -0.665506\n",
       "9                    Uganda      UGA  SubSaharian  1343.45000 -0.662426"
      ]
     },
     "execution_count": 11,
     "metadata": {},
     "output_type": "execute_result"
    }
   ],
   "source": [
    "# seleccion primeras 10 filas\n",
    "df_gle.head(10)"
   ]
  },
  {
   "cell_type": "code",
   "execution_count": 12,
   "id": "f0ce1919",
   "metadata": {},
   "outputs": [
    {
     "data": {
      "text/html": [
       "<div>\n",
       "<style scoped>\n",
       "    .dataframe tbody tr th:only-of-type {\n",
       "        vertical-align: middle;\n",
       "    }\n",
       "\n",
       "    .dataframe tbody tr th {\n",
       "        vertical-align: top;\n",
       "    }\n",
       "\n",
       "    .dataframe thead th {\n",
       "        text-align: right;\n",
       "    }\n",
       "</style>\n",
       "<table border=\"1\" class=\"dataframe\">\n",
       "  <thead>\n",
       "    <tr style=\"text-align: right;\">\n",
       "      <th></th>\n",
       "      <th>cname</th>\n",
       "      <th>ccodealp</th>\n",
       "      <th>ht_region</th>\n",
       "      <th>gle_cgdpc</th>\n",
       "      <th>value_z</th>\n",
       "    </tr>\n",
       "  </thead>\n",
       "  <tbody>\n",
       "    <tr>\n",
       "      <th>86</th>\n",
       "      <td>Taiwan</td>\n",
       "      <td>TWN</td>\n",
       "      <td>EastAsia</td>\n",
       "      <td>33965.871</td>\n",
       "      <td>0.989474</td>\n",
       "    </tr>\n",
       "    <tr>\n",
       "      <th>87</th>\n",
       "      <td>United Kingdom</td>\n",
       "      <td>GBR</td>\n",
       "      <td>WesternDem</td>\n",
       "      <td>34791.051</td>\n",
       "      <td>1.031259</td>\n",
       "    </tr>\n",
       "    <tr>\n",
       "      <th>88</th>\n",
       "      <td>Japan</td>\n",
       "      <td>JPN</td>\n",
       "      <td>EastAsia</td>\n",
       "      <td>36123.770</td>\n",
       "      <td>1.098744</td>\n",
       "    </tr>\n",
       "    <tr>\n",
       "      <th>89</th>\n",
       "      <td>Canada</td>\n",
       "      <td>CAN</td>\n",
       "      <td>WesternDem</td>\n",
       "      <td>36577.078</td>\n",
       "      <td>1.121698</td>\n",
       "    </tr>\n",
       "    <tr>\n",
       "      <th>90</th>\n",
       "      <td>Australia</td>\n",
       "      <td>AUS</td>\n",
       "      <td>WesternDem</td>\n",
       "      <td>38611.949</td>\n",
       "      <td>1.224737</td>\n",
       "    </tr>\n",
       "    <tr>\n",
       "      <th>91</th>\n",
       "      <td>Netherlands</td>\n",
       "      <td>NLD</td>\n",
       "      <td>WesternDem</td>\n",
       "      <td>42258.352</td>\n",
       "      <td>1.409380</td>\n",
       "    </tr>\n",
       "    <tr>\n",
       "      <th>92</th>\n",
       "      <td>Brunei</td>\n",
       "      <td>BRN</td>\n",
       "      <td>SouthEastAsia</td>\n",
       "      <td>46103.840</td>\n",
       "      <td>1.604104</td>\n",
       "    </tr>\n",
       "    <tr>\n",
       "      <th>93</th>\n",
       "      <td>Liechtenstein</td>\n",
       "      <td>LIE</td>\n",
       "      <td>WesternDem</td>\n",
       "      <td>102243.520</td>\n",
       "      <td>4.446847</td>\n",
       "    </tr>\n",
       "    <tr>\n",
       "      <th>94</th>\n",
       "      <td>Qatar</td>\n",
       "      <td>QAT</td>\n",
       "      <td>NorthAfrica</td>\n",
       "      <td>104049.440</td>\n",
       "      <td>4.538294</td>\n",
       "    </tr>\n",
       "    <tr>\n",
       "      <th>95</th>\n",
       "      <td>Monaco</td>\n",
       "      <td>MCO</td>\n",
       "      <td>WesternDem</td>\n",
       "      <td>108481.130</td>\n",
       "      <td>4.762701</td>\n",
       "    </tr>\n",
       "  </tbody>\n",
       "</table>\n",
       "</div>"
      ],
      "text/plain": [
       "             cname ccodealp      ht_region   gle_cgdpc   value_z\n",
       "86          Taiwan      TWN       EastAsia   33965.871  0.989474\n",
       "87  United Kingdom      GBR     WesternDem   34791.051  1.031259\n",
       "88           Japan      JPN       EastAsia   36123.770  1.098744\n",
       "89          Canada      CAN     WesternDem   36577.078  1.121698\n",
       "90       Australia      AUS     WesternDem   38611.949  1.224737\n",
       "91     Netherlands      NLD     WesternDem   42258.352  1.409380\n",
       "92          Brunei      BRN  SouthEastAsia   46103.840  1.604104\n",
       "93   Liechtenstein      LIE     WesternDem  102243.520  4.446847\n",
       "94           Qatar      QAT    NorthAfrica  104049.440  4.538294\n",
       "95          Monaco      MCO     WesternDem  108481.130  4.762701"
      ]
     },
     "execution_count": 12,
     "metadata": {},
     "output_type": "execute_result"
    }
   ],
   "source": [
    "# seleccion ultimas 10 filas\n",
    "df_gle.tail(10)"
   ]
  },
  {
   "cell_type": "markdown",
   "id": "1004ef48",
   "metadata": {},
   "source": [
    "La similitud entre los primeros y últimos registros, cuyos datos fueron ordenados por puntaje z, y corresponden a los valores en las colas de la distribución normal; es que son extremos de la distribución. Por otro lado, identificamos que la cola izquierda de la distribución contiene países sub desarrollados (principalmente Africanos), en cambio la cola derecha contiene países desarrollados (principalmente de Europa)."
   ]
  },
  {
   "cell_type": "markdown",
   "id": "3f5b527a",
   "metadata": {},
   "source": [
    "### 4. Puntaje Z de las regiones"
   ]
  },
  {
   "cell_type": "markdown",
   "id": "cc6b740e",
   "metadata": {},
   "source": [
    "NOTA: El enunciado pide calcular el promedio de la variable estandarizada por región, lo cual no me parece totalmente correcto ya que es un valor estandarizado."
   ]
  },
  {
   "cell_type": "code",
   "execution_count": 13,
   "id": "d6684741",
   "metadata": {},
   "outputs": [],
   "source": [
    "# agrupamos los datos por region (calculamos la media sobre los puntajes z)\n",
    "df_region = df_gle.groupby('ht_region')['value_z'].mean()"
   ]
  },
  {
   "cell_type": "code",
   "execution_count": 14,
   "id": "e248f516",
   "metadata": {},
   "outputs": [
    {
     "data": {
      "text/plain": [
       "<matplotlib.lines.Line2D at 0x12cf46970>"
      ]
     },
     "execution_count": 14,
     "metadata": {},
     "output_type": "execute_result"
    },
    {
     "data": {
      "image/png": "[encoded data removed]",
      "text/plain": [
       "<Figure size 720x432 with 1 Axes>"
      ]
     },
     "metadata": {},
     "output_type": "display_data"
    }
   ],
   "source": [
    "plt.plot(df_region.values, df_region.index, 'o', color='blue')\n",
    "plt.title('Puntaje Z promedio por Región')\n",
    "plt.axvline(df_gle['value_z'].mean(), color='tomato', lw=3, linestyle='--')"
   ]
  },
  {
   "cell_type": "markdown",
   "id": "45dc9c25",
   "metadata": {},
   "source": [
    "### 5. Curvas de densidad"
   ]
  },
  {
   "cell_type": "markdown",
   "id": "a5c47ecb",
   "metadata": {},
   "source": [
    "Variables: \"imf_pop\", \"gle_cgdpc\", y \"wdi_exph\"\n",
    "\n",
    "Usaremos stats.gaussian_kde para suavizar los valores de densidad y estimar curvas de densidad de probabilidad."
   ]
  },
  {
   "cell_type": "code",
   "execution_count": 15,
   "id": "63444348",
   "metadata": {},
   "outputs": [],
   "source": [
    "# dataframe con columnas utiles\n",
    "df_density = df.loc[:, ['imf_pop', 'gle_cgdpc', 'wdi_exph']]"
   ]
  },
  {
   "cell_type": "code",
   "execution_count": 16,
   "id": "92ed9be5",
   "metadata": {},
   "outputs": [],
   "source": [
    "def curvas_densidad(df, variable):\n",
    "    tmp = df[variable].dropna()\n",
    "    # extraemos los limites de la variable\n",
    "    x_max, x_min = tmp.max(), tmp.min()\n",
    "    # creamos un array para el eje x a partir de los limites\n",
    "    x_axis = np.linspace(x_min, x_max, 100)\n",
    "    # aplicamos el kernel gaussiano para suavizar los valores de la variable\n",
    "    gauss_kde = stats.gaussian_kde(tmp)\n",
    "    Z = np.reshape(gauss_kde(x_axis).T, x_axis.shape)\n",
    "    plt.plot(x_axis, Z, color='blue', lw=3)\n",
    "    plt.title('Curva de densidad: {}'.format(variable))\n",
    "    plt.show()"
   ]
  },
  {
   "cell_type": "code",
   "execution_count": 17,
   "id": "769cfa44",
   "metadata": {},
   "outputs": [
    {
     "data": {
      "image/png": "[encoded data removed]",
      "text/plain": [
       "<Figure size 720x432 with 1 Axes>"
      ]
     },
     "metadata": {},
     "output_type": "display_data"
    },
    {
     "data": {
      "image/png": "[encoded data removed]",
      "text/plain": [
       "<Figure size 720x432 with 1 Axes>"
      ]
     },
     "metadata": {},
     "output_type": "display_data"
    },
    {
     "data": {
      "image/png": "[encoded data removed]",
      "text/plain": [
       "<Figure size 720x432 with 1 Axes>"
      ]
     },
     "metadata": {},
     "output_type": "display_data"
    }
   ],
   "source": [
    "# iteramos sobre las columnas solicitadas\n",
    "for col in df_density.columns:\n",
    "    curvas_densidad(df_density, col)"
   ]
  },
  {
   "cell_type": "code",
   "execution_count": null,
   "id": "5f7fecca",
   "metadata": {},
   "outputs": [],
   "source": []
  }
 ],
 "metadata": {
  "kernelspec": {
   "display_name": "Python 3 (ipykernel)",
   "language": "python",
   "name": "python3"
  },
  "language_info": {
   "codemirror_mode": {
    "name": "ipython",
    "version": 3
   },
   "file_extension": ".py",
   "mimetype": "text/x-python",
   "name": "python",
   "nbconvert_exporter": "python",
   "pygments_lexer": "ipython3",
   "version": "3.9.10"
  }
 },
 "nbformat": 4,
 "nbformat_minor": 5
}
