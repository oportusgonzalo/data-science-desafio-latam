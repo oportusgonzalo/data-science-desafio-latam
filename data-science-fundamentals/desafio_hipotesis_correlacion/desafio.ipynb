{
 "cells": [
  {
   "cell_type": "code",
   "execution_count": 1,
   "id": "a9a4be5b",
   "metadata": {},
   "outputs": [],
   "source": [
    "%matplotlib inline\n",
    "import pandas as pd\n",
    "import numpy as np\n",
    "import scipy.stats as stats\n",
    "import matplotlib.pyplot as plt"
   ]
  },
  {
   "cell_type": "markdown",
   "id": "db535019",
   "metadata": {},
   "source": [
    "### 1. Evaluar juicios de hipótesis"
   ]
  },
  {
   "cell_type": "markdown",
   "id": "8f80231e",
   "metadata": {},
   "source": [
    "FACTS:\n",
    "    \n",
    "* 67% x heterosexuales --> a favor\n",
    "* 72% x homosexuales --> a favor\n",
    "\n",
    "Ho: ambos porcentajes NO son diferentes\n",
    "p-val = 0.1183\n",
    "confianza 95%"
   ]
  },
  {
   "cell_type": "markdown",
   "id": "3660f1e0",
   "metadata": {},
   "source": [
    "Respuesta1: Si quisieramos fallar en contra de la hipótesis nula con un 95% de certeza, entonces el valor p debiese ser menor o igual a 0.05. En este caso, como el palor p=0.1183 > 0.05, entonces no es posible fallar en contra de la hipótesis nula."
   ]
  },
  {
   "cell_type": "markdown",
   "id": "116e7ee1",
   "metadata": {},
   "source": [
    "Respuesta 2: La confianza máxima con la que sería posible rechazar la hipótesis nula es de  1 - pvalue = 1 - 0.1183 = 88.17%."
   ]
  },
  {
   "cell_type": "markdown",
   "id": "b3dade85",
   "metadata": {},
   "source": [
    "### 2. Importación de datos"
   ]
  },
  {
   "cell_type": "code",
   "execution_count": 2,
   "id": "a180017d",
   "metadata": {},
   "outputs": [],
   "source": [
    "df_initial = pd.read_csv('nations.csv', encoding='iso-8859-1', index_col=0)"
   ]
  },
  {
   "cell_type": "code",
   "execution_count": 3,
   "id": "2b54c148",
   "metadata": {},
   "outputs": [],
   "source": [
    "# creacion de dummies para las regiones (nose porque lo piden)\n",
    "data = pd.get_dummies(df_initial.set_index('country')).reset_index()\n",
    "data.columns = data.columns.str.replace('region_', '')"
   ]
  },
  {
   "cell_type": "code",
   "execution_count": 4,
   "id": "9bf703b1",
   "metadata": {},
   "outputs": [],
   "source": [
    "# seleccion columnas\n",
    "columnas_NZ = ['femlab', 'literacy', 'school']\n",
    "base_cols = ['country', 'region']\n",
    "df = df_initial.loc[:, base_cols + columnas_NZ]"
   ]
  },
  {
   "cell_type": "code",
   "execution_count": 5,
   "id": "3cb4fc49",
   "metadata": {},
   "outputs": [
    {
     "data": {
      "text/html": [
       "<div>\n",
       "<style scoped>\n",
       "    .dataframe tbody tr th:only-of-type {\n",
       "        vertical-align: middle;\n",
       "    }\n",
       "\n",
       "    .dataframe tbody tr th {\n",
       "        vertical-align: top;\n",
       "    }\n",
       "\n",
       "    .dataframe thead th {\n",
       "        text-align: right;\n",
       "    }\n",
       "</style>\n",
       "<table border=\"1\" class=\"dataframe\">\n",
       "  <thead>\n",
       "    <tr style=\"text-align: right;\">\n",
       "      <th></th>\n",
       "      <th>country</th>\n",
       "      <th>region</th>\n",
       "      <th>femlab</th>\n",
       "      <th>literacy</th>\n",
       "      <th>school</th>\n",
       "    </tr>\n",
       "  </thead>\n",
       "  <tbody>\n",
       "    <tr>\n",
       "      <th>1</th>\n",
       "      <td>Algeria</td>\n",
       "      <td>Africa</td>\n",
       "      <td>0.4522</td>\n",
       "      <td>72.599998</td>\n",
       "      <td>6.716667</td>\n",
       "    </tr>\n",
       "    <tr>\n",
       "      <th>2</th>\n",
       "      <td>Benin</td>\n",
       "      <td>Africa</td>\n",
       "      <td>0.8482</td>\n",
       "      <td>41.700001</td>\n",
       "      <td>3.100000</td>\n",
       "    </tr>\n",
       "    <tr>\n",
       "      <th>3</th>\n",
       "      <td>Botswana</td>\n",
       "      <td>Africa</td>\n",
       "      <td>0.8870</td>\n",
       "      <td>84.099998</td>\n",
       "      <td>8.600000</td>\n",
       "    </tr>\n",
       "    <tr>\n",
       "      <th>4</th>\n",
       "      <td>Burkina Faso</td>\n",
       "      <td>Africa</td>\n",
       "      <td>0.8584</td>\n",
       "      <td>23.600000</td>\n",
       "      <td>1.300000</td>\n",
       "    </tr>\n",
       "    <tr>\n",
       "      <th>5</th>\n",
       "      <td>Burundi</td>\n",
       "      <td>Africa</td>\n",
       "      <td>1.0344</td>\n",
       "      <td>66.599998</td>\n",
       "      <td>2.483333</td>\n",
       "    </tr>\n",
       "  </tbody>\n",
       "</table>\n",
       "</div>"
      ],
      "text/plain": [
       "        country  region  femlab   literacy    school\n",
       "1       Algeria  Africa  0.4522  72.599998  6.716667\n",
       "2         Benin  Africa  0.8482  41.700001  3.100000\n",
       "3      Botswana  Africa  0.8870  84.099998  8.600000\n",
       "4  Burkina Faso  Africa  0.8584  23.600000  1.300000\n",
       "5       Burundi  Africa  1.0344  66.599998  2.483333"
      ]
     },
     "execution_count": 5,
     "metadata": {},
     "output_type": "execute_result"
    }
   ],
   "source": [
    "df.head()"
   ]
  },
  {
   "cell_type": "markdown",
   "id": "cab1e06c",
   "metadata": {},
   "source": [
    "### 3. Función prueba hipótesis"
   ]
  },
  {
   "cell_type": "code",
   "execution_count": 6,
   "id": "01f328e3",
   "metadata": {},
   "outputs": [],
   "source": [
    "def hypothesis_test(df, variable, binarize):\n",
    "    tmp = df\n",
    "    # separamos datos por indicador\n",
    "    tmp['binarize'] = np.where(tmp['region'] == binarize, 1, 0)\n",
    "    # separamos datos en variable indicada de acuerdo a 0 y 1\n",
    "    values_one = tmp.query('binarize == 1')[variable].dropna()\n",
    "    values_null = tmp.query('binarize == 0')[variable].dropna()\n",
    "    # obtenemos estadisticas\n",
    "    stats_ = stats.ttest_ind(values_one, values_null)\n",
    "    print(f'Datos de {binarize} y variable {variable}')\n",
    "    print()\n",
    "    print(f'La media para {binarize} es {round(values_one.mean(), 3)}, y para el resto del mundo {round(values_null.mean(), 3)}')\n",
    "    print(f'La diferencia entre medias es: {round(values_one.mean() - values_null.mean(), 3)}')\n",
    "    print(f'Valor t: {round(stats_[0], 3)}')\n",
    "    print(f'Valor p: {round(stats_[1], 3)}')\n",
    "    print()\n",
    "    "
   ]
  },
  {
   "cell_type": "code",
   "execution_count": 16,
   "id": "7d454ffc",
   "metadata": {},
   "outputs": [
    {
     "name": "stdout",
     "output_type": "stream",
     "text": [
      "Datos de Africa y variable femlab\n",
      "\n",
      "La media para Africa es 0.73, y para el resto del mundo 0.676\n",
      "La diferencia entre medias es: 0.054\n",
      "Valor t: 1.784\n",
      "Valor p: 0.076\n",
      "\n",
      "Datos de Africa y variable femlab\n",
      "\n",
      "La media para Africa es 0.73, y para el resto del mundo 0.676\n",
      "La diferencia entre medias es: 0.054\n",
      "Valor t: 1.784\n",
      "Valor p: 0.076\n",
      "\n",
      "Datos de Africa y variable femlab\n",
      "\n",
      "La media para Africa es 0.73, y para el resto del mundo 0.676\n",
      "La diferencia entre medias es: 0.054\n",
      "Valor t: 1.784\n",
      "Valor p: 0.076\n",
      "\n",
      "Datos de Africa y variable femlab\n",
      "\n",
      "La media para Africa es 0.73, y para el resto del mundo 0.676\n",
      "La diferencia entre medias es: 0.054\n",
      "Valor t: 1.784\n",
      "Valor p: 0.076\n",
      "\n",
      "Datos de Africa y variable femlab\n",
      "\n",
      "La media para Africa es 0.73, y para el resto del mundo 0.676\n",
      "La diferencia entre medias es: 0.054\n",
      "Valor t: 1.784\n",
      "Valor p: 0.076\n",
      "\n"
     ]
    }
   ],
   "source": [
    "# estadisticas para cada region\n",
    "for region_ in df['region'].unique():\n",
    "    hypothesis_test(df, 'femlab', 'Africa')"
   ]
  },
  {
   "cell_type": "markdown",
   "id": "cb33c4b7",
   "metadata": {},
   "source": [
    "### 4. Función histogramas"
   ]
  },
  {
   "cell_type": "code",
   "execution_count": 79,
   "id": "03ac1ec2",
   "metadata": {},
   "outputs": [],
   "source": [
    "def hist_plot(df, variable, binarize):\n",
    "    tmp = df\n",
    "    # separamos datos por indicador\n",
    "    tmp['binarize'] = np.where(tmp['region'] == binarize, 1, 0)\n",
    "    # separamos datos en variable indicada de acuerdo a 0 y 1\n",
    "    values_one = tmp.query('binarize == 1')[variable].dropna()\n",
    "    values_null = tmp.query('binarize == 0')[variable].dropna()\n",
    "    # graficamos\n",
    "    plt.hist(values_one, alpha=.5, color='Red', label='Blue')\n",
    "    plt.hist(values_null, alpha=.5, color='Blue', label='Green')    \n",
    "    plt.title(f'Ocurrencias variable {variable} en región {binarize}')\n",
    "    "
   ]
  },
  {
   "cell_type": "code",
   "execution_count": 81,
   "id": "80905994",
   "metadata": {},
   "outputs": [
    {
     "data": {
      "image/png": "[encoded data removed]",
      "text/plain": [
       "<Figure size 432x288 with 1 Axes>"
      ]
     },
     "metadata": {
      "needs_background": "light"
     },
     "output_type": "display_data"
    }
   ],
   "source": [
    "hist_plot(df, 'literacy', 'Asia')"
   ]
  },
  {
   "cell_type": "markdown",
   "id": "bf00d43c",
   "metadata": {},
   "source": [
    "Respuesta 2: No entiendo lo que se debe hacer."
   ]
  }
 ],
 "metadata": {
  "kernelspec": {
   "display_name": "Python 3 (ipykernel)",
   "language": "python",
   "name": "python3"
  },
  "language_info": {
   "codemirror_mode": {
    "name": "ipython",
    "version": 3
   },
   "file_extension": ".py",
   "mimetype": "text/x-python",
   "name": "python",
   "nbconvert_exporter": "python",
   "pygments_lexer": "ipython3",
   "version": "3.9.10"
  }
 },
 "nbformat": 4,
 "nbformat_minor": 5
}
