{
 "cells": [
  {
   "cell_type": "markdown",
   "metadata": {},
   "source": [
    "# Ejercicio 1: Preparación ambiente de trabajo"
   ]
  },
  {
   "cell_type": "code",
   "execution_count": 53,
   "metadata": {},
   "outputs": [],
   "source": [
    "# importación de modulos\n",
    "\n",
    "import numpy as np\n",
    "import pandas as pd\n",
    "import matplotlib.pyplot as plt\n",
    "import seaborn as sns\n",
    "import warnings\n",
    "import os\n",
    "\n",
    "from sklearn.model_selection import train_test_split, cross_val_score\n",
    "from sklearn.preprocessing import LabelEncoder, StandardScaler, LabelBinarizer\n",
    "from sklearn.metrics import confusion_matrix, classification_report\n",
    "from sklearn.discriminant_analysis import LinearDiscriminantAnalysis, QuadraticDiscriminantAnalysis\n",
    "\n",
    "from calidad_datos import calidad_datos\n",
    "\n",
    "plt.style.use('seaborn')\n",
    "plt.rcParams[\"figure.figsize\"] = (10, 6)\n",
    "plt.rcParams[\"figure.dpi\"] = 70\n",
    "warnings.filterwarnings('ignore')"
   ]
  },
  {
   "cell_type": "code",
   "execution_count": 54,
   "metadata": {},
   "outputs": [],
   "source": [
    "# importación de datos\n",
    "df = pd.read_csv('default_credit.csv').drop(columns='index')"
   ]
  },
  {
   "cell_type": "markdown",
   "metadata": {},
   "source": [
    "#### Explorando la distribución de los atributos"
   ]
  },
  {
   "cell_type": "code",
   "execution_count": 55,
   "metadata": {},
   "outputs": [
    {
     "data": {
      "text/html": [
       "<div>\n",
       "<style scoped>\n",
       "    .dataframe tbody tr th:only-of-type {\n",
       "        vertical-align: middle;\n",
       "    }\n",
       "\n",
       "    .dataframe tbody tr th {\n",
       "        vertical-align: top;\n",
       "    }\n",
       "\n",
       "    .dataframe thead th {\n",
       "        text-align: right;\n",
       "    }\n",
       "</style>\n",
       "<table border=\"1\" class=\"dataframe\">\n",
       "  <thead>\n",
       "    <tr style=\"text-align: right;\">\n",
       "      <th></th>\n",
       "      <th>tipo</th>\n",
       "      <th>nulos</th>\n",
       "      <th>porc_nulos</th>\n",
       "      <th>ceros</th>\n",
       "      <th>porc_ceros</th>\n",
       "      <th>count</th>\n",
       "      <th>unique</th>\n",
       "      <th>top</th>\n",
       "      <th>freq</th>\n",
       "      <th>mean</th>\n",
       "      <th>std</th>\n",
       "      <th>min</th>\n",
       "      <th>25%</th>\n",
       "      <th>50%</th>\n",
       "      <th>75%</th>\n",
       "      <th>max</th>\n",
       "      <th>dist_IQR</th>\n",
       "      <th>limit_inf</th>\n",
       "      <th>limit_sup</th>\n",
       "      <th>outliers</th>\n",
       "    </tr>\n",
       "  </thead>\n",
       "  <tbody>\n",
       "    <tr>\n",
       "      <th>balance</th>\n",
       "      <td>float64</td>\n",
       "      <td>0</td>\n",
       "      <td>0.0</td>\n",
       "      <td>499</td>\n",
       "      <td>0.0499</td>\n",
       "      <td>10000</td>\n",
       "      <td>NaN</td>\n",
       "      <td>NaN</td>\n",
       "      <td>NaN</td>\n",
       "      <td>835.375</td>\n",
       "      <td>483.715</td>\n",
       "      <td>0</td>\n",
       "      <td>481.731</td>\n",
       "      <td>823.637</td>\n",
       "      <td>1166.31</td>\n",
       "      <td>2654.32</td>\n",
       "      <td>684.577</td>\n",
       "      <td>-545.135</td>\n",
       "      <td>2193.17</td>\n",
       "      <td>31</td>\n",
       "    </tr>\n",
       "    <tr>\n",
       "      <th>income</th>\n",
       "      <td>float64</td>\n",
       "      <td>0</td>\n",
       "      <td>0.0</td>\n",
       "      <td>0</td>\n",
       "      <td>0.0000</td>\n",
       "      <td>10000</td>\n",
       "      <td>NaN</td>\n",
       "      <td>NaN</td>\n",
       "      <td>NaN</td>\n",
       "      <td>33517</td>\n",
       "      <td>13336.6</td>\n",
       "      <td>771.968</td>\n",
       "      <td>21340.5</td>\n",
       "      <td>34552.6</td>\n",
       "      <td>43807.7</td>\n",
       "      <td>73554.2</td>\n",
       "      <td>22467.3</td>\n",
       "      <td>-12360.4</td>\n",
       "      <td>77508.6</td>\n",
       "      <td>0</td>\n",
       "    </tr>\n",
       "    <tr>\n",
       "      <th>default</th>\n",
       "      <td>object</td>\n",
       "      <td>0</td>\n",
       "      <td>0.0</td>\n",
       "      <td>0</td>\n",
       "      <td>0.0000</td>\n",
       "      <td>10000</td>\n",
       "      <td>2</td>\n",
       "      <td>No</td>\n",
       "      <td>9667</td>\n",
       "      <td>NaN</td>\n",
       "      <td>NaN</td>\n",
       "      <td>NaN</td>\n",
       "      <td>NaN</td>\n",
       "      <td>NaN</td>\n",
       "      <td>NaN</td>\n",
       "      <td>NaN</td>\n",
       "      <td>NaN</td>\n",
       "      <td>NaN</td>\n",
       "      <td>NaN</td>\n",
       "      <td>0</td>\n",
       "    </tr>\n",
       "    <tr>\n",
       "      <th>student</th>\n",
       "      <td>object</td>\n",
       "      <td>0</td>\n",
       "      <td>0.0</td>\n",
       "      <td>0</td>\n",
       "      <td>0.0000</td>\n",
       "      <td>10000</td>\n",
       "      <td>2</td>\n",
       "      <td>No</td>\n",
       "      <td>7056</td>\n",
       "      <td>NaN</td>\n",
       "      <td>NaN</td>\n",
       "      <td>NaN</td>\n",
       "      <td>NaN</td>\n",
       "      <td>NaN</td>\n",
       "      <td>NaN</td>\n",
       "      <td>NaN</td>\n",
       "      <td>NaN</td>\n",
       "      <td>NaN</td>\n",
       "      <td>NaN</td>\n",
       "      <td>0</td>\n",
       "    </tr>\n",
       "  </tbody>\n",
       "</table>\n",
       "</div>"
      ],
      "text/plain": [
       "            tipo  nulos  porc_nulos  ceros  porc_ceros  count unique  top  \\\n",
       "balance  float64      0         0.0    499      0.0499  10000    NaN  NaN   \n",
       "income   float64      0         0.0      0      0.0000  10000    NaN  NaN   \n",
       "default   object      0         0.0      0      0.0000  10000      2   No   \n",
       "student   object      0         0.0      0      0.0000  10000      2   No   \n",
       "\n",
       "         freq     mean      std      min      25%      50%      75%      max  \\\n",
       "balance   NaN  835.375  483.715        0  481.731  823.637  1166.31  2654.32   \n",
       "income    NaN    33517  13336.6  771.968  21340.5  34552.6  43807.7  73554.2   \n",
       "default  9667      NaN      NaN      NaN      NaN      NaN      NaN      NaN   \n",
       "student  7056      NaN      NaN      NaN      NaN      NaN      NaN      NaN   \n",
       "\n",
       "        dist_IQR limit_inf limit_sup  outliers  \n",
       "balance  684.577  -545.135   2193.17        31  \n",
       "income   22467.3  -12360.4   77508.6         0  \n",
       "default      NaN       NaN       NaN         0  \n",
       "student      NaN       NaN       NaN         0  "
      ]
     },
     "execution_count": 55,
     "metadata": {},
     "output_type": "execute_result"
    }
   ],
   "source": [
    "# estadisticas iniciales de los atirbutos\n",
    "calidad_datos(df)"
   ]
  },
  {
   "cell_type": "code",
   "execution_count": 56,
   "metadata": {},
   "outputs": [
    {
     "data": {
      "image/png": "[encoded data removed]",
      "text/plain": [
       "<Figure size 700x420 with 1 Axes>"
      ]
     },
     "metadata": {},
     "output_type": "display_data"
    },
    {
     "data": {
      "image/png": "[encoded data removed]",
      "text/plain": [
       "<Figure size 700x420 with 1 Axes>"
      ]
     },
     "metadata": {},
     "output_type": "display_data"
    }
   ],
   "source": [
    "for i, col in enumerate(df.iloc[:, :2].columns):\n",
    "    sns.countplot(x=df[col])\n",
    "    plt.title(f'Distribución variable {col}')\n",
    "    plt.show()"
   ]
  },
  {
   "cell_type": "markdown",
   "metadata": {},
   "source": [
    "A partir de los resultados anteriores identificamos que tanto la variable objetivo \"default\" como \"student\" se encuentran desbalanceadas."
   ]
  },
  {
   "cell_type": "code",
   "execution_count": 57,
   "metadata": {},
   "outputs": [
    {
     "data": {
      "image/png": "[encoded data removed]",
      "text/plain": [
       "<Figure size 700x420 with 1 Axes>"
      ]
     },
     "metadata": {},
     "output_type": "display_data"
    },
    {
     "data": {
      "image/png": "[encoded data removed]",
      "text/plain": [
       "<Figure size 700x420 with 1 Axes>"
      ]
     },
     "metadata": {},
     "output_type": "display_data"
    }
   ],
   "source": [
    "for i, col in enumerate(df.iloc[:, 2:].columns):\n",
    "    df.groupby('default')[col].plot(kind='hist', alpha=.5)\n",
    "    plt.legend(df['default'].unique())\n",
    "    plt.title(f'Distribución {col} segregado por default')\n",
    "    plt.tight_layout()\n",
    "    plt.show()"
   ]
  },
  {
   "cell_type": "markdown",
   "metadata": {},
   "source": [
    "A partir de los resultados anteriores:\n",
    "* Existe un menor saldo de crédito en cuentas de quienes entraron en morosidad\n",
    "* El ingreso aparenta distribuirse de forma normal "
   ]
  },
  {
   "cell_type": "markdown",
   "metadata": {},
   "source": [
    "# Ejercicio 2: Modelo base"
   ]
  },
  {
   "cell_type": "code",
   "execution_count": 58,
   "metadata": {},
   "outputs": [],
   "source": [
    "# transformando atributos no numéricos a numéricos\n",
    "df['default'] = LabelEncoder().fit_transform(df['default'])\n",
    "df['student'] = LabelEncoder().fit_transform(df['student'])"
   ]
  },
  {
   "cell_type": "code",
   "execution_count": 59,
   "metadata": {},
   "outputs": [],
   "source": [
    "# conjuntos de entrenamiento y validación\n",
    "X_train, X_test, y_train, y_test = train_test_split(df.loc[:, 'student':'income'], df['default'], test_size=.33, random_state=9915)"
   ]
  },
  {
   "cell_type": "markdown",
   "metadata": {},
   "source": [
    "#### Modelo Linear Discriminante"
   ]
  },
  {
   "cell_type": "code",
   "execution_count": 60,
   "metadata": {},
   "outputs": [
    {
     "data": {
      "text/plain": [
       "LinearDiscriminantAnalysis()"
      ]
     },
     "execution_count": 60,
     "metadata": {},
     "output_type": "execute_result"
    }
   ],
   "source": [
    "# ajustamos el modelo\n",
    "lda_model = LinearDiscriminantAnalysis()\n",
    "lda_model.fit(X_train, y_train)"
   ]
  },
  {
   "cell_type": "code",
   "execution_count": 61,
   "metadata": {},
   "outputs": [
    {
     "name": "stdout",
     "output_type": "stream",
     "text": [
      "              precision    recall  f1-score   support\n",
      "\n",
      "           0       0.97      1.00      0.98      3172\n",
      "           1       0.87      0.20      0.33       128\n",
      "\n",
      "    accuracy                           0.97      3300\n",
      "   macro avg       0.92      0.60      0.66      3300\n",
      "weighted avg       0.96      0.97      0.96      3300\n",
      "\n"
     ]
    }
   ],
   "source": [
    "# metricas de desempeño\n",
    "yhat = lda_model.predict(X_test)\n",
    "print(classification_report(y_test, yhat))"
   ]
  },
  {
   "cell_type": "markdown",
   "metadata": {},
   "source": [
    "Como resultado:\n",
    "\n",
    "* Nuestro modelo presenta un alto accuracy general (97%)\n",
    "* El valor del accuracy se debe principalmente a que estimamos con gran precision a quienes no son morosos (98%)\n",
    "* El modelo no sabe predecir con exactitud los clientes morosos (f1: 33%)"
   ]
  },
  {
   "cell_type": "markdown",
   "metadata": {},
   "source": [
    "# Ejercicio 3: Refactorización 1 - información a priori"
   ]
  },
  {
   "cell_type": "markdown",
   "metadata": {},
   "source": [
    "#### 3.1 Asumamos que hay un 50/50 de morosos y no morosos"
   ]
  },
  {
   "cell_type": "code",
   "execution_count": 62,
   "metadata": {},
   "outputs": [
    {
     "data": {
      "text/plain": [
       "LinearDiscriminantAnalysis(priors=[50, 50])"
      ]
     },
     "execution_count": 62,
     "metadata": {},
     "output_type": "execute_result"
    }
   ],
   "source": [
    "lda_model_50 = LinearDiscriminantAnalysis(priors=[50, 50])\n",
    "lda_model_50.fit(X_train, y_train)"
   ]
  },
  {
   "cell_type": "code",
   "execution_count": 63,
   "metadata": {},
   "outputs": [
    {
     "name": "stdout",
     "output_type": "stream",
     "text": [
      "              precision    recall  f1-score   support\n",
      "\n",
      "           0       1.00      0.85      0.92      3172\n",
      "           1       0.19      0.90      0.32       128\n",
      "\n",
      "    accuracy                           0.85      3300\n",
      "   macro avg       0.59      0.87      0.62      3300\n",
      "weighted avg       0.96      0.85      0.89      3300\n",
      "\n"
     ]
    }
   ],
   "source": [
    "# metricas de desempeño\n",
    "yhat_50 = lda_model_50.predict(X_test)\n",
    "print(classification_report(y_test, yhat_50))"
   ]
  },
  {
   "cell_type": "markdown",
   "metadata": {},
   "source": [
    "Resultados:\n",
    "\n",
    "* El accuracy disminuye en 5 puntos; echo que es de notar inicialmente ya que las clases no se distribuyen de forma simétrica\n",
    "* Tanto precision como recall disminuyen, especificando que la capacidad predictiva de nuestro modelo empeora"
   ]
  },
  {
   "cell_type": "markdown",
   "metadata": {},
   "source": [
    "#### 3.2 Asumamos que hay un 60/40 de morosos y no morosos"
   ]
  },
  {
   "cell_type": "code",
   "execution_count": 64,
   "metadata": {},
   "outputs": [
    {
     "data": {
      "text/plain": [
       "LinearDiscriminantAnalysis(priors=[40, 60])"
      ]
     },
     "execution_count": 64,
     "metadata": {},
     "output_type": "execute_result"
    }
   ],
   "source": [
    "lda_model_60 = LinearDiscriminantAnalysis(priors=[40, 60])\n",
    "lda_model_60.fit(X_train, y_train)"
   ]
  },
  {
   "cell_type": "code",
   "execution_count": 65,
   "metadata": {},
   "outputs": [
    {
     "name": "stdout",
     "output_type": "stream",
     "text": [
      "              precision    recall  f1-score   support\n",
      "\n",
      "           0       1.00      0.80      0.89      3172\n",
      "           1       0.16      0.92      0.27       128\n",
      "\n",
      "    accuracy                           0.80      3300\n",
      "   macro avg       0.58      0.86      0.58      3300\n",
      "weighted avg       0.96      0.80      0.86      3300\n",
      "\n"
     ]
    }
   ],
   "source": [
    "# metricas de desempeño\n",
    "yhat_60 = lda_model_60.predict(X_test)\n",
    "print(classification_report(y_test, yhat_60))"
   ]
  },
  {
   "cell_type": "markdown",
   "metadata": {},
   "source": [
    "Resultados:\n",
    "\n",
    "* El accuracy disminuye considerablemente a 80%, ya que el estado de moroso lo tiene la minoría de las observaciones, y estamos entregandole un mayor peso\n",
    "* Tanto precision como recall disminuyen. La predicción ha empeorado"
   ]
  },
  {
   "cell_type": "markdown",
   "metadata": {},
   "source": [
    "# Ejercicio 4: Refactorización 2 - oversampling"
   ]
  },
  {
   "cell_type": "code",
   "execution_count": 1,
   "metadata": {},
   "outputs": [],
   "source": [
    "from imblearn.over_sampling import SMOTE"
   ]
  },
  {
   "cell_type": "markdown",
   "metadata": {},
   "source": [
    "NOTA: no pude instalar el paquete, me marcaba un error con un modulo de Scikit-learn que no pude solucionar."
   ]
  },
  {
   "cell_type": "markdown",
   "metadata": {},
   "source": [
    "# Ejercicio 5: Refactorización 3 - QDA"
   ]
  },
  {
   "cell_type": "code",
   "execution_count": 76,
   "metadata": {},
   "outputs": [
    {
     "data": {
      "text/plain": [
       "QuadraticDiscriminantAnalysis()"
      ]
     },
     "execution_count": 76,
     "metadata": {},
     "output_type": "execute_result"
    }
   ],
   "source": [
    "# ajustamos el modelo\n",
    "cda_model = QuadraticDiscriminantAnalysis()\n",
    "cda_model.fit(X_train, y_train)"
   ]
  },
  {
   "cell_type": "code",
   "execution_count": 77,
   "metadata": {},
   "outputs": [
    {
     "name": "stdout",
     "output_type": "stream",
     "text": [
      "              precision    recall  f1-score   support\n",
      "\n",
      "           0       0.97      1.00      0.98      3172\n",
      "           1       0.81      0.20      0.33       128\n",
      "\n",
      "    accuracy                           0.97      3300\n",
      "   macro avg       0.89      0.60      0.65      3300\n",
      "weighted avg       0.96      0.97      0.96      3300\n",
      "\n"
     ]
    }
   ],
   "source": [
    "# predecimos\n",
    "yhat_cda = cda_model.predict(X_test)\n",
    "print(classification_report(y_test, yhat_cda))"
   ]
  },
  {
   "cell_type": "markdown",
   "metadata": {},
   "source": [
    "Resultados:\n",
    "\n",
    "* El accuracy se mantiene constante al modelo lineal (97%)\n",
    "* También se mantiene constante el f1-scoe"
   ]
  },
  {
   "cell_type": "markdown",
   "metadata": {},
   "source": [
    "#### Mejor modelo"
   ]
  },
  {
   "cell_type": "markdown",
   "metadata": {},
   "source": [
    "Dado que no pudimos implementar el oversampling, entonces es indiferente el uso de LDA o CDA sobre los datos base."
   ]
  }
 ],
 "metadata": {
  "kernelspec": {
   "display_name": "Python 3.8.3 ('base')",
   "language": "python",
   "name": "python3"
  },
  "language_info": {
   "codemirror_mode": {
    "name": "ipython",
    "version": 3
   },
   "file_extension": ".py",
   "mimetype": "text/x-python",
   "name": "python",
   "nbconvert_exporter": "python",
   "pygments_lexer": "ipython3",
   "version": "3.8.3"
  },
  "orig_nbformat": 4,
  "vscode": {
   "interpreter": {
    "hash": "40d3a090f54c6569ab1632332b64b2c03c39dcf918b08424e98f38b5ae0af88f"
   }
  }
 },
 "nbformat": 4,
 "nbformat_minor": 2
}
