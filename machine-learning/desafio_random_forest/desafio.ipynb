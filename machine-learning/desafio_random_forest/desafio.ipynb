{
 "cells": [
  {
   "cell_type": "markdown",
   "metadata": {},
   "source": [
    "# Ejercicio 1: Preparación del ambiente de trabajo"
   ]
  },
  {
   "cell_type": "code",
   "execution_count": 27,
   "metadata": {},
   "outputs": [],
   "source": [
    "%matplotlib inline\n",
    "import pandas as pd\n",
    "import numpy as np\n",
    "from scipy import stats\n",
    "import matplotlib.pyplot as plt\n",
    "import pickle\n",
    "\n",
    "from sklearn.ensemble import RandomForestRegressor\n",
    "from sklearn.metrics import mean_squared_error, median_absolute_error, r2_score\n",
    "\n",
    "import warnings\n",
    "warnings.filterwarnings('ignore')\n",
    "\n",
    "plt.style.use('ggplot')\n",
    "plt.rcParams['figure.figsize'] = (10, 6)"
   ]
  },
  {
   "cell_type": "code",
   "execution_count": 3,
   "metadata": {},
   "outputs": [],
   "source": [
    "df = pd.read_csv('ames_housing.csv').drop('Unnamed: 0', axis=1)"
   ]
  },
  {
   "cell_type": "markdown",
   "metadata": {},
   "source": [
    "# Ejercicio 2: Importación de archivos serializados"
   ]
  },
  {
   "cell_type": "markdown",
   "metadata": {},
   "source": [
    "### Predicciones y Métricas de desempeño"
   ]
  },
  {
   "cell_type": "markdown",
   "metadata": {},
   "source": [
    "#### 1. Modelo propio"
   ]
  },
  {
   "cell_type": "code",
   "execution_count": 25,
   "metadata": {},
   "outputs": [],
   "source": [
    "# reading pickle model and test data\n",
    "pickle_model = pickle.load(open('pickles/model_.sav','rb'))\n",
    "X_train_pickle = pickle.load(open('pickles/X_train.sav','rb'))\n",
    "y_train_pickle = pickle.load(open('pickles/y_train.sav','rb'))\n",
    "X_test_pickle = pickle.load(open('pickles/X_test.sav','rb'))\n",
    "y_test_pickle = pickle.load(open('pickles/y_test.sav','rb'))"
   ]
  },
  {
   "cell_type": "code",
   "execution_count": 21,
   "metadata": {},
   "outputs": [],
   "source": [
    "# funcion que despliega metricas para un modelo y su conjunto de validación\n",
    "def report_metrics(model, y_true, X_test):\n",
    "    y_predict = model.predict(X_test)\n",
    "    print(f'MSE: {mean_squared_error(y_true, y_predict)}')\n",
    "    print(f'MAE: {median_absolute_error(y_true, y_predict)}')\n",
    "    print(f'R2: {r2_score(y_true, y_predict)}')"
   ]
  },
  {
   "cell_type": "code",
   "execution_count": 22,
   "metadata": {},
   "outputs": [
    {
     "name": "stdout",
     "output_type": "stream",
     "text": [
      "MSE: 1430100140.1309152\n",
      "MAE: 16662.549180327856\n",
      "R2: 0.748376052981181\n"
     ]
    }
   ],
   "source": [
    "report_metrics(pickle_model, y_test_pickle, X_test_pickle)"
   ]
  },
  {
   "cell_type": "markdown",
   "metadata": {},
   "source": [
    "#### 2. Modelo compañero"
   ]
  },
  {
   "cell_type": "code",
   "execution_count": 23,
   "metadata": {},
   "outputs": [],
   "source": [
    "# reading pickle model and test data\n",
    "#pickle_model = pickle.load(open('pickles/model_.sav','rb'))\n",
    "#X_test_pickle = pickle.load(open('pickles/X_test.sav','rb'))\n",
    "#y_test_pickle = pickle.load(open('pickles/y_test.sav','rb'))"
   ]
  },
  {
   "cell_type": "code",
   "execution_count": null,
   "metadata": {},
   "outputs": [],
   "source": [
    "#report_metrics(pickle_model_partner, y_test_pickle_partner, X_test_pickle_partner)"
   ]
  },
  {
   "cell_type": "markdown",
   "metadata": {},
   "source": [
    "#### Contraste entre modelos --> resultados"
   ]
  },
  {
   "cell_type": "markdown",
   "metadata": {},
   "source": [
    "Resultados: \n",
    "\n",
    "* "
   ]
  },
  {
   "cell_type": "markdown",
   "metadata": {},
   "source": [
    "# Ejercicio 3: Evaluación Random Forest"
   ]
  },
  {
   "cell_type": "code",
   "execution_count": 29,
   "metadata": {},
   "outputs": [],
   "source": [
    "rf_model = RandomForestRegressor(random_state=2367992).fit(X_train_pickle, y_train_pickle)"
   ]
  },
  {
   "cell_type": "code",
   "execution_count": 30,
   "metadata": {},
   "outputs": [
    {
     "name": "stdout",
     "output_type": "stream",
     "text": [
      "MSE: 991416294.1829966\n",
      "MAE: 12379.960000000006\n",
      "R2: 0.8255618092182975\n"
     ]
    }
   ],
   "source": [
    "report_metrics(rf_model, y_test_pickle, X_test_pickle)"
   ]
  },
  {
   "cell_type": "markdown",
   "metadata": {},
   "source": [
    "En comparación al modelo propio, y el de mi compañero:\n",
    "\n",
    "* "
   ]
  }
 ],
 "metadata": {
  "kernelspec": {
   "display_name": "Python 3.8.3 ('base')",
   "language": "python",
   "name": "python3"
  },
  "language_info": {
   "codemirror_mode": {
    "name": "ipython",
    "version": 3
   },
   "file_extension": ".py",
   "mimetype": "text/x-python",
   "name": "python",
   "nbconvert_exporter": "python",
   "pygments_lexer": "ipython3",
   "version": "3.8.3"
  },
  "orig_nbformat": 4,
  "vscode": {
   "interpreter": {
    "hash": "40d3a090f54c6569ab1632332b64b2c03c39dcf918b08424e98f38b5ae0af88f"
   }
  }
 },
 "nbformat": 4,
 "nbformat_minor": 2
}
