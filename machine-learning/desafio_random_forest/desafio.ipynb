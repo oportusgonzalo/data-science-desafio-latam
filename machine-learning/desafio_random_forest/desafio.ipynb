{
 "cells": [
  {
   "cell_type": "markdown",
   "metadata": {},
   "source": [
    "# Ejercicio 1: Preparación del ambiente de trabajo"
   ]
  },
  {
   "cell_type": "code",
   "execution_count": 1,
   "metadata": {},
   "outputs": [],
   "source": [
    "%matplotlib inline\n",
    "import pandas as pd\n",
    "import numpy as np\n",
    "from scipy import stats\n",
    "import matplotlib.pyplot as plt\n",
    "import pickle\n",
    "\n",
    "from sklearn.ensemble import RandomForestRegressor\n",
    "from sklearn.metrics import mean_squared_error, median_absolute_error, r2_score\n",
    "\n",
    "import warnings\n",
    "warnings.filterwarnings('ignore')\n",
    "\n",
    "plt.style.use('ggplot')\n",
    "plt.rcParams['figure.figsize'] = (10, 6)"
   ]
  },
  {
   "cell_type": "code",
   "execution_count": 2,
   "metadata": {},
   "outputs": [],
   "source": [
    "df = pd.read_csv('ames_housing.csv').drop('Unnamed: 0', axis=1)"
   ]
  },
  {
   "cell_type": "markdown",
   "metadata": {},
   "source": [
    "# Ejercicio 2: Importación de archivos serializados"
   ]
  },
  {
   "cell_type": "markdown",
   "metadata": {},
   "source": [
    "### Predicciones y Métricas de desempeño"
   ]
  },
  {
   "cell_type": "markdown",
   "metadata": {},
   "source": [
    "#### 1. Modelo propio"
   ]
  },
  {
   "cell_type": "code",
   "execution_count": 3,
   "metadata": {},
   "outputs": [],
   "source": [
    "# reading pickle model and test data\n",
    "pickle_model = pickle.load(open('pickles/model_.sav','rb'))\n",
    "X_train_pickle = pickle.load(open('pickles/X_train.sav','rb'))\n",
    "y_train_pickle = pickle.load(open('pickles/y_train.sav','rb'))\n",
    "X_test_pickle = pickle.load(open('pickles/X_test.sav','rb'))\n",
    "y_test_pickle = pickle.load(open('pickles/y_test.sav','rb'))"
   ]
  },
  {
   "cell_type": "code",
   "execution_count": 4,
   "metadata": {},
   "outputs": [],
   "source": [
    "# funcion que despliega metricas para un modelo y su conjunto de validación\n",
    "def report_metrics(model, y_true, X_test):\n",
    "    y_predict = model.predict(X_test)\n",
    "    print(f'MSE: {mean_squared_error(y_true, y_predict)}')\n",
    "    print(f'MAE: {median_absolute_error(y_true, y_predict)}')\n",
    "    print(f'R2: {r2_score(y_true, y_predict)}')"
   ]
  },
  {
   "cell_type": "code",
   "execution_count": 5,
   "metadata": {},
   "outputs": [
    {
     "name": "stdout",
     "output_type": "stream",
     "text": [
      "MSE: 1430100140.1309152\n",
      "MAE: 16662.549180327856\n",
      "R2: 0.748376052981181\n"
     ]
    }
   ],
   "source": [
    "report_metrics(pickle_model, y_test_pickle, X_test_pickle)"
   ]
  },
  {
   "cell_type": "markdown",
   "metadata": {},
   "source": [
    "#### 2. Modelo compañero"
   ]
  },
  {
   "cell_type": "code",
   "execution_count": 7,
   "metadata": {},
   "outputs": [],
   "source": [
    "# reading pickle model and test data\n",
    "pickle_model_class = pickle.load(open('pickles_merbs/model_merbs.sav','rb'))\n",
    "X_train_pickle_class = pickle.load(open('pickles_merbs/X_train_merbs.sav','rb'))\n",
    "y_train_pickle_class = pickle.load(open('pickles_merbs/y_train_merbs.sav','rb'))\n",
    "X_test_pickle_class = pickle.load(open('pickles_merbs/X_test_merbs.sav','rb'))\n",
    "y_test_pickle_class = pickle.load(open('pickles_merbs/y_test_merbs.sav','rb'))"
   ]
  },
  {
   "cell_type": "code",
   "execution_count": 8,
   "metadata": {},
   "outputs": [
    {
     "name": "stdout",
     "output_type": "stream",
     "text": [
      "MSE: 1636382407.3214855\n",
      "MAE: 15830.0\n",
      "R2: 0.7120810014572155\n"
     ]
    }
   ],
   "source": [
    "report_metrics(pickle_model_class, y_test_pickle_class, X_test_pickle_class)"
   ]
  },
  {
   "cell_type": "markdown",
   "metadata": {},
   "source": [
    "#### Contraste entre modelos --> resultados"
   ]
  },
  {
   "cell_type": "markdown",
   "metadata": {},
   "source": [
    "Resultados: \n",
    "\n",
    "* El R2 de mi modelo es mejor, superando por 3% el modelo de mi compañero\n",
    "* La causal es probablemente debido a los hiperparámetros del modelo predictivo; en ello, el modelo podría estar haciendo un overfitting limitandose para realizar mejores estimaciones\n",
    "* También puede estar incluyendo un número menor de atributos y pecamos de no incluir algún atributo que explique de buena manera"
   ]
  },
  {
   "cell_type": "markdown",
   "metadata": {},
   "source": [
    "# Ejercicio 3: Evaluación Random Forest"
   ]
  },
  {
   "cell_type": "code",
   "execution_count": 11,
   "metadata": {},
   "outputs": [],
   "source": [
    "rf_model = RandomForestRegressor(random_state=2367992).fit(X_train_pickle, y_train_pickle)"
   ]
  },
  {
   "cell_type": "code",
   "execution_count": 12,
   "metadata": {},
   "outputs": [
    {
     "name": "stdout",
     "output_type": "stream",
     "text": [
      "MSE: 991416294.1829966\n",
      "MAE: 12379.960000000006\n",
      "R2: 0.8255618092182975\n"
     ]
    }
   ],
   "source": [
    "report_metrics(rf_model, y_test_pickle, X_test_pickle)"
   ]
  },
  {
   "cell_type": "markdown",
   "metadata": {},
   "source": [
    "En comparación al modelo propio, y el de mi compañero:\n",
    "\n",
    "* Visualizamos una mejora sustantiva en el R2, subiendo 8% hacia una mejor explicación de la variabilidad en la variable \"Sale_price\"\n",
    "* Dado ello, también se ven disminuidas las métricas MSE y MAE"
   ]
  },
  {
   "cell_type": "markdown",
   "metadata": {},
   "source": [
    "# Ejercicio 4: Reporte las métricas de desempeño"
   ]
  },
  {
   "cell_type": "code",
   "execution_count": 13,
   "metadata": {},
   "outputs": [],
   "source": [
    "from sklearn.model_selection import GridSearchCV"
   ]
  },
  {
   "cell_type": "code",
   "execution_count": 14,
   "metadata": {},
   "outputs": [],
   "source": [
    "oob_none, oob_log2, oob_sqrt = [], [], []\n",
    "n_estimators = range(20, 1000, 25)\n",
    "\n",
    "for n_ in n_estimators:\n",
    "    rf_none = RandomForestRegressor(n_estimators= n_,\n",
    "                                    max_features=None, \n",
    "                                    oob_score=True,\n",
    "                                    random_state=123).fit(X_train_pickle, y_train_pickle)\n",
    "                    \n",
    "    rf_log2 = RandomForestRegressor(n_estimators= n_,\n",
    "                                    max_features='log2', \n",
    "                                    oob_score=True,\n",
    "                                    random_state=123).fit(X_train_pickle, y_train_pickle)\n",
    "                        \n",
    "    rf_sqrt = RandomForestRegressor(n_estimators= n_,\n",
    "                                    max_features='sqrt', \n",
    "                                    oob_score=True,\n",
    "                                    random_state=123).fit(X_train_pickle, y_train_pickle)\n",
    "                            \n",
    "    oob_none.append(1 - rf_none.oob_score_)\n",
    "    oob_log2.append(1 - rf_log2.oob_score_)\n",
    "    oob_sqrt.append(1 - rf_sqrt.oob_score_)"
   ]
  },
  {
   "cell_type": "code",
   "execution_count": 15,
   "metadata": {},
   "outputs": [
    {
     "data": {
      "text/plain": [
       "<Figure size 864x288 with 0 Axes>"
      ]
     },
     "metadata": {},
     "output_type": "display_data"
    },
    {
     "data": {
      "image/png": "[encoded data removed]",
      "text/plain": [
       "<Figure size 720x432 with 3 Axes>"
      ]
     },
     "metadata": {},
     "output_type": "display_data"
    }
   ],
   "source": [
    "# graficamos comportamiento del OOB score\n",
    "plt.figure(figsize=(12, 4));\n",
    "fig, axs = plt.subplots(1, 3, sharex=True, sharey=True);\n",
    "axs[0].plot(oob_log2, '.-', label='OOB error rate');\n",
    "axs[0].set_title('Log2');\n",
    "axs[1].plot(oob_sqrt,'.-', label='OOB error rate');\n",
    "axs[1].set_title('Squared Root');\n",
    "axs[2].plot(oob_none, '.-', label='OOB error rate');\n",
    "axs[2].set_title('None');\n",
    "plt.tight_layout();\n",
    "plt.legend();"
   ]
  },
  {
   "cell_type": "markdown",
   "metadata": {},
   "source": [
    "# Ejercicio 5: Refactoriza el modelo"
   ]
  },
  {
   "cell_type": "markdown",
   "metadata": {},
   "source": [
    "Dado los gráficos anteriores, visualizamos que:\n",
    "\n",
    "* El menor OOB error lo entrega utilizar max_features='log2'\n",
    "* El número de estimadores con mejor rendimiento es: n_estimators=40"
   ]
  },
  {
   "cell_type": "code",
   "execution_count": 19,
   "metadata": {},
   "outputs": [],
   "source": [
    "# refactorizamos y reentrenamos el modelo\n",
    "best_model = RandomForestRegressor(n_estimators= 40,\n",
    "                                    max_features='log2', \n",
    "                                    oob_score=True,\n",
    "                                    random_state=2367992).fit(X_train_pickle, y_train_pickle\n",
    "                                    )"
   ]
  },
  {
   "cell_type": "code",
   "execution_count": 24,
   "metadata": {},
   "outputs": [
    {
     "data": {
      "text/html": [
       "<div>\n",
       "<style scoped>\n",
       "    .dataframe tbody tr th:only-of-type {\n",
       "        vertical-align: middle;\n",
       "    }\n",
       "\n",
       "    .dataframe tbody tr th {\n",
       "        vertical-align: top;\n",
       "    }\n",
       "\n",
       "    .dataframe thead th {\n",
       "        text-align: right;\n",
       "    }\n",
       "</style>\n",
       "<table border=\"1\" class=\"dataframe\">\n",
       "  <thead>\n",
       "    <tr style=\"text-align: right;\">\n",
       "      <th></th>\n",
       "      <th>Lot_Area</th>\n",
       "      <th>Year_Built</th>\n",
       "      <th>Total_Bsmt_SF</th>\n",
       "      <th>First_Flr_SF</th>\n",
       "      <th>Second_Flr_SF</th>\n",
       "      <th>Gr_Liv_Area</th>\n",
       "      <th>Fireplaces</th>\n",
       "      <th>Garage_Cars</th>\n",
       "      <th>Garage_Area</th>\n",
       "      <th>Wood_Deck_SF</th>\n",
       "    </tr>\n",
       "  </thead>\n",
       "  <tbody>\n",
       "    <tr>\n",
       "      <th>1623</th>\n",
       "      <td>7875</td>\n",
       "      <td>1996</td>\n",
       "      <td>691</td>\n",
       "      <td>691</td>\n",
       "      <td>862</td>\n",
       "      <td>1553</td>\n",
       "      <td>0</td>\n",
       "      <td>2</td>\n",
       "      <td>420</td>\n",
       "      <td>0</td>\n",
       "    </tr>\n",
       "    <tr>\n",
       "      <th>1297</th>\n",
       "      <td>6756</td>\n",
       "      <td>1910</td>\n",
       "      <td>481</td>\n",
       "      <td>899</td>\n",
       "      <td>0</td>\n",
       "      <td>899</td>\n",
       "      <td>0</td>\n",
       "      <td>1</td>\n",
       "      <td>200</td>\n",
       "      <td>0</td>\n",
       "    </tr>\n",
       "    <tr>\n",
       "      <th>1310</th>\n",
       "      <td>4571</td>\n",
       "      <td>1916</td>\n",
       "      <td>624</td>\n",
       "      <td>624</td>\n",
       "      <td>720</td>\n",
       "      <td>1344</td>\n",
       "      <td>0</td>\n",
       "      <td>3</td>\n",
       "      <td>513</td>\n",
       "      <td>0</td>\n",
       "    </tr>\n",
       "    <tr>\n",
       "      <th>1152</th>\n",
       "      <td>8450</td>\n",
       "      <td>1968</td>\n",
       "      <td>890</td>\n",
       "      <td>890</td>\n",
       "      <td>0</td>\n",
       "      <td>890</td>\n",
       "      <td>0</td>\n",
       "      <td>1</td>\n",
       "      <td>308</td>\n",
       "      <td>0</td>\n",
       "    </tr>\n",
       "    <tr>\n",
       "      <th>293</th>\n",
       "      <td>10452</td>\n",
       "      <td>1941</td>\n",
       "      <td>1528</td>\n",
       "      <td>1225</td>\n",
       "      <td>908</td>\n",
       "      <td>2133</td>\n",
       "      <td>2</td>\n",
       "      <td>1</td>\n",
       "      <td>312</td>\n",
       "      <td>0</td>\n",
       "    </tr>\n",
       "  </tbody>\n",
       "</table>\n",
       "</div>"
      ],
      "text/plain": [
       "      Lot_Area  Year_Built  Total_Bsmt_SF  First_Flr_SF  Second_Flr_SF  \\\n",
       "1623      7875        1996            691           691            862   \n",
       "1297      6756        1910            481           899              0   \n",
       "1310      4571        1916            624           624            720   \n",
       "1152      8450        1968            890           890              0   \n",
       "293      10452        1941           1528          1225            908   \n",
       "\n",
       "      Gr_Liv_Area  Fireplaces  Garage_Cars  Garage_Area  Wood_Deck_SF  \n",
       "1623         1553           0            2          420             0  \n",
       "1297          899           0            1          200             0  \n",
       "1310         1344           0            3          513             0  \n",
       "1152          890           0            1          308             0  \n",
       "293          2133           2            1          312             0  "
      ]
     },
     "execution_count": 24,
     "metadata": {},
     "output_type": "execute_result"
    }
   ],
   "source": [
    "X_train_pickle.head()"
   ]
  },
  {
   "cell_type": "code",
   "execution_count": 22,
   "metadata": {},
   "outputs": [
    {
     "data": {
      "text/plain": [
       "array([0.04037369, 0.13205884, 0.13408432, 0.10136668, 0.04549349,\n",
       "       0.18284706, 0.03102461, 0.21092312, 0.10293568, 0.01889251])"
      ]
     },
     "execution_count": 22,
     "metadata": {},
     "output_type": "execute_result"
    }
   ],
   "source": [
    "best_model.feature_importances_"
   ]
  },
  {
   "cell_type": "code",
   "execution_count": 25,
   "metadata": {},
   "outputs": [
    {
     "name": "stdout",
     "output_type": "stream",
     "text": [
      "MSE: 966977228.0334438\n",
      "MAE: 12668.75\n",
      "R2: 0.8298618257789849\n"
     ]
    }
   ],
   "source": [
    "report_metrics(best_model, y_test_pickle, X_test_pickle)"
   ]
  },
  {
   "cell_type": "markdown",
   "metadata": {},
   "source": [
    "Resultados:\n",
    "\n",
    "* El error OOB es de 84%\n",
    "* La explicación del modelo se mantiene similar a la aplicación sin cambio de hiperparámetros\n",
    "* Se le atribuye mayor importancia alas variables: Year_Built, Total_Bsmt_SF, y Garage_Cars"
   ]
  },
  {
   "cell_type": "markdown",
   "metadata": {},
   "source": []
  }
 ],
 "metadata": {
  "kernelspec": {
   "display_name": "Python 3.8.3 ('base')",
   "language": "python",
   "name": "python3"
  },
  "language_info": {
   "codemirror_mode": {
    "name": "ipython",
    "version": 3
   },
   "file_extension": ".py",
   "mimetype": "text/x-python",
   "name": "python",
   "nbconvert_exporter": "python",
   "pygments_lexer": "ipython3",
   "version": "3.8.3"
  },
  "orig_nbformat": 4,
  "vscode": {
   "interpreter": {
    "hash": "40d3a090f54c6569ab1632332b64b2c03c39dcf918b08424e98f38b5ae0af88f"
   }
  }
 },
 "nbformat": 4,
 "nbformat_minor": 2
}
