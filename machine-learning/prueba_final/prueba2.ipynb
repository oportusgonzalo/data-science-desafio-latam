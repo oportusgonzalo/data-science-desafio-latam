{
 "cells": [
  {
   "cell_type": "markdown",
   "metadata": {},
   "source": [
    "# Hito 2"
   ]
  },
  {
   "cell_type": "markdown",
   "metadata": {},
   "source": [
    "## 1. Preliminares"
   ]
  },
  {
   "cell_type": "markdown",
   "metadata": {},
   "source": [
    "A continuación se detallan las características del problema a evaluar:"
   ]
  },
  {
   "cell_type": "markdown",
   "metadata": {},
   "source": [
    "### 1.1 Problema (Analizando los crímenes en la ciudad de Nueva York)"
   ]
  },
  {
   "cell_type": "markdown",
   "metadata": {},
   "source": [
    "Se trabajará con datos públkicos del departamento de policía de NY. Debemos reportar los siguientes resultados:\n",
    "\n",
    "1) Probabilidad que un individuo sea arrestado en uno de los cinco barrios, condicional al género y a la raza\n",
    "\n",
    "2) Modelo predictivo que prediga efectivamente si un determinado procedimiento concluirá en un arresto o nonlocal\n",
    "\n",
    "3) Modelo predictivo para determinar si el procedimiento concluirá en una acción violenta"
   ]
  },
  {
   "cell_type": "markdown",
   "metadata": {},
   "source": [
    "Para los modelos predictivos, tenemos:\n",
    "\n",
    "* Variables objetivo: primero tenemos \"arstmade\" que define si se efectuó un arresto o no; y por otro lado, tenemos \"was_violent\" que define su el arresto tuvo caracter violento o no (se define a partir de la metodología expresa mas adelante). Dado lo anterior, identificamos que ambas V.O son variables categóricas, caracterizando el problema como uno de clasificación.\n",
    "\n",
    "* Atributos: existen decenas de atributos principalmente categóricos que definen características del arresto. Algunas categorías globales dentro de las cuales se pueden agrupar son: periodos temporales, portación de armas, uso de la fuerza bruta, etc"
   ]
  },
  {
   "cell_type": "markdown",
   "metadata": {},
   "source": [
    "### 1.2 Modelos a implementar"
   ]
  },
  {
   "cell_type": "markdown",
   "metadata": {},
   "source": [
    "Dado que existen dos variables objetivo, entonces definimos los modelos a utilizar en ambos casos.\n",
    "\n",
    "1) arstmade:\n",
    "\n",
    "* Logistic Regression: método de clasificación que presente una fácil implementación y en general, un buen desempeño.\n",
    "\n",
    "* KMeans: algoritmo que permite agrupar los datos en clusters, encontrando similitudes en los atributos.\n",
    "\n",
    "* Random Forest Classifier: dado que es un buen predictor para clasificadores al promediar el desempeño de un grupo de clasificadores, e implementa un proceso de validación cruzada con un sample menor al número total de atributos disponibles; permitiendo evaluar el desempeño \"out-of-bag\" en cada iteración.\n",
    "\n",
    "2) was_violent:\n",
    "\n",
    "* Logistic Regression: método de clasificación que presente una fácil implementación y en general, un buen desempeño.\n",
    "\n",
    "* KMeans: algoritmo que permite agrupar los datos en clusters, encontrando similitudes en los atributos.\n",
    "\n",
    "* Linear Discriminant Analysis: algoritmo supervisado (tenemos conocimiento previo sobre la existencia de las clases y) y generativo (buscamos aprender sobre las clases a partir de los atributos X).\n",
    "\n",
    "* Random Forest Classifier: dado que es un buen predictor para clasificadores al promediar el desempeño de un grupo de clasificadores, e implementa un proceso de validación cruzada con un sample menor al número total de atributos disponibles; permitiendo evaluar el desempeño \"out-of-bag\" en cada iteración.\n",
    "\n",
    "* Gradient Boosting: algoritmo que ajusta los pesos asociados a cada atributo en cada iteración en base al error residual que esta teniendo el modelo. A medida que aumentan las iteraciones, la función objetivo acoplada en los residuos tiende a situarse cercano a cero."
   ]
  },
  {
   "cell_type": "markdown",
   "metadata": {},
   "source": [
    "Dado los algoritmos presentados anteriormente, se definen los siguientes parámetros de grilla. Es importante de notar las grillas en los modelos que se implementen para ambas predicciones serán iguales. Dado ello se definen 5 grillas, ya que son 5 modelos distintos los implementados:\n",
    "\n",
    "*  Logistic Regression:\n",
    "\n",
    "* KMeans:\n",
    "\n",
    "* Linear Discriminant Analysis:\n",
    "\n",
    "* Random Forest Classifier:\n",
    "\n",
    "    params = {\n",
    "        n_estimators = range(20, 1000, 25),\n",
    "        'max_features': [None, 'log2', 'sqrt']}\n",
    "\n",
    "* Gradient Boosting:\n",
    "\n",
    "    param_grid = {'n_estimators': [100, 500, 1000],\n",
    "                'learning_rate': [0.01, 0.1, 0.5, 1, 5, 10],\n",
    "                'subsample': np.linspace(0.1, 1.0, 5, endpoint=True, dtype=float)}"
   ]
  },
  {
   "cell_type": "markdown",
   "metadata": {},
   "source": [
    "### 1.3 Métricas y estrategia de división de muestras"
   ]
  },
  {
   "cell_type": "markdown",
   "metadata": {},
   "source": [
    "Las métricas a utilizar para ambos problemas de clasificación serán:\n",
    "\n",
    "* accuracy_score: define el ratio de asignaciones correctas\n",
    "\n",
    "* roc_auc_score: curva que permite comparar la clasificación de nuestro modelo con un clasificador aleatorio\n",
    "\n",
    "* confusion_matrix: matriz que nos permite identificar tanto las asignaciones correctas como las que no; separadas por clase\n",
    "\n",
    "* classification_report: reporte que nos brinda el Precision (porcentaje de clasificaciones correctas entre las asignadas), Recall (porcentaje de una clase que somos capaces de identficar correctamente), F1-score (ponderacion entre Precission y Recall) y Accuracy (igual a accuracy_score) de nuestro modelo"
   ]
  },
  {
   "cell_type": "markdown",
   "metadata": {},
   "source": [
    "Por otro lado, para dividir nuestro conjunto de datos utilizaremos el módulo \"train_test_split()\" de scikit-learn. Utilizaremos un 33% del set de datos como conjunto validador y además utilizaremos una semilla pseudo-aleatoria para poder replicar los resultados."
   ]
  },
  {
   "cell_type": "markdown",
   "metadata": {},
   "source": [
    "### 1.4 Procesamiento tentativo"
   ]
  },
  {
   "cell_type": "markdown",
   "metadata": {},
   "source": [
    "* Primero que todo se detalla que se utilizarán los datos del 2009 como conjunto de entrenamiento, y los datos de 2010 como conjunto de validación\n",
    "\n",
    "* Eliminaremos la variable \"year\", dado que posee un único valor. Esto implica que no es una variable informativa sino estática\n",
    "\n",
    "* Dado que existe un gran número de variables, utilizaremos la función \"create_suitable_dataframe\" detallada en el archivo \"preproc_nyc_sqf.py\" para hacer del conjunto de datos más amigable. Esto implica transformar variables categóricas, seleccionar variables, definir la edad del individuo, entre otros\n",
    "\n",
    "* Para las variables categóricas que poseen datos faltantes, se asignarán a la clase que no exprese la ocurrencia.\n",
    "\n",
    "* Las medidas de distancia se transformarán a sistema métrico\n",
    "\n",
    "* Sólo se utilizarán las observaciones de personas que sean mayores de 18 años y menores de 100\n",
    "\n",
    "* En caso de existir variables con valores muy grandes se realizará una estandarización general con el módulo StandardScaler() de scikit-learn\n",
    "\n",
    "* Definición de una acción violenta: cuando pf_hands, pf_wall, pf_grnd, pf_drwep, pf_ptwep, pf_baton, pf_hcuff, pf_pepsp, o pf_other; haga referencia a \"yes\". Es decir, cuando al menos una de las variables anteriores que hacen referencia al uso efectivo de la fuerza por parte del oficial asumiremos que hubo agresividad por alguna de las partes"
   ]
  },
  {
   "cell_type": "markdown",
   "metadata": {},
   "source": [
    "## 2. Aspectos Computacionales"
   ]
  },
  {
   "cell_type": "code",
   "execution_count": 22,
   "metadata": {},
   "outputs": [],
   "source": [
    "%matplotlib inline\n",
    "import pandas as pd\n",
    "import numpy as np\n",
    "from scipy import stats\n",
    "import matplotlib.pyplot as plt\n",
    "import seaborn as sns\n",
    "import re\n",
    "\n",
    "\n",
    "from sklearn.linear_model import LogisticRegression\n",
    "from sklearn.cluster import KMeans\n",
    "from sklearn.discriminant_analysis import LinearDiscriminantAnalysis\n",
    "from sklearn.ensemble import RandomForestClassifier, GradientBoostingClassifier\n",
    "from sklearn.model_selection import train_test_split\n",
    "from sklearn.preprocessing import StandardScaler\n",
    "from sklearn.metrics import classification_report, accuracy_score, roc_auc_score, confusion_matrix\n",
    "\n",
    "from static import *\n",
    "from apoyo_prueba_2.preproc_nyc_sqf import *\n",
    "\n",
    "import warnings\n",
    "warnings.filterwarnings('ignore')\n",
    "\n",
    "plt.style.use('ggplot')\n",
    "plt.rcParams['figure.figsize'] = (10, 6)"
   ]
  },
  {
   "cell_type": "markdown",
   "metadata": {},
   "source": [
    "## 3. Feature Engineering"
   ]
  },
  {
   "cell_type": "code",
   "execution_count": 2,
   "metadata": {},
   "outputs": [],
   "source": [
    "# lectura de datos\n",
    "df = pd.read_csv('apoyo_prueba_2/2009_1perc.csv').drop('Unnamed: 0', axis=1)"
   ]
  },
  {
   "cell_type": "markdown",
   "metadata": {},
   "source": [
    "### 3.1 Limpiamos el conjunto de datos"
   ]
  },
  {
   "cell_type": "code",
   "execution_count": 3,
   "metadata": {},
   "outputs": [],
   "source": [
    "# eliminamos la variable year\n",
    "df = df.drop('year', axis=1)"
   ]
  },
  {
   "cell_type": "code",
   "execution_count": 4,
   "metadata": {},
   "outputs": [
    {
     "name": "stdout",
     "output_type": "stream",
     "text": [
      "['pct', 'ser_num', 'datestop', 'timestop', 'perstop', 'compyear', 'comppct', 'repcmd', 'revcmd', 'dob', 'age', 'ht_feet', 'ht_inch', 'weight', 'addrpct', 'linecm', 'detailcm', 'perobs']\n"
     ]
    }
   ],
   "source": [
    "# aplicamos función para estructurar de mejor forma el conjunto de datos\n",
    "proc_df, suitable_categorical_attributes, suitable_numerical_attributes  = create_suitable_dataframe(df)"
   ]
  },
  {
   "cell_type": "markdown",
   "metadata": {},
   "source": [
    "### 3.2 Creamos la variable objetiv que se relaciona a la existencia de violencia en el arresto"
   ]
  },
  {
   "cell_type": "code",
   "execution_count": 5,
   "metadata": {},
   "outputs": [],
   "source": [
    "# en cualquier circunstancia que hubo uso de fuerza bruta, entonces consideramos que hubo violencia en el arresto\n",
    "\n",
    "condition = (proc_df['pf_hands'] == 'Y')|(proc_df['pf_wall'] == 'Y')|(proc_df['pf_grnd'] == 'Y')|(proc_df['pf_drwep'] == 'Y')\\\n",
    "    |(proc_df['pf_ptwep'] == 'Y')|(proc_df['pf_baton'] == 'Y')|(proc_df['pf_hcuff'] == 'Y')|(proc_df['pf_pepsp'] == 'Y')\\\n",
    "        |(proc_df['pf_other'] == 'Y')"
   ]
  },
  {
   "cell_type": "code",
   "execution_count": 6,
   "metadata": {},
   "outputs": [],
   "source": [
    "proc_df['was_violent'] = np.where(condition, 1, 0)"
   ]
  },
  {
   "cell_type": "markdown",
   "metadata": {},
   "source": [
    "### 3.3 Identificamos la calidad de los datos iniciales post primer pre-procesamiento"
   ]
  },
  {
   "cell_type": "code",
   "execution_count": 7,
   "metadata": {},
   "outputs": [],
   "source": [
    "df_calidad = calidad_datos(proc_df)"
   ]
  },
  {
   "cell_type": "code",
   "execution_count": 8,
   "metadata": {},
   "outputs": [
    {
     "name": "stdout",
     "output_type": "stream",
     "text": [
      "Nº atributos con nulos: 0\n"
     ]
    }
   ],
   "source": [
    "print(f\"Nº atributos con nulos: {df_calidad[df_calidad['porc_nulos'] > 0].shape[0]}\")"
   ]
  },
  {
   "cell_type": "code",
   "execution_count": 9,
   "metadata": {},
   "outputs": [
    {
     "data": {
      "text/plain": [
       "12.0"
      ]
     },
     "execution_count": 9,
     "metadata": {},
     "output_type": "execute_result"
    }
   ],
   "source": [
    "df_calidad['max'].max()"
   ]
  },
  {
   "cell_type": "markdown",
   "metadata": {},
   "source": [
    "Identificamos además que los valores de las variables se encuentran en un intervalo de valores similar, ya que el valor máximo entre todas es igual a 12. Esto nos da un buen inicio para no tener que normalizar los datos.\n",
    "\n",
    "Además, no tenemos que trabajar sobre datos nulos ya que no existen."
   ]
  },
  {
   "cell_type": "markdown",
   "metadata": {},
   "source": [
    "# 4. Análisis Exploratorio"
   ]
  },
  {
   "cell_type": "markdown",
   "metadata": {},
   "source": [
    "A continuación se presenta una perspectiva inicial sobre la estructura de las variables objetivo, y algunos atributos."
   ]
  },
  {
   "cell_type": "markdown",
   "metadata": {},
   "source": [
    "### 4.1 Distribución de clases en vectoes objetivo"
   ]
  },
  {
   "cell_type": "markdown",
   "metadata": {},
   "source": [
    "Existen dos variables objetivo:\n",
    "\n",
    "* arstmade\n",
    "* was_violent"
   ]
  },
  {
   "cell_type": "markdown",
   "metadata": {},
   "source": [
    "#### 4.1.1 Balance en clase arstmade"
   ]
  },
  {
   "cell_type": "code",
   "execution_count": 10,
   "metadata": {},
   "outputs": [
    {
     "data": {
      "image/png": "[encoded data removed]",
      "text/plain": [
       "<Figure size 720x432 with 1 Axes>"
      ]
     },
     "metadata": {},
     "output_type": "display_data"
    }
   ],
   "source": [
    "sns.countplot(x=proc_df['arstmade'])\n",
    "plt.title('Balance de clases en variable \"arstmade\"')\n",
    "plt.xlabel('Clases')\n",
    "plt.show()"
   ]
  },
  {
   "cell_type": "code",
   "execution_count": 11,
   "metadata": {},
   "outputs": [
    {
     "data": {
      "text/plain": [
       "N    4355\n",
       "Y     281\n",
       "Name: arstmade, dtype: int64"
      ]
     },
     "execution_count": 11,
     "metadata": {},
     "output_type": "execute_result"
    }
   ],
   "source": [
    "proc_df['arstmade'].value_counts()"
   ]
  },
  {
   "cell_type": "code",
   "execution_count": 12,
   "metadata": {},
   "outputs": [
    {
     "data": {
      "text/plain": [
       "6.452353616532721"
      ]
     },
     "execution_count": 12,
     "metadata": {},
     "output_type": "execute_result"
    }
   ],
   "source": [
    "(proc_df['arstmade'].value_counts()[1]/proc_df['arstmade'].value_counts()[0])*100"
   ]
  },
  {
   "cell_type": "markdown",
   "metadata": {},
   "source": [
    "#### 4.1.2 Balance en clase was_violent"
   ]
  },
  {
   "cell_type": "code",
   "execution_count": 13,
   "metadata": {},
   "outputs": [
    {
     "data": {
      "image/png": "[encoded data removed]",
      "text/plain": [
       "<Figure size 720x432 with 1 Axes>"
      ]
     },
     "metadata": {},
     "output_type": "display_data"
    }
   ],
   "source": [
    "sns.countplot(x=proc_df['was_violent'])\n",
    "plt.title('Balance de clases en variable \"was_violent\"')\n",
    "plt.xlabel('Clases')\n",
    "plt.show()"
   ]
  },
  {
   "cell_type": "code",
   "execution_count": 14,
   "metadata": {},
   "outputs": [
    {
     "data": {
      "text/plain": [
       "0    3500\n",
       "1    1136\n",
       "Name: was_violent, dtype: int64"
      ]
     },
     "execution_count": 14,
     "metadata": {},
     "output_type": "execute_result"
    }
   ],
   "source": [
    "proc_df['was_violent'].value_counts()"
   ]
  },
  {
   "cell_type": "code",
   "execution_count": 15,
   "metadata": {},
   "outputs": [
    {
     "data": {
      "text/plain": [
       "32.457142857142856"
      ]
     },
     "execution_count": 15,
     "metadata": {},
     "output_type": "execute_result"
    }
   ],
   "source": [
    "(proc_df['was_violent'].value_counts()[1]/proc_df['was_violent'].value_counts()[0])*100"
   ]
  },
  {
   "cell_type": "markdown",
   "metadata": {},
   "source": [
    "Resultados:\n",
    "\n",
    "* Existe un gran desbalance en la variable \"arstmade\". Especificamente, un ~6.5% de las veces se efectua un arresto, versus el ~93.5% de las veces que no. Esto es un gran problema para nuestro modelo, ya que tenemos muy poca información para predecir la clase 1 y, es probable; que esto se traduza en un bajo f1-score para dicha clase\n",
    "\n",
    "* Las clases para la variable \"was_violent\" se encuentran levemente desbalanceadas, donde un arresto se ejecuta de forma violenta solo el ~32.4% de las veces, versus el ~67.6% que no. Dado la leve diferencia, ignoramos el desbalance"
   ]
  },
  {
   "cell_type": "markdown",
   "metadata": {},
   "source": [
    "Aquí se visualizan gráficas de atributos y también, algunas relaciones entre atributos y variables objetivo."
   ]
  },
  {
   "cell_type": "code",
   "execution_count": null,
   "metadata": {},
   "outputs": [],
   "source": []
  },
  {
   "cell_type": "code",
   "execution_count": null,
   "metadata": {},
   "outputs": [],
   "source": []
  },
  {
   "cell_type": "code",
   "execution_count": null,
   "metadata": {},
   "outputs": [],
   "source": []
  },
  {
   "cell_type": "code",
   "execution_count": null,
   "metadata": {},
   "outputs": [],
   "source": []
  }
 ],
 "metadata": {
  "kernelspec": {
   "display_name": "Python 3.9.13 ('venv-ml')",
   "language": "python",
   "name": "python3"
  },
  "language_info": {
   "codemirror_mode": {
    "name": "ipython",
    "version": 3
   },
   "file_extension": ".py",
   "mimetype": "text/x-python",
   "name": "python",
   "nbconvert_exporter": "python",
   "pygments_lexer": "ipython3",
   "version": "3.9.13"
  },
  "orig_nbformat": 4,
  "vscode": {
   "interpreter": {
    "hash": "b1b303acd0c11ca3b4a72b7c4bcfa9e6d93c50d16ae889b8d4c17cd8b47c442f"
   }
  }
 },
 "nbformat": 4,
 "nbformat_minor": 2
}
