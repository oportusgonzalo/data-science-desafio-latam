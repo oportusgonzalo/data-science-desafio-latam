{
 "cells": [
  {
   "cell_type": "markdown",
   "metadata": {},
   "source": [
    "# Hito 1"
   ]
  },
  {
   "cell_type": "markdown",
   "metadata": {},
   "source": [
    "## 1. Preliminares"
   ]
  },
  {
   "cell_type": "markdown",
   "metadata": {},
   "source": [
    "A continuación se detallan las características del problema a evaluar."
   ]
  },
  {
   "cell_type": "markdown",
   "metadata": {},
   "source": [
    "### 1.1 Problema (Análisis de sentimientos en Twitter)"
   ]
  },
  {
   "cell_type": "markdown",
   "metadata": {},
   "source": [
    "El problema corresponde a uno de análisis de texto, donde queremos identificar el sentimiento asociado a un texto; el cual se refiere a un tweet.\n",
    "\n",
    "Dado ello, es un problema de clasificación.\n",
    "\n",
    "Objetivo: identificar si un tweet tiene polaridad positiva o negativa (sentimiento expresado)."
   ]
  },
  {
   "cell_type": "markdown",
   "metadata": {},
   "source": [
    "* Variable objetivo: describe una emocion que resume el contenido de un tweet. Para conveniencia del trabajo, estas serán transformadas a emociones positivas o negativas de acuerdo a su morfología.\n",
    "\n",
    "* Atributos: inicialmente existen textos que son tweets escritos en la plataforma de Twitter. Sin embargo, con objetivo de crear atributos para la predicción de emociones, transformaremos dichos textos en vectores de ocurrencia."
   ]
  },
  {
   "cell_type": "markdown",
   "metadata": {},
   "source": [
    "### 1.2 Modelos a implementar"
   ]
  },
  {
   "cell_type": "markdown",
   "metadata": {},
   "source": [
    "Dado que el problema a estudiar es un problema de clasificación, proponemos la implementación de los siguientes modelos:"
   ]
  },
  {
   "cell_type": "markdown",
   "metadata": {},
   "source": [
    "* Logistic Regression: método de clasificación que presente una fácil implementación y en general, un buen desempeño.\n",
    "\n",
    "* Decision Tree: algoritmo condicional que permite construir predicciones a partir de preguntas sobre el conjunto de datos\n",
    "\n",
    "* Random Forest Classifier: dado que es un buen predictor para clasificadores al promediar el desempeño de un grupo de clasificadores, e implementa un proceso de validación cruzada con un sample menor al número total de atributos disponibles; permitiendo evaluar el desempeño \"out-of-bag\" en cada iteración.\n",
    "\n",
    "* Gradient Boosting: algoritmo que ajusta los pesos asociados a cada atributo en cada iteración en base al error residual que esta teniendo el modelo. A medida que aumentan las iteraciones, la función objetivo acoplada en los residuos tiende a situarse cercano a cero.\n",
    "\n",
    "* Ada Boost: algoritmo de ensamble adaptativo que usará como base árboles de decisión, y disminuye el error en las predicciones del modelo asignando pesos mayores en cada iteración a los atributos con mayor error. De esta forma podrá mejorar su capacidad predictiva"
   ]
  },
  {
   "cell_type": "markdown",
   "metadata": {},
   "source": [
    "Dado los algoritmos presentados anteriormente, se definen los siguientes parámetros de grilla:\n",
    "\n",
    "*  Logistic Regression: \n",
    "\n",
    "    params = {\n",
    "        'C': np.logspace(-4, 4, 10),\n",
    "        'penalty': ['l1', 'l2']}\n",
    "\n",
    "* Decision Tree:\n",
    "\n",
    "    params = {\n",
    "            'max_depth': [2, 5, 10]\n",
    "            }\n",
    "\n",
    "* Random Forest Classifier:\n",
    "\n",
    "    params = {\n",
    "        n_estimators = range(20, 1000, 10),\n",
    "        'max_features': ['log2', 'sqrt']}\n",
    "\n",
    "* Gradient Boosting:\n",
    "\n",
    "    param_grid = {'n_estimators': [100, 500, 1000],\n",
    "                'learning_rate': [0.1, 0.5, 1, 5],\n",
    "                'subsample': np.linspace(0.1, 1.0, 3, endpoint=True, dtype=float)}"
   ]
  },
  {
   "cell_type": "markdown",
   "metadata": {},
   "source": [
    "### 1.3 Métricas y estrategia de división de muestras"
   ]
  },
  {
   "cell_type": "markdown",
   "metadata": {},
   "source": [
    "Las métricas a utilizar para este problema de clasificación serán:\n",
    "\n",
    "* accuracy_score: define el ratio de asignaciones correctas\n",
    "\n",
    "* roc_auc_score: curva que permite comparar la clasificación de nuestro modelo con un clasificador aleatorio\n",
    "\n",
    "* confusion_matrix: matriz que nos permite identificar tanto las asignaciones correctas como las que no; separadas por clase\n",
    "\n",
    "* classification_report: reporte que nos brinda el Precision (porcentaje de clasificaciones correctas entre las asignadas), Recall (porcentaje de una clase que somos capaces de identficar correctamente), F1-score (ponderacion entre Precission y Recall) y Accuracy (igual a accuracy_score) de nuestro modelo"
   ]
  },
  {
   "cell_type": "markdown",
   "metadata": {},
   "source": [
    "Por otro lado, para dividir nuestro conjunto de datos utilizaremos el módulo \"train_test_split()\" de scikit-learn. Utilizaremos un 33% del set de datos como conjunto validador y además utilizaremos una semilla pseudo-aleatoria para poder replicar los resultados."
   ]
  },
  {
   "cell_type": "markdown",
   "metadata": {},
   "source": [
    "### 1.4 Procesamiento tentativo"
   ]
  },
  {
   "cell_type": "markdown",
   "metadata": {},
   "source": [
    "* Se eliminarán las filas que posean ya sea el tweet o la emoción incompleta, ya que pierde las características mínimas necesarias para participar del proceso predictivo\n",
    "\n",
    "* Se aplicarán técnicas de procesamiento de lenguaje natural (NLP) para hacer una limpieza inicial de los tweets considerando: normalización de tweets a minúscula, eliminación de caracteres especiales, lematización, entre otros\n",
    "\n",
    "* Se utilizará el módulo de scikit-learn TfidfVectorizer o CountVectorizer para transformar los tweets en vectores numéricos\n",
    "\n",
    "* Las etiquetas neutras serán clasificadas como negativas el 51% de las veces, y positivas el 49%. Esto dado las probabilidades proporcionales iniciales de dichas clases y además, dado que la emoción neutra no aporta características relevantes al modelo"
   ]
  },
  {
   "cell_type": "markdown",
   "metadata": {},
   "source": [
    "## 2. Aspectos Computacionales"
   ]
  },
  {
   "cell_type": "code",
   "execution_count": 89,
   "metadata": {},
   "outputs": [],
   "source": [
    "%matplotlib inline\n",
    "import pandas as pd\n",
    "import numpy as np\n",
    "from scipy import stats\n",
    "import matplotlib.pyplot as plt\n",
    "import seaborn as sns\n",
    "import re\n",
    "\n",
    "from sklearn.feature_extraction.text import CountVectorizer\n",
    "\n",
    "from sklearn.linear_model import LogisticRegression\n",
    "from sklearn.tree import DecisionTreeClassifier\n",
    "from sklearn.ensemble import RandomForestClassifier, GradientBoostingClassifier, AdaBoostClassifier\n",
    "from sklearn.model_selection import train_test_split\n",
    "from sklearn.preprocessing import StandardScaler\n",
    "from sklearn.model_selection import GridSearchCV\n",
    "from sklearn.metrics import classification_report, accuracy_score, roc_auc_score, confusion_matrix\n",
    "\n",
    "from static import *\n",
    "\n",
    "import warnings\n",
    "warnings.filterwarnings('ignore')\n",
    "\n",
    "plt.style.use('ggplot')\n",
    "plt.rcParams['figure.figsize'] = (10, 6)"
   ]
  },
  {
   "cell_type": "markdown",
   "metadata": {},
   "source": [
    "## 3. Feature Engineering"
   ]
  },
  {
   "cell_type": "code",
   "execution_count": 2,
   "metadata": {},
   "outputs": [],
   "source": [
    "# lectura de datos\n",
    "data = pd.read_csv('training_tweets.csv').drop('Unnamed: 0', axis=1)"
   ]
  },
  {
   "cell_type": "markdown",
   "metadata": {},
   "source": [
    "### 3.1 limpieza de tweets"
   ]
  },
  {
   "cell_type": "code",
   "execution_count": 3,
   "metadata": {},
   "outputs": [],
   "source": [
    "# aplicando normalización y lemmatizacion a los tweets\n",
    "df_clean = nlp_cleaning(data)"
   ]
  },
  {
   "cell_type": "code",
   "execution_count": 4,
   "metadata": {},
   "outputs": [],
   "source": [
    "df = df_clean.loc[:, ['content_clean', 'sentiment']]\n",
    "df.rename(columns={'content_clean': 'content'}, inplace=True)"
   ]
  },
  {
   "cell_type": "markdown",
   "metadata": {},
   "source": [
    "### 3.2 Transformando emociones"
   ]
  },
  {
   "cell_type": "code",
   "execution_count": 5,
   "metadata": {},
   "outputs": [],
   "source": [
    "emotion_dict = {\n",
    "    'worry': 'negativa',\n",
    "    'happiness': 'positiva',\n",
    "    'sadness': 'negativa',\n",
    "    'love': 'positiva',\n",
    "    'surprise': 'positiva',\n",
    "    'fun': 'positiva',\n",
    "    'relief': 'positiva',\n",
    "    'hate': 'negativa',\n",
    "    'empty': 'negativa',\n",
    "    'enthusiasm': 'positiva',\n",
    "    'boredom': 'negativa',\n",
    "    'anger': 'negativa'\n",
    "}"
   ]
  },
  {
   "cell_type": "code",
   "execution_count": 6,
   "metadata": {},
   "outputs": [],
   "source": [
    "# reemplazando emociones\n",
    "df['sentiment'] = df['sentiment'].replace(emotion_dict)"
   ]
  },
  {
   "cell_type": "code",
   "execution_count": 7,
   "metadata": {},
   "outputs": [
    {
     "data": {
      "text/plain": [
       "negativa    0.400733\n",
       "positiva    0.384233\n",
       "neutral     0.215033\n",
       "Name: sentiment, dtype: float64"
      ]
     },
     "execution_count": 7,
     "metadata": {},
     "output_type": "execute_result"
    }
   ],
   "source": [
    "# probabilidad inicial de emociones\n",
    "df['sentiment'].value_counts('%')"
   ]
  },
  {
   "cell_type": "code",
   "execution_count": 8,
   "metadata": {},
   "outputs": [],
   "source": [
    "# reemplazando emocion neutral\n",
    "binary = ['negativa', 'positiva']\n",
    "df['sentiment'] = [i.replace('neutral', np.random.choice(binary, 1, p=[0.51, 0.49])[0]) for i in df['sentiment']]"
   ]
  },
  {
   "cell_type": "code",
   "execution_count": 10,
   "metadata": {},
   "outputs": [
    {
     "data": {
      "text/plain": [
       "negativa    0.511967\n",
       "positiva    0.488033\n",
       "Name: sentiment, dtype: float64"
      ]
     },
     "execution_count": 10,
     "metadata": {},
     "output_type": "execute_result"
    }
   ],
   "source": [
    "df['sentiment'].value_counts('%')"
   ]
  },
  {
   "cell_type": "markdown",
   "metadata": {},
   "source": [
    "### 3.3 Transformamos el conjunto de datos en una matriz que represente la ocurrencia de cada palabra"
   ]
  },
  {
   "cell_type": "code",
   "execution_count": 11,
   "metadata": {},
   "outputs": [],
   "source": [
    "# Create a Vectorizer Object\n",
    "vectorizer = CountVectorizer()"
   ]
  },
  {
   "cell_type": "code",
   "execution_count": 12,
   "metadata": {},
   "outputs": [],
   "source": [
    "# ajustamos el modelo con los\n",
    "X = vectorizer.fit_transform(df['content'])"
   ]
  },
  {
   "cell_type": "code",
   "execution_count": 13,
   "metadata": {},
   "outputs": [],
   "source": [
    "df_count = pd.DataFrame(X.toarray(), columns=vectorizer.get_feature_names())"
   ]
  },
  {
   "cell_type": "code",
   "execution_count": 14,
   "metadata": {},
   "outputs": [],
   "source": [
    "# reducimos el espacio eliminando palabras insignificantes\n",
    "df_count = df_count.iloc[:, 899:-5]"
   ]
  },
  {
   "cell_type": "code",
   "execution_count": 15,
   "metadata": {},
   "outputs": [],
   "source": [
    "# juntamos los conjuntos de datos\n",
    "x_attr = df_count.copy()"
   ]
  },
  {
   "cell_type": "code",
   "execution_count": 20,
   "metadata": {},
   "outputs": [],
   "source": [
    "df_model = x_attr.copy()\n",
    "df_model['variable_objetivo'] = df['sentiment']"
   ]
  },
  {
   "cell_type": "markdown",
   "metadata": {},
   "source": [
    "# 4. Análisis Exploratorio"
   ]
  },
  {
   "cell_type": "markdown",
   "metadata": {},
   "source": [
    "A continuación indagamos sobre la estructura inicial de nuestro conjunto de datos en cuanto a contenido."
   ]
  },
  {
   "cell_type": "markdown",
   "metadata": {},
   "source": [
    "### 4.1 Distribución de clases en vector objetivo"
   ]
  },
  {
   "cell_type": "code",
   "execution_count": 23,
   "metadata": {},
   "outputs": [
    {
     "data": {
      "text/plain": [
       "<AxesSubplot:xlabel='sentiment', ylabel='count'>"
      ]
     },
     "execution_count": 23,
     "metadata": {},
     "output_type": "execute_result"
    },
    {
     "data": {
      "image/png": "[encoded data removed]",
      "text/plain": [
       "<Figure size 720x432 with 1 Axes>"
      ]
     },
     "metadata": {},
     "output_type": "display_data"
    }
   ],
   "source": [
    "sns.countplot(x=df['sentiment'])"
   ]
  },
  {
   "cell_type": "markdown",
   "metadata": {},
   "source": [
    "A partir del gráfico anterior identificamos que las clases de emociones: positiva, y negativa; se encuentran balanceadas."
   ]
  },
  {
   "cell_type": "markdown",
   "metadata": {},
   "source": [
    "### 4.2 Palabras más comunes"
   ]
  },
  {
   "cell_type": "code",
   "execution_count": 24,
   "metadata": {},
   "outputs": [],
   "source": [
    "# dataframe con palabras y el número de veces que están presente en tweets\n",
    "words = vectorizer.get_feature_names()\n",
    "words_freq = X.toarray().sum(axis=0)\n",
    "words_freq_df = pd.DataFrame([list(words), list(words_freq)]).T"
   ]
  },
  {
   "cell_type": "code",
   "execution_count": 25,
   "metadata": {},
   "outputs": [],
   "source": [
    "# obtenemos las 5000 palabras más comunes\n",
    "words_freq_df.columns= ['word', 'freq']\n",
    "words_freq_df = words_freq_df.sort_values(by='freq', ascending=False).iloc[0:5000, :].reset_index(drop=True)"
   ]
  },
  {
   "cell_type": "code",
   "execution_count": 26,
   "metadata": {},
   "outputs": [
    {
     "data": {
      "image/png": "[encoded data removed]",
      "text/plain": [
       "<Figure size 360x504 with 1 Axes>"
      ]
     },
     "metadata": {},
     "output_type": "display_data"
    }
   ],
   "source": [
    "# visualizamos la distribucion de las 20 palabras con mayor uso\n",
    "plt.figure(figsize=(5, 7))\n",
    "plt.barh(words_freq_df['word'][:20], words_freq_df['freq'][:20])\n",
    "plt.title('Top 20 palabras mas comunes')\n",
    "plt.xlabel('Frecuencia')\n",
    "plt.ylabel('Palabra')\n",
    "plt.show()"
   ]
  },
  {
   "cell_type": "markdown",
   "metadata": {},
   "source": [
    "### 4.3 Palabras más comunes por categoría"
   ]
  },
  {
   "cell_type": "code",
   "execution_count": 27,
   "metadata": {},
   "outputs": [],
   "source": [
    "# eliminando columnas duplicadas\n",
    "df_model = df_model.loc[:, ~df_model.columns.duplicated()].copy()"
   ]
  },
  {
   "cell_type": "code",
   "execution_count": 44,
   "metadata": {},
   "outputs": [],
   "source": [
    "# contamos numero de palabras por emocion\n",
    "df_comun = df_model.groupby('variable_objetivo').sum().reset_index()"
   ]
  },
  {
   "cell_type": "code",
   "execution_count": 46,
   "metadata": {},
   "outputs": [
    {
     "data": {
      "text/html": [
       "<div>\n",
       "<style scoped>\n",
       "    .dataframe tbody tr th:only-of-type {\n",
       "        vertical-align: middle;\n",
       "    }\n",
       "\n",
       "    .dataframe tbody tr th {\n",
       "        vertical-align: top;\n",
       "    }\n",
       "\n",
       "    .dataframe thead th {\n",
       "        text-align: right;\n",
       "    }\n",
       "</style>\n",
       "<table border=\"1\" class=\"dataframe\">\n",
       "  <thead>\n",
       "    <tr style=\"text-align: right;\">\n",
       "      <th></th>\n",
       "      <th>variable_objetivo</th>\n",
       "      <th>antibiotic</th>\n",
       "      <th>antic</th>\n",
       "      <th>anticipate</th>\n",
       "      <th>anticipated</th>\n",
       "      <th>anticipating</th>\n",
       "      <th>anticipation</th>\n",
       "      <th>antidisestablishmentarianism</th>\n",
       "      <th>antigravity</th>\n",
       "      <th>antiitch</th>\n",
       "      <th>...</th>\n",
       "      <th>zstanu</th>\n",
       "      <th>zu</th>\n",
       "      <th>zuccini</th>\n",
       "      <th>zuljin</th>\n",
       "      <th>zulu</th>\n",
       "      <th>zuluxhosa</th>\n",
       "      <th>zum</th>\n",
       "      <th>zumba</th>\n",
       "      <th>zune</th>\n",
       "      <th>zwarte</th>\n",
       "    </tr>\n",
       "  </thead>\n",
       "  <tbody>\n",
       "    <tr>\n",
       "      <th>0</th>\n",
       "      <td>negativa</td>\n",
       "      <td>3</td>\n",
       "      <td>0</td>\n",
       "      <td>0</td>\n",
       "      <td>1</td>\n",
       "      <td>2</td>\n",
       "      <td>0</td>\n",
       "      <td>1</td>\n",
       "      <td>1</td>\n",
       "      <td>1</td>\n",
       "      <td>...</td>\n",
       "      <td>1</td>\n",
       "      <td>2</td>\n",
       "      <td>1</td>\n",
       "      <td>1</td>\n",
       "      <td>0</td>\n",
       "      <td>1</td>\n",
       "      <td>0</td>\n",
       "      <td>1</td>\n",
       "      <td>2</td>\n",
       "      <td>1</td>\n",
       "    </tr>\n",
       "    <tr>\n",
       "      <th>1</th>\n",
       "      <td>positiva</td>\n",
       "      <td>0</td>\n",
       "      <td>1</td>\n",
       "      <td>1</td>\n",
       "      <td>0</td>\n",
       "      <td>2</td>\n",
       "      <td>2</td>\n",
       "      <td>0</td>\n",
       "      <td>0</td>\n",
       "      <td>0</td>\n",
       "      <td>...</td>\n",
       "      <td>0</td>\n",
       "      <td>0</td>\n",
       "      <td>0</td>\n",
       "      <td>0</td>\n",
       "      <td>1</td>\n",
       "      <td>0</td>\n",
       "      <td>1</td>\n",
       "      <td>0</td>\n",
       "      <td>3</td>\n",
       "      <td>0</td>\n",
       "    </tr>\n",
       "  </tbody>\n",
       "</table>\n",
       "<p>2 rows × 25668 columns</p>\n",
       "</div>"
      ],
      "text/plain": [
       "  variable_objetivo  antibiotic  antic  anticipate  anticipated  anticipating  \\\n",
       "0          negativa           3      0           0            1             2   \n",
       "1          positiva           0      1           1            0             2   \n",
       "\n",
       "   anticipation  antidisestablishmentarianism  antigravity  antiitch  ...  \\\n",
       "0             0                             1            1         1  ...   \n",
       "1             2                             0            0         0  ...   \n",
       "\n",
       "   zstanu  zu  zuccini  zuljin  zulu  zuluxhosa  zum  zumba  zune  zwarte  \n",
       "0       1   2        1       1     0          1    0      1     2       1  \n",
       "1       0   0        0       0     1          0    1      0     3       0  \n",
       "\n",
       "[2 rows x 25668 columns]"
      ]
     },
     "execution_count": 46,
     "metadata": {},
     "output_type": "execute_result"
    }
   ],
   "source": [
    "df_comun.head()"
   ]
  },
  {
   "cell_type": "code",
   "execution_count": 50,
   "metadata": {},
   "outputs": [],
   "source": [
    "df_comun = df_comun.T.iloc[1:, :]\n",
    "df_comun.columns = ['negativa', 'positiva']"
   ]
  },
  {
   "cell_type": "code",
   "execution_count": 52,
   "metadata": {},
   "outputs": [],
   "source": [
    "df_negative = df_comun.loc[:, 'negativa']\n",
    "df_positive = df_comun.loc[:, 'positiva']"
   ]
  },
  {
   "cell_type": "markdown",
   "metadata": {},
   "source": [
    "#### palabras mas comunes en emocion negativa"
   ]
  },
  {
   "cell_type": "code",
   "execution_count": 53,
   "metadata": {},
   "outputs": [
    {
     "data": {
      "text/plain": [
       "to      5760\n",
       "the     4905\n",
       "it      3499\n",
       "my      3349\n",
       "is      2355\n",
       "you     2342\n",
       "in      2187\n",
       "im      2002\n",
       "for     1878\n",
       "me      1726\n",
       "of      1717\n",
       "on      1606\n",
       "but     1552\n",
       "have    1519\n",
       "so      1508\n",
       "that    1499\n",
       "not     1321\n",
       "just    1185\n",
       "be      1176\n",
       "at      1120\n",
       "Name: negativa, dtype: object"
      ]
     },
     "execution_count": 53,
     "metadata": {},
     "output_type": "execute_result"
    }
   ],
   "source": [
    "df_negative.sort_values(ascending=False).head(20)"
   ]
  },
  {
   "cell_type": "markdown",
   "metadata": {},
   "source": [
    "#### palabras mas comunes en emocion positiva"
   ]
  },
  {
   "cell_type": "code",
   "execution_count": 54,
   "metadata": {},
   "outputs": [
    {
     "data": {
      "text/plain": [
       "to      4981\n",
       "the     4808\n",
       "it      3099\n",
       "you     2924\n",
       "my      2656\n",
       "for     2139\n",
       "is      1958\n",
       "in      1913\n",
       "day     1711\n",
       "of      1616\n",
       "on      1508\n",
       "im      1405\n",
       "me      1365\n",
       "have    1283\n",
       "so      1271\n",
       "that    1264\n",
       "with    1213\n",
       "just    1175\n",
       "good    1101\n",
       "love    1046\n",
       "Name: positiva, dtype: object"
      ]
     },
     "execution_count": 54,
     "metadata": {},
     "output_type": "execute_result"
    }
   ],
   "source": [
    "df_positive.sort_values(ascending=False).head(20)"
   ]
  },
  {
   "cell_type": "markdown",
   "metadata": {},
   "source": [
    "# Hito 2"
   ]
  },
  {
   "cell_type": "markdown",
   "metadata": {},
   "source": [
    "## Separamos en conjuntos de entrenamiento y validación"
   ]
  },
  {
   "cell_type": "code",
   "execution_count": 78,
   "metadata": {},
   "outputs": [],
   "source": [
    "vo_dict = {'negativa': 0, 'positiva': 1}\n",
    "\n",
    "df_model['variable_objetivo'] = df_model['variable_objetivo'].replace(vo_dict)"
   ]
  },
  {
   "cell_type": "code",
   "execution_count": 80,
   "metadata": {},
   "outputs": [],
   "source": [
    "X_train, X_test, y_train, y_test = train_test_split(x_attr, df_model['variable_objetivo'], test_size=.33, random_state=23679)"
   ]
  },
  {
   "cell_type": "markdown",
   "metadata": {},
   "source": [
    "## Estandarizamos los datos con scikit-learn"
   ]
  },
  {
   "cell_type": "code",
   "execution_count": 83,
   "metadata": {},
   "outputs": [],
   "source": [
    "# estandarizamos conjunto de entrenamiento y testeo\n",
    "X_train_std = StandardScaler().fit_transform(X_train)\n",
    "X_test_std = StandardScaler().fit_transform(X_test)\n"
   ]
  },
  {
   "cell_type": "markdown",
   "metadata": {},
   "source": [
    "## Búsqueda de Grillas para modelos"
   ]
  },
  {
   "cell_type": "code",
   "execution_count": 85,
   "metadata": {},
   "outputs": [],
   "source": [
    "# diccionario que permitirá acceder a modelos y grillas\n",
    "\n",
    "model_grid_dict = {\n",
    "    LogisticRegression(): {'C': np.logspace(-2, 2, 4), 'penalty': ['l1', 'l2']},\n",
    "    KMeans(): {'n_clusters': [2, 3, 4, 5]},\n",
    "    LinearDiscriminantAnalysis(): {'n_components': [10, 15, 20, 25, 30], 'learning_decay': [.5, .7]},\n",
    "    RandomForestClassifier(): {'n_estimators': range(20, 1000, 10), 'max_features': ['log2', 'sqrt']},\n",
    "    GradientBoostingClassifier(): {'n_estimators': [100, 500, 1000], 'learning_rate': [0.1, 0.5, 1, 5], 'subsample': np.linspace(0.1, 1.0, 3, endpoint=True, dtype=float)}\n",
    "}"
   ]
  },
  {
   "cell_type": "code",
   "execution_count": 87,
   "metadata": {},
   "outputs": [
    {
     "name": "stderr",
     "output_type": "stream",
     "text": [
      "/Users/gonzalooportus/.virtualenvs/venv-ml/lib/python3.9/site-packages/sklearn/linear_model/_logistic.py:444: ConvergenceWarning: lbfgs failed to converge (status=1):\n",
      "STOP: TOTAL NO. of ITERATIONS REACHED LIMIT.\n",
      "\n",
      "Increase the number of iterations (max_iter) or scale the data as shown in:\n",
      "    https://scikit-learn.org/stable/modules/preprocessing.html\n",
      "Please also refer to the documentation for alternative solver options:\n",
      "    https://scikit-learn.org/stable/modules/linear_model.html#logistic-regression\n",
      "  n_iter_i = _check_optimize_result(\n",
      "/Users/gonzalooportus/.virtualenvs/venv-ml/lib/python3.9/site-packages/sklearn/linear_model/_logistic.py:444: ConvergenceWarning: lbfgs failed to converge (status=1):\n",
      "STOP: TOTAL NO. of ITERATIONS REACHED LIMIT.\n",
      "\n",
      "Increase the number of iterations (max_iter) or scale the data as shown in:\n",
      "    https://scikit-learn.org/stable/modules/preprocessing.html\n",
      "Please also refer to the documentation for alternative solver options:\n",
      "    https://scikit-learn.org/stable/modules/linear_model.html#logistic-regression\n",
      "  n_iter_i = _check_optimize_result(\n",
      "/Users/gonzalooportus/.virtualenvs/venv-ml/lib/python3.9/site-packages/sklearn/linear_model/_logistic.py:444: ConvergenceWarning: lbfgs failed to converge (status=1):\n",
      "STOP: TOTAL NO. of ITERATIONS REACHED LIMIT.\n",
      "\n",
      "Increase the number of iterations (max_iter) or scale the data as shown in:\n",
      "    https://scikit-learn.org/stable/modules/preprocessing.html\n",
      "Please also refer to the documentation for alternative solver options:\n",
      "    https://scikit-learn.org/stable/modules/linear_model.html#logistic-regression\n",
      "  n_iter_i = _check_optimize_result(\n",
      "/Users/gonzalooportus/.virtualenvs/venv-ml/lib/python3.9/site-packages/sklearn/linear_model/_logistic.py:444: ConvergenceWarning: lbfgs failed to converge (status=1):\n",
      "STOP: TOTAL NO. of ITERATIONS REACHED LIMIT.\n",
      "\n",
      "Increase the number of iterations (max_iter) or scale the data as shown in:\n",
      "    https://scikit-learn.org/stable/modules/preprocessing.html\n",
      "Please also refer to the documentation for alternative solver options:\n",
      "    https://scikit-learn.org/stable/modules/linear_model.html#logistic-regression\n",
      "  n_iter_i = _check_optimize_result(\n"
     ]
    },
    {
     "name": "stdout",
     "output_type": "stream",
     "text": [
      "Modelo predictivo: LogisticRegression()\n",
      "Best params: {'C': 0.21544346900318834, 'penalty': 'l2'}\n",
      "Best score: 0.6675621890547263\n",
      "              precision    recall  f1-score   support\n",
      "\n",
      "           0       0.69      0.72      0.70      5092\n",
      "           1       0.69      0.65      0.67      4808\n",
      "\n",
      "    accuracy                           0.69      9900\n",
      "   macro avg       0.69      0.69      0.69      9900\n",
      "weighted avg       0.69      0.69      0.69      9900\n",
      "\n",
      "Modelo predictivo: KMeans()\n",
      "Best params: {'n_clusters': 5}\n",
      "Best score: -110809.35407548108\n",
      "              precision    recall  f1-score   support\n",
      "\n",
      "           0       0.55      0.17      0.26      5092\n",
      "           1       0.47      0.38      0.42      4808\n",
      "           2       0.00      0.00      0.00         0\n",
      "           3       0.00      0.00      0.00         0\n",
      "           4       0.00      0.00      0.00         0\n",
      "\n",
      "    accuracy                           0.27      9900\n",
      "   macro avg       0.21      0.11      0.14      9900\n",
      "weighted avg       0.51      0.27      0.34      9900\n",
      "\n"
     ]
    }
   ],
   "source": [
    "i = 0\n",
    "for model_, params_ in model_grid_dict.items():\n",
    "    if i < 2:\n",
    "        get_params = GridSearchCV(model_, params_, cv=2, n_jobs=-1, verbose=0)\n",
    "        get_params.fit(X_train, y_train)\n",
    "        best_model = get_params.best_estimator_.fit(X_train, y_train)\n",
    "        print(f'Modelo predictivo: {model_}')\n",
    "        print(f'Best params: {get_params.best_params_}')\n",
    "        print(f'Best score: {get_params.best_score_}')\n",
    "        print(classification_report(y_test, best_model.predict(X_test)))\n",
    "        i += 1"
   ]
  },
  {
   "cell_type": "markdown",
   "metadata": {},
   "source": [
    "Resultados:\n",
    "\n",
    "* La regresión logística obtuvo un accuracy de 69%, siendo liderada por la correcta clasificación de la emoción negativa. Esto puede ser dicho ya que el f1-score obtenido es de 70% para emociones negativas, y 69% para emociones positivas. En ello, la mayor limitancia del modelo es en etiquetar correctamente la emocion positiva\n",
    "\n",
    "* En cuanto a Kmeans, se obtiene un accuracy bajo de 27%, donde se puede inferir que: el numero de clusters entregados en la grilla probablemente es muy bajo, o no es el mejor tipo de modelo para realizar prediccion de este estilo. "
   ]
  },
  {
   "cell_type": "code",
   "execution_count": null,
   "metadata": {},
   "outputs": [],
   "source": []
  },
  {
   "cell_type": "code",
   "execution_count": null,
   "metadata": {},
   "outputs": [],
   "source": []
  },
  {
   "cell_type": "code",
   "execution_count": null,
   "metadata": {},
   "outputs": [],
   "source": []
  },
  {
   "cell_type": "code",
   "execution_count": null,
   "metadata": {},
   "outputs": [],
   "source": []
  },
  {
   "cell_type": "code",
   "execution_count": null,
   "metadata": {},
   "outputs": [],
   "source": []
  },
  {
   "cell_type": "code",
   "execution_count": null,
   "metadata": {},
   "outputs": [],
   "source": []
  }
 ],
 "metadata": {
  "kernelspec": {
   "display_name": "Python 3.9.13 ('venv-ml')",
   "language": "python",
   "name": "python3"
  },
  "language_info": {
   "codemirror_mode": {
    "name": "ipython",
    "version": 3
   },
   "file_extension": ".py",
   "mimetype": "text/x-python",
   "name": "python",
   "nbconvert_exporter": "python",
   "pygments_lexer": "ipython3",
   "version": "3.9.13"
  },
  "orig_nbformat": 4,
  "vscode": {
   "interpreter": {
    "hash": "b1b303acd0c11ca3b4a72b7c4bcfa9e6d93c50d16ae889b8d4c17cd8b47c442f"
   }
  }
 },
 "nbformat": 4,
 "nbformat_minor": 2
}
