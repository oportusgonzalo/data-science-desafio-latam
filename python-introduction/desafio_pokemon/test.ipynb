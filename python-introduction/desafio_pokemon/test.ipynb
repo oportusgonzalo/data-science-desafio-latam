{
 "cells": [
  {
   "cell_type": "code",
   "execution_count": 86,
   "metadata": {},
   "outputs": [],
   "source": [
    "import requests\n",
    "import json"
   ]
  },
  {
   "cell_type": "code",
   "execution_count": 87,
   "metadata": {},
   "outputs": [],
   "source": [
    "url = 'https://pokeapi.co/api/v2/pokemon/charizard'\n",
    "json_ = json.loads(requests.get(url).text)"
   ]
  },
  {
   "cell_type": "code",
   "execution_count": 88,
   "metadata": {},
   "outputs": [],
   "source": [
    "keys_dict = ['id', 'name', 'weight', 'stats', 'types', 'sprites']"
   ]
  },
  {
   "cell_type": "code",
   "execution_count": 89,
   "metadata": {},
   "outputs": [
    {
     "data": {
      "text/plain": [
       "'charizard'"
      ]
     },
     "execution_count": 89,
     "metadata": {},
     "output_type": "execute_result"
    }
   ],
   "source": [
    "json_['name']"
   ]
  },
  {
   "cell_type": "code",
   "execution_count": 23,
   "metadata": {},
   "outputs": [
    {
     "data": {
      "text/plain": [
       "dict_keys(['abilities', 'base_experience', 'forms', 'game_indices', 'height', 'held_items', 'id', 'is_default', 'location_area_encounters', 'moves', 'name', 'order', 'past_types', 'species', 'sprites', 'stats', 'types', 'weight'])"
      ]
     },
     "execution_count": 23,
     "metadata": {},
     "output_type": "execute_result"
    }
   ],
   "source": [
    "json_.keys()"
   ]
  },
  {
   "cell_type": "code",
   "execution_count": 100,
   "metadata": {},
   "outputs": [],
   "source": [
    "dict_ = {'double_damage_from': ['Tierra', 'Roca', 'Agua'], 'type_es': ['Fuego']}"
   ]
  },
  {
   "cell_type": "code",
   "execution_count": 103,
   "metadata": {},
   "outputs": [
    {
     "data": {
      "text/plain": [
       "list"
      ]
     },
     "execution_count": 103,
     "metadata": {},
     "output_type": "execute_result"
    }
   ],
   "source": [
    "type(dict_['type_es'])"
   ]
  },
  {
   "cell_type": "code",
   "execution_count": 105,
   "metadata": {},
   "outputs": [
    {
     "name": "stdout",
     "output_type": "stream",
     "text": [
      "Not List\n"
     ]
    }
   ],
   "source": [
    "if type(dict_['double_damage_from']) != list:\n",
    "    print('Not List')\n",
    "else:\n",
    "    print('Is List')"
   ]
  },
  {
   "cell_type": "code",
   "execution_count": 75,
   "metadata": {},
   "outputs": [
    {
     "data": {
      "text/plain": [
       "('hp', 78)"
      ]
     },
     "execution_count": 75,
     "metadata": {},
     "output_type": "execute_result"
    }
   ],
   "source": [
    "json_['stats'][0]['stxat']['name'], json_['stats'][0]['base_stat']"
   ]
  },
  {
   "cell_type": "code",
   "execution_count": 41,
   "metadata": {},
   "outputs": [
    {
     "data": {
      "text/plain": [
       "['fire', 'flying']"
      ]
     },
     "execution_count": 41,
     "metadata": {},
     "output_type": "execute_result"
    }
   ],
   "source": [
    "list_types = [json_['types'][ele]['type']['name'] for ele in range(0, len(json_['types']))]\n",
    "list_types"
   ]
  },
  {
   "cell_type": "code",
   "execution_count": 55,
   "metadata": {},
   "outputs": [
    {
     "name": "stdout",
     "output_type": "stream",
     "text": [
      "['Fuego']\n",
      "{'double_damage_from': [{'name': 'ground', 'url': 'https://pokeapi.co/api/v2/type/5/'}, {'name': 'rock', 'url': 'https://pokeapi.co/api/v2/type/6/'}, {'name': 'water', 'url': 'https://pokeapi.co/api/v2/type/11/'}], 'double_damage_to': [{'name': 'bug', 'url': 'https://pokeapi.co/api/v2/type/7/'}, {'name': 'steel', 'url': 'https://pokeapi.co/api/v2/type/9/'}, {'name': 'grass', 'url': 'https://pokeapi.co/api/v2/type/12/'}, {'name': 'ice', 'url': 'https://pokeapi.co/api/v2/type/15/'}], 'half_damage_from': [{'name': 'bug', 'url': 'https://pokeapi.co/api/v2/type/7/'}, {'name': 'steel', 'url': 'https://pokeapi.co/api/v2/type/9/'}, {'name': 'fire', 'url': 'https://pokeapi.co/api/v2/type/10/'}, {'name': 'grass', 'url': 'https://pokeapi.co/api/v2/type/12/'}, {'name': 'ice', 'url': 'https://pokeapi.co/api/v2/type/15/'}, {'name': 'fairy', 'url': 'https://pokeapi.co/api/v2/type/18/'}], 'half_damage_to': [{'name': 'rock', 'url': 'https://pokeapi.co/api/v2/type/6/'}, {'name': 'fire', 'url': 'https://pokeapi.co/api/v2/type/10/'}, {'name': 'water', 'url': 'https://pokeapi.co/api/v2/type/11/'}, {'name': 'dragon', 'url': 'https://pokeapi.co/api/v2/type/16/'}], 'no_damage_from': [], 'no_damage_to': []}\n"
     ]
    }
   ],
   "source": [
    "# charizard\n",
    "for element in list_types[:1]:\n",
    "    url_3 = f'https://pokeapi.co/api/v2/type/{element}'\n",
    "    json_3 = json.loads(requests.get(url_3).text)\n",
    "    name_ = [json_3['names'][ele]['name'] for ele in range(0, len(json_3['names'])) if json_3['names'][ele]['language']['name'] == 'es']\n",
    "    data = json_3['damage_relations']\n",
    "    print(name_)\n",
    "    print(data)"
   ]
  },
  {
   "cell_type": "code",
   "execution_count": 52,
   "metadata": {},
   "outputs": [
    {
     "data": {
      "text/plain": [
       "['Fuego']"
      ]
     },
     "execution_count": 52,
     "metadata": {},
     "output_type": "execute_result"
    }
   ],
   "source": [
    "name_ = [json_3['names'][ele]['name'] for ele in range(0, len(json_3['names'])) if json_3['names'][ele]['language']['name'] == 'es']\n",
    "name_"
   ]
  },
  {
   "cell_type": "code",
   "execution_count": 73,
   "metadata": {},
   "outputs": [
    {
     "data": {
      "text/plain": [
       "['Fuego']"
      ]
     },
     "execution_count": 73,
     "metadata": {},
     "output_type": "execute_result"
    }
   ],
   "source": [
    "[json_3['names'][element]['name'] for element in range(0, len(json_3['names'])) if json_3['names'][element]['language']['name'] == 'es']"
   ]
  },
  {
   "cell_type": "code",
   "execution_count": 72,
   "metadata": {},
   "outputs": [
    {
     "data": {
      "text/plain": [
       "[{'language': {'name': 'ja-Hrkt',\n",
       "   'url': 'https://pokeapi.co/api/v2/language/1/'},\n",
       "  'name': 'ほのお'},\n",
       " {'language': {'name': 'ko', 'url': 'https://pokeapi.co/api/v2/language/3/'},\n",
       "  'name': '불꽃'},\n",
       " {'language': {'name': 'zh-Hant',\n",
       "   'url': 'https://pokeapi.co/api/v2/language/4/'},\n",
       "  'name': '火'},\n",
       " {'language': {'name': 'fr', 'url': 'https://pokeapi.co/api/v2/language/5/'},\n",
       "  'name': 'Feu'},\n",
       " {'language': {'name': 'de', 'url': 'https://pokeapi.co/api/v2/language/6/'},\n",
       "  'name': 'Feuer'},\n",
       " {'language': {'name': 'es', 'url': 'https://pokeapi.co/api/v2/language/7/'},\n",
       "  'name': 'Fuego'},\n",
       " {'language': {'name': 'it', 'url': 'https://pokeapi.co/api/v2/language/8/'},\n",
       "  'name': 'Fuoco'},\n",
       " {'language': {'name': 'en', 'url': 'https://pokeapi.co/api/v2/language/9/'},\n",
       "  'name': 'Fire'},\n",
       " {'language': {'name': 'ja', 'url': 'https://pokeapi.co/api/v2/language/11/'},\n",
       "  'name': 'ほのお'},\n",
       " {'language': {'name': 'zh-Hans',\n",
       "   'url': 'https://pokeapi.co/api/v2/language/12/'},\n",
       "  'name': '火'}]"
      ]
     },
     "execution_count": 72,
     "metadata": {},
     "output_type": "execute_result"
    }
   ],
   "source": [
    "json_3['names']"
   ]
  },
  {
   "cell_type": "code",
   "execution_count": 62,
   "metadata": {},
   "outputs": [
    {
     "data": {
      "text/plain": [
       "['ground', 'rock', 'water']"
      ]
     },
     "execution_count": 62,
     "metadata": {},
     "output_type": "execute_result"
    }
   ],
   "source": [
    "[json_3['damage_relations']['double_damage_from'][element]['name'] for element in range(0, len(json_3['damage_relations']['double_damage_from']))] "
   ]
  },
  {
   "cell_type": "code",
   "execution_count": 66,
   "metadata": {},
   "outputs": [
    {
     "data": {
      "text/plain": [
       "['bug', 'steel', 'grass', 'ice']"
      ]
     },
     "execution_count": 66,
     "metadata": {},
     "output_type": "execute_result"
    }
   ],
   "source": [
    "[json_3['damage_relations']['double_damage_to'][element]['name'] for element in range(0, len(json_3['damage_relations']['double_damage_to']))] "
   ]
  },
  {
   "cell_type": "code",
   "execution_count": 67,
   "metadata": {},
   "outputs": [
    {
     "data": {
      "text/plain": [
       "[{'name': 'bug', 'url': 'https://pokeapi.co/api/v2/type/7/'},\n",
       " {'name': 'steel', 'url': 'https://pokeapi.co/api/v2/type/9/'},\n",
       " {'name': 'fire', 'url': 'https://pokeapi.co/api/v2/type/10/'},\n",
       " {'name': 'grass', 'url': 'https://pokeapi.co/api/v2/type/12/'},\n",
       " {'name': 'ice', 'url': 'https://pokeapi.co/api/v2/type/15/'},\n",
       " {'name': 'fairy', 'url': 'https://pokeapi.co/api/v2/type/18/'}]"
      ]
     },
     "execution_count": 67,
     "metadata": {},
     "output_type": "execute_result"
    }
   ],
   "source": [
    "json_3['damage_relations']['half_damage_from']"
   ]
  },
  {
   "cell_type": "code",
   "execution_count": null,
   "metadata": {},
   "outputs": [],
   "source": []
  }
 ],
 "metadata": {
  "interpreter": {
   "hash": "e42d0cfb3f2e9fb997c436ae396a5ae4052d30b98538ceadd154208bf2ec1ed2"
  },
  "kernelspec": {
   "display_name": "Python 3.9.12 ('venv': venv)",
   "language": "python",
   "name": "python3"
  },
  "language_info": {
   "codemirror_mode": {
    "name": "ipython",
    "version": 3
   },
   "file_extension": ".py",
   "mimetype": "text/x-python",
   "name": "python",
   "nbconvert_exporter": "python",
   "pygments_lexer": "ipython3",
   "version": "3.9.12"
  },
  "orig_nbformat": 4
 },
 "nbformat": 4,
 "nbformat_minor": 2
}
